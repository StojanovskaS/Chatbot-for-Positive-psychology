{
  "nbformat": 4,
  "nbformat_minor": 0,
  "metadata": {
    "colab": {
      "name": "Positiva_nlp.ipynb",
      "provenance": [],
      "collapsed_sections": []
    },
    "kernelspec": {
      "name": "python3",
      "display_name": "Python 3"
    },
    "language_info": {
      "name": "python"
    }
  },
  "cells": [
    {
      "cell_type": "markdown",
      "metadata": {
        "id": "TzrP4tXyq_js"
      },
      "source": [
        "Множество / Dataset\n"
      ]
    },
    {
      "cell_type": "code",
      "metadata": {
        "id": "lzaQVGFzbwyr"
      },
      "source": [
        "import pandas as pd\n",
        "import numpy as np\n"
      ],
      "execution_count": null,
      "outputs": []
    },
    {
      "cell_type": "code",
      "metadata": {
        "id": "b90LxC7WbuZ5"
      },
      "source": [
        "trening_1=pd.read_csv(\"/content/drive/MyDrive/dataset_sandra_new_300_emocii.csv\")\n",
        "trening_2=pd.read_csv(\"/content/drive/MyDrive/Dataset_NLP_elena_300.csv\")\n"
      ],
      "execution_count": null,
      "outputs": []
    },
    {
      "cell_type": "markdown",
      "metadata": {
        "id": "8e4gP6NsSjhe"
      },
      "source": [
        "Data preparation / Предпроцесирање на податочното множество"
      ]
    },
    {
      "cell_type": "code",
      "metadata": {
        "id": "Tu1Fw0ybOThd"
      },
      "source": [
        "# solving bug / poravanje na greska\n",
        "trening_2.rename(columns={\"Whilst death anxiety itself isn't a disorder, existential fears lie at the core of many anxiety and depressive disorders. This means that it is often linked to these kinds of mental health issues – Generalised Anxiety Disorder (GAD) in particular, which is characterised by frequent and uncontrollable worrying.\":\"A\"},inplace=True)"
      ],
      "execution_count": null,
      "outputs": []
    },
    {
      "cell_type": "code",
      "metadata": {
        "colab": {
          "base_uri": "https://localhost:8080/",
          "height": 36
        },
        "id": "mP1ABT_yPG2b",
        "outputId": "71610a1f-ae53-452c-e1df-87a05e57d05b"
      },
      "source": [
        "trening_2.rename(columns={'A':'Answers'},inplace=True)\n",
        "trening_2.columns[1]\n"
      ],
      "execution_count": null,
      "outputs": [
        {
          "output_type": "execute_result",
          "data": {
            "application/vnd.google.colaboratory.intrinsic+json": {
              "type": "string"
            },
            "text/plain": [
              "'Answers'"
            ]
          },
          "metadata": {},
          "execution_count": 78
        }
      ]
    },
    {
      "cell_type": "code",
      "metadata": {
        "colab": {
          "base_uri": "https://localhost:8080/",
          "height": 204
        },
        "id": "N1YqMSBXb4Fr",
        "outputId": "61d50054-3568-4021-9856-f0c64ad65808"
      },
      "source": [
        "trening_1.rename(columns={'Emocia': 'Sentiment'}, inplace=True)\n",
        "trening_1.rename(columns={\"Question\":\"Questions\"},inplace=True)\n",
        "trening_1.rename(columns={\"Answer\":\"Answers\"},inplace=True)\n",
        "trening_1.head()"
      ],
      "execution_count": null,
      "outputs": [
        {
          "output_type": "execute_result",
          "data": {
            "text/html": [
              "<div>\n",
              "<style scoped>\n",
              "    .dataframe tbody tr th:only-of-type {\n",
              "        vertical-align: middle;\n",
              "    }\n",
              "\n",
              "    .dataframe tbody tr th {\n",
              "        vertical-align: top;\n",
              "    }\n",
              "\n",
              "    .dataframe thead th {\n",
              "        text-align: right;\n",
              "    }\n",
              "</style>\n",
              "<table border=\"1\" class=\"dataframe\">\n",
              "  <thead>\n",
              "    <tr style=\"text-align: right;\">\n",
              "      <th></th>\n",
              "      <th>Questions</th>\n",
              "      <th>Answers</th>\n",
              "      <th>Sentiment</th>\n",
              "    </tr>\n",
              "  </thead>\n",
              "  <tbody>\n",
              "    <tr>\n",
              "      <th>0</th>\n",
              "      <td>I need help with abusive neighbor</td>\n",
              "      <td>I know it's not a great help but have you ever...</td>\n",
              "      <td>fear</td>\n",
              "    </tr>\n",
              "    <tr>\n",
              "      <th>1</th>\n",
              "      <td>I need help with abusive neighbor</td>\n",
              "      <td>I suppose you could try ignoring it. I mean- i...</td>\n",
              "      <td>faer</td>\n",
              "    </tr>\n",
              "    <tr>\n",
              "      <th>2</th>\n",
              "      <td>I need help with abusive neighbor</td>\n",
              "      <td>I understand about not wanting to move- short ...</td>\n",
              "      <td>fear</td>\n",
              "    </tr>\n",
              "    <tr>\n",
              "      <th>3</th>\n",
              "      <td>\\n\\n \\nIs the MBTi test accurate and reliable?</td>\n",
              "      <td>Just a thought, although we know the tests, wh...</td>\n",
              "      <td>curiosity</td>\n",
              "    </tr>\n",
              "    <tr>\n",
              "      <th>4</th>\n",
              "      <td>Is the MBTi test accurate and reliable?</td>\n",
              "      <td>So first off I am not a professional so this i...</td>\n",
              "      <td>curiosity</td>\n",
              "    </tr>\n",
              "  </tbody>\n",
              "</table>\n",
              "</div>"
            ],
            "text/plain": [
              "                                        Questions  ...  Sentiment\n",
              "0               I need help with abusive neighbor  ...       fear\n",
              "1               I need help with abusive neighbor  ...       faer\n",
              "2               I need help with abusive neighbor  ...       fear\n",
              "3  \\n\\n \\nIs the MBTi test accurate and reliable?  ...  curiosity\n",
              "4         Is the MBTi test accurate and reliable?  ...  curiosity\n",
              "\n",
              "[5 rows x 3 columns]"
            ]
          },
          "metadata": {},
          "execution_count": 79
        }
      ]
    },
    {
      "cell_type": "code",
      "metadata": {
        "colab": {
          "base_uri": "https://localhost:8080/"
        },
        "id": "cP_Fl9cseekR",
        "outputId": "85871343-46a6-4ec6-eebb-94bfe5974508"
      },
      "source": [
        "trening_1.Sentiment.unique()"
      ],
      "execution_count": null,
      "outputs": [
        {
          "output_type": "execute_result",
          "data": {
            "text/plain": [
              "array(['fear', 'faer', 'curiosity', 'grief', 'happy', 'love'],\n",
              "      dtype=object)"
            ]
          },
          "metadata": {},
          "execution_count": 80
        }
      ]
    },
    {
      "cell_type": "code",
      "metadata": {
        "id": "hH378yhUemrY"
      },
      "source": [
        "trening_1.Sentiment.replace(\"faer\",\"fear\",inplace=True)"
      ],
      "execution_count": null,
      "outputs": []
    },
    {
      "cell_type": "code",
      "metadata": {
        "colab": {
          "base_uri": "https://localhost:8080/"
        },
        "id": "bJMVkunYPwUM",
        "outputId": "f6b2afb5-0674-49eb-ccf6-e8facd998ea7"
      },
      "source": [
        "trening_2.Sentiment.unique()"
      ],
      "execution_count": null,
      "outputs": [
        {
          "output_type": "execute_result",
          "data": {
            "text/plain": [
              "array(['Grief', 'Curiosity', 'Love', 'Fear', 'Happiness', nan],\n",
              "      dtype=object)"
            ]
          },
          "metadata": {},
          "execution_count": 83
        }
      ]
    },
    {
      "cell_type": "code",
      "metadata": {
        "id": "bKClzksHP6oj"
      },
      "source": [
        "trening_2.Sentiment.replace(\"Happiness\",\"happy\",inplace=True)\n",
        "trening_2.Sentiment.replace(\"Love\",\"love\",inplace=True)\n",
        "trening_2.Sentiment.replace(\"Curiosity\",\"curiosity\",inplace=True)\n",
        "trening_2.Sentiment.replace(\"Fear\",\"fear\",inplace=True)\n",
        "trening_2.Sentiment.replace(\"Grief\",\"grief\",inplace=True)\n",
        "\n",
        "\n"
      ],
      "execution_count": null,
      "outputs": []
    },
    {
      "cell_type": "code",
      "metadata": {
        "colab": {
          "base_uri": "https://localhost:8080/",
          "height": 204
        },
        "id": "b5qinljGcStg",
        "outputId": "845808af-6101-4ed7-9674-564b94ef9761"
      },
      "source": [
        "trening = pd.concat([trening_1, trening_2], ignore_index=True, sort=False)\n",
        "trening.head()\n"
      ],
      "execution_count": null,
      "outputs": [
        {
          "output_type": "execute_result",
          "data": {
            "text/html": [
              "<div>\n",
              "<style scoped>\n",
              "    .dataframe tbody tr th:only-of-type {\n",
              "        vertical-align: middle;\n",
              "    }\n",
              "\n",
              "    .dataframe tbody tr th {\n",
              "        vertical-align: top;\n",
              "    }\n",
              "\n",
              "    .dataframe thead th {\n",
              "        text-align: right;\n",
              "    }\n",
              "</style>\n",
              "<table border=\"1\" class=\"dataframe\">\n",
              "  <thead>\n",
              "    <tr style=\"text-align: right;\">\n",
              "      <th></th>\n",
              "      <th>Questions</th>\n",
              "      <th>Answers</th>\n",
              "      <th>Sentiment</th>\n",
              "    </tr>\n",
              "  </thead>\n",
              "  <tbody>\n",
              "    <tr>\n",
              "      <th>0</th>\n",
              "      <td>I need help with abusive neighbor</td>\n",
              "      <td>I know it's not a great help but have you ever...</td>\n",
              "      <td>fear</td>\n",
              "    </tr>\n",
              "    <tr>\n",
              "      <th>1</th>\n",
              "      <td>I need help with abusive neighbor</td>\n",
              "      <td>I suppose you could try ignoring it. I mean- i...</td>\n",
              "      <td>fear</td>\n",
              "    </tr>\n",
              "    <tr>\n",
              "      <th>2</th>\n",
              "      <td>I need help with abusive neighbor</td>\n",
              "      <td>I understand about not wanting to move- short ...</td>\n",
              "      <td>fear</td>\n",
              "    </tr>\n",
              "    <tr>\n",
              "      <th>3</th>\n",
              "      <td>\\n\\n \\nIs the MBTi test accurate and reliable?</td>\n",
              "      <td>Just a thought, although we know the tests, wh...</td>\n",
              "      <td>curiosity</td>\n",
              "    </tr>\n",
              "    <tr>\n",
              "      <th>4</th>\n",
              "      <td>Is the MBTi test accurate and reliable?</td>\n",
              "      <td>So first off I am not a professional so this i...</td>\n",
              "      <td>curiosity</td>\n",
              "    </tr>\n",
              "  </tbody>\n",
              "</table>\n",
              "</div>"
            ],
            "text/plain": [
              "                                        Questions  ...  Sentiment\n",
              "0               I need help with abusive neighbor  ...       fear\n",
              "1               I need help with abusive neighbor  ...       fear\n",
              "2               I need help with abusive neighbor  ...       fear\n",
              "3  \\n\\n \\nIs the MBTi test accurate and reliable?  ...  curiosity\n",
              "4         Is the MBTi test accurate and reliable?  ...  curiosity\n",
              "\n",
              "[5 rows x 3 columns]"
            ]
          },
          "metadata": {},
          "execution_count": 88
        }
      ]
    },
    {
      "cell_type": "code",
      "metadata": {
        "colab": {
          "base_uri": "https://localhost:8080/"
        },
        "id": "l11Zcj-EQhLg",
        "outputId": "8e323c04-ff9e-4670-e1cd-3c1b503c2966"
      },
      "source": [
        "trening.Sentiment.unique()"
      ],
      "execution_count": null,
      "outputs": [
        {
          "output_type": "execute_result",
          "data": {
            "text/plain": [
              "array(['fear', 'curiosity', 'grief', 'happy', 'love', nan], dtype=object)"
            ]
          },
          "metadata": {},
          "execution_count": 89
        }
      ]
    },
    {
      "cell_type": "code",
      "metadata": {
        "colab": {
          "base_uri": "https://localhost:8080/"
        },
        "id": "ovICTZN5Qtn6",
        "outputId": "1da845b5-bc08-4784-af29-a29fcc7d2a7c"
      },
      "source": [
        "trening['Sentiment'].isnull().values.sum()\n",
        "trening.Sentiment.replace(np.nan,\"love\",inplace=True)\n",
        "trening.Sentiment.unique()"
      ],
      "execution_count": null,
      "outputs": [
        {
          "output_type": "execute_result",
          "data": {
            "text/plain": [
              "array(['fear', 'curiosity', 'grief', 'happy', 'love'], dtype=object)"
            ]
          },
          "metadata": {},
          "execution_count": 90
        }
      ]
    },
    {
      "cell_type": "code",
      "metadata": {
        "id": "tnHW533-xanv"
      },
      "source": [
        "love_answers=[]\n",
        "happy_answers=[]\n",
        "fear_answers=[]\n",
        "curiosity_answers=[]\n",
        "grief_answers=[]\n",
        "\n",
        "love_questions=[]\n",
        "happy_questions=[]\n",
        "fear_questions=[]\n",
        "curiosity_questions=[]\n",
        "grief_questions=[]\n"
      ],
      "execution_count": null,
      "outputs": []
    },
    {
      "cell_type": "code",
      "metadata": {
        "id": "TbSQ8SD8x41n"
      },
      "source": [
        "for i in range(0,len(trening_1)):\n",
        "  if trening.Sentiment[i] == 'love':\n",
        "    love_answers.append(trening.Answers[i])\n",
        "    love_questions.append(trening.Questions[i])\n",
        "  elif trening.Sentiment[i] == 'happy':\n",
        "    happy_answers.append(trening.Answers[i])\n",
        "    happy_questions.append(trening.Questions[i])\n",
        "  elif trening.Sentiment[i] == 'grief':\n",
        "    grief_answers.append(trening.Answers[i])\n",
        "    grief_questions.append(trening.Questions[i])\n",
        "  elif trening.Sentiment[i] == 'curiosity':\n",
        "    curiosity_answers.append(trening.Answers[i])\n",
        "    curiosity_questions.append(trening.Questions[i])\n",
        "  else:\n",
        "    fear_answers.append(trening.Answers[i])\n",
        "    fear_questions.append(trening.Questions[i])\n"
      ],
      "execution_count": null,
      "outputs": []
    },
    {
      "cell_type": "markdown",
      "metadata": {
        "id": "V3KfdHqtSxr0"
      },
      "source": [
        "Dictionary creating / Креирање на речник"
      ]
    },
    {
      "cell_type": "code",
      "metadata": {
        "id": "C2vA2ZFHpDjj"
      },
      "source": [
        "# used a dictionary to represent an intents JSON file\n",
        "data = {\"intents\": [\n",
        "             {\"tag\": \"greeting\",\n",
        "              \"patterns\": [\"Hello\", \"How are you?\", \"Hi there\", \"Hi\", \"Whats up\"],\n",
        "              \"responses\": [\"Hello\", \"How are you doing?\", \"Greetings!\", \"How do you do?\"],\n",
        "             },\n",
        "             {\"tag\": \"age\",\n",
        "              \"patterns\": [\"how old are you?\", \"when is your birthday?\", \"when was you born?\"],\n",
        "              \"responses\": [\"I am machine algorithum you know , I have no age :)\"]\n",
        "             },\n",
        "             {\"tag\": \"date\",\n",
        "              \"patterns\": [\"what are you doing this weekend?\",\n",
        "\"do you want to hang out some time?\", \"what are your plans for this week\"],\n",
        "              \"responses\": [\"I am available all week\", \"I don't have any plans\", \"I am not busy\"]\n",
        "             },\n",
        "             {\"tag\": \"name\",\n",
        "              \"patterns\": [\"what's your name?\", \"what are you called?\", \"who are you?\"],\n",
        "              \"responses\": [\"My name is Positiva\", \"I'm Positiva\", \"Positiva\"]\n",
        "             },\n",
        "             {\"tag\": \"goodbye\",\n",
        "              \"patterns\": [ \"bye\", \"g2g\", \"see ya\", \"adios\", \"cya\"],\n",
        "              \"responses\": [\"It was nice speaking to you\", \"See you later\", \"Speak soon!\"]\n",
        "             },\n",
        "             {\"tag\": \"love\",\n",
        "              \"patterns\": love_questions,\n",
        "              \"responses\": love_answers\n",
        "             },\n",
        "             {\"tag\": \"happy\",\n",
        "              \"patterns\": happy_questions,\n",
        "              \"responses\": happy_answers\n",
        "             },\n",
        "             {\"tag\": \"grief\",\n",
        "              \"patterns\": grief_questions,\n",
        "              \"responses\": grief_answers\n",
        "             },\n",
        "             {\"tag\": \"curiosity\",\n",
        "              \"patterns\": curiosity_questions,\n",
        "              \"responses\": curiosity_answers\n",
        "             },\n",
        "             {\"tag\": \"fear\",\n",
        "              \"patterns\": fear_questions,\n",
        "              \"responses\": fear_answers\n",
        "             }\n",
        "]}"
      ],
      "execution_count": null,
      "outputs": []
    },
    {
      "cell_type": "markdown",
      "metadata": {
        "id": "KpVzxL_6rEqc"
      },
      "source": [
        "Библиотека / Libraries"
      ]
    },
    {
      "cell_type": "code",
      "metadata": {
        "colab": {
          "base_uri": "https://localhost:8080/"
        },
        "id": "ft3TqvAyrEZG",
        "outputId": "63c7aac8-bc6e-4ae3-aacf-ee02dd2b94a2"
      },
      "source": [
        "import json\n",
        "import string\n",
        "import random \n",
        "import nltk\n",
        "import numpy as np\n",
        "from nltk.stem import WordNetLemmatizer \n",
        "import tensorflow as tf \n",
        "from tensorflow.keras import Sequential \n",
        "from tensorflow.keras.layers import Dense, Dropout\n",
        "nltk.download(\"punkt\")\n",
        "nltk.download(\"wordnet\")"
      ],
      "execution_count": null,
      "outputs": [
        {
          "output_type": "stream",
          "text": [
            "[nltk_data] Downloading package punkt to /root/nltk_data...\n",
            "[nltk_data]   Package punkt is already up-to-date!\n",
            "[nltk_data] Downloading package wordnet to /root/nltk_data...\n",
            "[nltk_data]   Package wordnet is already up-to-date!\n"
          ],
          "name": "stdout"
        },
        {
          "output_type": "execute_result",
          "data": {
            "text/plain": [
              "True"
            ]
          },
          "metadata": {},
          "execution_count": 93
        }
      ]
    },
    {
      "cell_type": "markdown",
      "metadata": {
        "id": "-4bsIhRgrX4F"
      },
      "source": [
        "Preprocesing / Предпроцесирање на множеството"
      ]
    },
    {
      "cell_type": "code",
      "metadata": {
        "id": "nXPpE5odrS1V"
      },
      "source": [
        "# initializing lemmatizer to get stem of words / лематизација на зборовите и нивна поделба на зборови, класи == tag и прашања и одговори \n",
        "lemmatizer = WordNetLemmatizer()\n",
        "# Each list to create\n",
        "words = []\n",
        "classes = []\n",
        "doc_X = []\n",
        "doc_y = []\n",
        "# Loop through all the intents \n",
        "# tokenize each pattern and append tokens to words, the patterns and\n",
        "# the associated tag to their associated list\n",
        "for intent in data[\"intents\"]:\n",
        "    for pattern in intent[\"patterns\"]:\n",
        "        tokens = nltk.word_tokenize(pattern)\n",
        "        words.extend(tokens)\n",
        "        doc_X.append(pattern)\n",
        "        doc_y.append(intent[\"tag\"])\n",
        "    \n",
        "    # add the tag to the classes if it's not there already \n",
        "    if intent[\"tag\"] not in classes:\n",
        "        classes.append(intent[\"tag\"])\n",
        "\n",
        "# чистење на зборовите од интерпункциски знаци и претварање на сите карактери во мали букви\n",
        "# lemmatize all the words in the vocab and convert them to lowercase\n",
        "# if the words don't appear in punctuation\n",
        "words = [lemmatizer.lemmatize(word.lower()) for word in words if word not in string.punctuation]\n",
        "# sorting the vocab and classes in alphabetical order and taking the # set to ensure no duplicates occur\n",
        "words = sorted(set(words))\n",
        "classes = sorted(set(classes))"
      ],
      "execution_count": null,
      "outputs": []
    },
    {
      "cell_type": "code",
      "metadata": {
        "colab": {
          "base_uri": "https://localhost:8080/"
        },
        "id": "TlTv_56krk-p",
        "outputId": "fac0a5eb-c76f-4d56-a54c-86a830ae3920"
      },
      "source": [
        "print(words)\n"
      ],
      "execution_count": null,
      "outputs": [
        {
          "output_type": "stream",
          "text": [
            "[\"'m\", \"'re\", \"'s\", \"'ve\", '3', '3am', '4', 'a', 'abandonment', 'about', 'abused', 'abusive', 'accepted', 'accurate', 'acting', 'addict', 'addicted', 'addiction', 'adios', 'adulthood', 'advice', 'affect', 'afraid', 'after', 'alcohol', 'alcoholic', 'all', 'alone', 'always', 'am', 'an', 'and', 'anger', 'angry', 'anxiety', 'any', 'anymore', 'are', 'at', 'attack', 'attention', 'attitude', 'attractive', 'avoid', 'away', 'bad', 'badly', 'be', 'beat', 'because', 'beer', 'behavior', 'being', 'belong', 'best', 'better', 'between', 'biggest', 'bipolar', 'birthday', 'bitter', 'block', 'blood', 'born', 'boyfriend', 'brain', 'break', 'breakup', 'by', 'bye', 'ca', 'call', 'called', 'can', 'cant', 'cause', 'causing', 'cbd', 'change', 'child', 'childhood', 'clarity', 'coffee', 'cold', 'come', 'concentration', 'considered', 'control', 'controlling', 'cope', 'crowd', 'cry', 'cured', 'cya', 'date', 'day', 'dependence', 'dependent', 'depression', 'detachment', 'diabetes', 'did', 'die', 'diet', 'difference', 'difficult', 'dislike', 'disorder', 'distance', 'do', 'doctor', 'doe', 'doing', 'dream', 'drink', 'drinking', 'driven', 'drug', 'easily', 'emetophobia', 'emotion', 'emotional', 'emotionally', 'energy', 'even', 'ever', 'every', 'everyday', 'everyone', 'example', 'exercise', 'exist', 'explain', 'express', 'fail', 'failing', 'failure', 'fall', 'falling', 'false', 'falure', 'family', 'fatigue', 'fear', 'fearless', 'feel', 'feeling', 'finally', 'find', 'finding', 'focus', 'focused', 'for', 'forget', 'forgive', 'four', 'friend', 'from', 'future', 'g2g', 'genuinely', 'get', 'getting', 'girl', 'girlfriend', 'give', 'go', 'goal', 'good', 'grown', 'hand', 'handle', 'hang', 'happen', 'happens', 'happier', 'happiness', 'happy', 'hard', 'harder', 'hate', 'have', 'headache', 'health', 'healthy', 'hello', 'help', 'here', 'hi', 'how', 'i', 'idea', 'if', 'illness', 'illusion', 'imagine', 'important', 'improve', 'in', 'incapable', 'including', 'intelligence', 'intelligent', 'is', 'issue', 'it', 'just', 'keep', 'kill', 'know', 'lack', 'lately', 'laziness', 'lazy', 'le', 'lead', 'let', 'life', 'lift', 'like', 'live', 'lonely', 'look', 'lose', 'loss', 'lost', 'lot', 'love', 'loved', 'low', 'main', 'make', 'manipulation', 'manipulative', 'many', 'mbti', 'me', 'mean', 'meaning', 'medication', 'memory', 'mental', 'mentally', 'mind', 'mindset', 'miracle', 'mood', 'more', 'morning', 'motivated', 'motivation', 'much', 'my', 'myself', \"n't\", 'name', 'narcissist', 'naturally', 'need', 'needle', 'negative', 'negativity', 'neighbor', 'nervous', 'never', 'night', 'no', 'normal', 'not', 'nothing', 'nowdays', 'obsessing', 'obsessive-compulsive', 'ocd', 'of', 'often', 'ok', 'old', 'on', 'one', 'or', 'out', 'over', 'overanalyzing', 'overcame', 'overcome', 'overthink', 'overthinking', 'paedophile.i', 'panic', 'past..', 'person', 'phobia', 'phobia..', 'pillow', 'plan', 'positive', 'positivity', 'possitive', 'presure', 'problem', 'quickly', 'rage', 'reach', 'read', 'real', 'realistic', 'reason', 'recover', 'relationship', 'relax', 'relaxing', 'reliable', 'relieve', 'remember', 'repressed', 'reset', 'rid', 's', 'satisfied', 'saying', 'scared', 'scary', 'second', 'see', 'self', 'sharpen', 'sign', 'single', 'skill', 'sleeping', 'sleepy', 'smarter', 'so', 'some', 'someone', 'something', 'speaking', 'spider', 'start', 'stay', 'stop', 'stress', 'stuck', 'study', 'stupid', 'success', 'suffer', 'talk', 'talking', 'test', 'than', 'that', 'the', 'there', 'thing', 'think', 'thinking', 'this', 'thought', 'time', 'tip', 'tired', 'to', 'too', 'toxic', 'tragic', 'train', 'trauma', 'trick', 'trigger', 'true', 'truly', 'trust', 'trypanophobia', 'turned', 'type', 'u', 'unavailable', 'under', 'unhappy', 'unhealthy', 'uninterested', 'up', 'vomiting', 'wa', 'wake', 'want', 'water', 'we', 'weakness', 'week', 'weekend', 'weight', 'what', 'whats', 'when', 'which', 'who', 'why', 'wife', 'with', 'within', 'without', 'word', 'work', 'working', 'world', 'worry', 'worrying', 'worse', 'worthless', 'wrong', 'ya', 'you', 'your', 'zone', '’']\n"
          ],
          "name": "stdout"
        }
      ]
    },
    {
      "cell_type": "code",
      "metadata": {
        "colab": {
          "base_uri": "https://localhost:8080/"
        },
        "id": "B0zObm7rrpkA",
        "outputId": "58f96691-fe34-4d1f-e498-d3de8fcdc43f"
      },
      "source": [
        "print(classes)\n"
      ],
      "execution_count": null,
      "outputs": [
        {
          "output_type": "stream",
          "text": [
            "['age', 'curiosity', 'date', 'fear', 'goodbye', 'greeting', 'grief', 'happy', 'love', 'name']\n"
          ],
          "name": "stdout"
        }
      ]
    },
    {
      "cell_type": "code",
      "metadata": {
        "colab": {
          "base_uri": "https://localhost:8080/"
        },
        "id": "m_m1sJl_rsod",
        "outputId": "ac5132d6-176f-4ebb-9397-0773c2fc4649"
      },
      "source": [
        "print(doc_X)\n"
      ],
      "execution_count": null,
      "outputs": [
        {
          "output_type": "stream",
          "text": [
            "['Hello', 'How are you?', 'Hi there', 'Hi', 'Whats up', 'how old are you?', 'when is your birthday?', 'when was you born?', 'what are you doing this weekend?', 'do you want to hang out some time?', 'what are your plans for this week', \"what's your name?\", 'what are you called?', 'who are you?', 'bye', 'g2g', 'see ya', 'adios', 'cya', 'Family and Friends Dislike Wife.', '\\nMy girlfriend acting uninterested and cold lately.', 'I WANT TO FIND A GIRL!', 'How to get my girl attention?', 'How do I get rid of negative thoughts in a relationship?', 'How negativity can kill a relationship?', 'Can distance kill a relationship?', 'What is a toxic relationship?', 'My love make me feel bad about myself.', 'Why do I not get turned on by my boyfriend?', 'Does distance affect love?', 'Is distance a reason to break up?', 'Is it normal to want to be loved?', 'Is it wrong to want to be loved?', 'Can true love die?', 'Why do we need to feel loved?', 'Does true love exist?', 'Why do I want to date someone so badly?', 'Is it bad that I want a boyfriend?', 'Is love a need?', 'Can a person live without love?', 'Is love a drug?', 'How do you know if you are emotionally unavailable?', 'What causes emotional detachment?', 'Why are breakups so hard?', 'What is a person with no feelings?', 'I want to know the meaning of love.', 'What is love explain?', 'What are the 4 types of relationships?', 'I have fear of not being loved', 'Why am I so afraid of being loved?', 'How do you overcome the fear of never finding love?', 'Can you be incapable of falling in love?', \"How do I know if I'm incapable of love?\", \"What is it called when you can't express your feelings?\", 'I am scared of saying i love you.', 'Does saying I love you lose its meaning?', \" I can't stop obsessing over someone I can't have.\", 'Family and Friends Dislike Wife.', '\\nMy girlfriend acting uninterested and cold lately.', 'I WANT TO FIND A GIRL!', 'How to get my girl attention?', 'How do I get rid of negative thoughts in a relationship?', 'How negativity can kill a relationship?', 'Can distance kill a relationship?', 'What is a toxic relationship?', 'My love make me feel bad about myself.', 'Why do I not get turned on by my boyfriend?', 'Does distance affect love?', 'Is distance a reason to break up?', 'Is it normal to want to be loved?', 'Is it wrong to want to be loved?', 'Can true love die?', 'Why do we need to feel loved?', 'Does true love exist?', 'Why do I want to date someone so badly?', 'Is it bad that I want a boyfriend?', 'Is love a need?', 'Can a person live without love?', 'Is love a drug?', 'How do you know if you are emotionally unavailable?', 'What causes emotional detachment?', 'Why are breakups so hard?', 'What is a person with no feelings?', 'I want to know the meaning of love.', 'What is love explain?', 'What are the 4 types of relationships?', 'I have fear of not being loved', 'Why am I so afraid of being loved?', 'How do you overcome the fear of never finding love?', 'Can you be incapable of falling in love?', \"How do I know if I'm incapable of love?\", \"What is it called when you can't express your feelings?\", 'I am scared of saying i love you.', 'Does saying I love you lose its meaning?', \" I can't stop obsessing over someone I can't have.\", '\\n\\n \\nDoes miracles happen?', '\\nDoes miracles happen?', 'How to be happy?', 'How to be happy?', 'How to be happy?', 'How to be happy?', 'How to be happy?', 'How to be happy?', 'How to be positive and happy?', 'How do you keep a positive mindset?', 'How do you keep a positive mindset?', 'How do you keep a positive mindset?', 'How do you keep a positive mindset?', 'How do you keep a positive mindset?', 'How can I be happier?', 'How can I be happier?', 'How can I be happier?', 'How can I be happier?', 'How can I be happier?', 'How can I be happier?', 'How can I be happy alone?', 'Give me advice for start being happy by myself?', 'I want to be happy', 'I feel unhappy', \"I didn't feel good nowdays.\", 'I want to love myself more.', 'how to have possitive mind?', 'I want to be happy alone.', 'How can I be happy single?', \"I am single and I don't feel happy.\", 'I am single and nothing is getting better in my life.', 'I feel stuck in the past..', 'How can I lift my mood?', 'Can you be too positive?', 'Is being too happy bad?', 'Can positivity be toxic?', 'How can I be positive without being toxic?', 'How do I get better mentally?', 'How can I live a happy life?', 'What is happy life?', 'How is happiness important?', 'Why do we need to stay positive?', 'How do I train my brain to stay focused?', '\\n\\n \\nDoes miracles happen?', '\\nDoes miracles happen?', 'How to be happy?', 'How to be happy?', 'How to be happy?', 'How to be happy?', 'How to be happy?', 'How to be happy?', 'How to be positive and happy?', 'How do you keep a positive mindset?', 'How do you keep a positive mindset?', 'How do you keep a positive mindset?', 'How do you keep a positive mindset?', 'How do you keep a positive mindset?', 'How can I be happier?', 'How can I be happier?', 'How can I be happier?', 'How can I be happier?', 'How can I be happier?', 'How can I be happier?', 'How can I be happy alone?', 'Give me advice for start being happy by myself?', 'I want to be happy', 'I feel unhappy', \"I didn't feel good nowdays.\", 'I want to love myself more.', 'how to have possitive mind?', 'I want to be happy alone.', 'How can I be happy single?', \"I am single and I don't feel happy.\", 'I am single and nothing is getting better in my life.', 'I feel stuck in the past..', 'How can I lift my mood?', 'Can you be too positive?', 'Is being too happy bad?', 'Can positivity be toxic?', 'How can I be positive without being toxic?', 'How do I get better mentally?', 'How can I live a happy life?', 'What is happy life?', 'How is happiness important?', 'Why do we need to stay positive?', 'How do I train my brain to stay focused?', 'Why do I want everyone to hate me ?', 'I have no idea whats wrong with me.', '\\n \\nI falure to reach my goals.', \"i was abused as a child by a paedophile.I've grown up bitter and angry.\", 'I feel so lost.', 'I feel so lost.', 'I feel so lost.', 'I feel so lost.', \"\\n\\n\\n \\nI can't trust doctors!\", 'I am feeling Worthless.', 'I am feeling Worthless.', 'I am feeling Worthless.', 'I am feeling Worthless.', \"i don't feel accepted in world.\", \"i don't feel accepted in world.\", \"I don't belong here anymore.\", 'I am nervous!', 'I am nervous!', 'I am nervous!', 'I am nervous!', 'I am nervous!', 'I am nervous!', 'I am nervous!', 'I am nervous!', 'I am nervous!', 'How to cope with Stress?', 'How to cope with Stress?', 'I am under presure!', 'I am under presure!', 'I am under presure!', 'i think i am alcohol dependent.', 'What does it mean to have a alcohol dependence?', 'How much do you have to drink to be considered an alcoholic?', 'Is there a test to see if you are an alcoholic?', 'What happens if you drink alcohol everyday?', 'What is considered as an alcoholic?', 'How many beers a day is healthy?', 'Is it bad to have a beer every night?', 'i have a bad childhood.', 'How does a bad childhood affect adulthood?', 'Does childhood trauma ever go away?', \"Why can't I remember a lot of my childhood?\", 'How do I know if I have repressed memories?', 'How do you let go of childhood trauma?', 'How does a bad childhood affect you?', 'Do we block out bad memories?', 'What does childhood trauma do to the brain?', 'Can childhood trauma cause memory problems?', 'Can repressed memories come out in dreams?', 'How do you recover from childhood abandonment?', 'What can childhood trauma cause?', 'How do you let go of bad memories?', 'Can trauma cause false memories?', 'Do narcissists fear abandonment?', 'Can childhood trauma cause anger issues?', 'How do you let go of anger?', 'How do you truly forgive?', 'How did I get so negative?', 'How do I stop overthinking and worrying?', 'How can I study without stress?', 'How can I express my emotions better?', 'What does controlling behavior look like?', 'How do you stay positive in difficult times?', 'i cry A LOT!', 'Is it normal to cry every day?', 'Why do I cry for nothing?', 'How do you stop crying when talking about feelings?', 'Why do I cry when I talk about something?', 'Why do we cry when we feel emotion?', 'What do you call a person who cries easily?', \"Why do I cry when I'm angry?\", 'Is it good to express your emotions?', 'How do u know if u have anger issues?', 'Are emotions a sign of weakness?', 'Why i feel tired all the time?', 'Why do I feel sleepy all day?', 'How do I stop being tired and lazy?', 'Why is my energy so low?', 'Does drinking water help with fatigue?', 'I always wake up at 3am.', 'I think  my pillow be causing my headaches.', 'Why do I want everyone to hate me ?', 'I have no idea whats wrong with me.', '\\n \\nI falure to reach my goals.', \"i was abused as a child by a paedophile.I've grown up bitter and angry.\", 'I feel so lost.', 'I feel so lost.', 'I feel so lost.', 'I feel so lost.', \"\\n\\n\\n \\nI can't trust doctors!\", 'I am feeling Worthless.', 'I am feeling Worthless.', 'I am feeling Worthless.', 'I am feeling Worthless.', \"i don't feel accepted in world.\", \"i don't feel accepted in world.\", \"I don't belong here anymore.\", 'I am nervous!', 'I am nervous!', 'I am nervous!', 'I am nervous!', 'I am nervous!', 'I am nervous!', 'I am nervous!', 'I am nervous!', 'I am nervous!', 'How to cope with Stress?', 'How to cope with Stress?', 'I am under presure!', 'I am under presure!', 'I am under presure!', 'i think i am alcohol dependent.', 'What does it mean to have a alcohol dependence?', 'How much do you have to drink to be considered an alcoholic?', 'Is there a test to see if you are an alcoholic?', 'What happens if you drink alcohol everyday?', 'What is considered as an alcoholic?', 'How many beers a day is healthy?', 'Is it bad to have a beer every night?', 'i have a bad childhood.', 'How does a bad childhood affect adulthood?', 'Does childhood trauma ever go away?', \"Why can't I remember a lot of my childhood?\", 'How do I know if I have repressed memories?', 'How do you let go of childhood trauma?', 'How does a bad childhood affect you?', 'Do we block out bad memories?', 'What does childhood trauma do to the brain?', 'Can childhood trauma cause memory problems?', 'Can repressed memories come out in dreams?', 'How do you recover from childhood abandonment?', 'What can childhood trauma cause?', 'How do you let go of bad memories?', 'Can trauma cause false memories?', 'Do narcissists fear abandonment?', 'Can childhood trauma cause anger issues?', 'How do you let go of anger?', 'How do you truly forgive?', 'How did I get so negative?', 'How do I stop overthinking and worrying?', 'How can I study without stress?', 'How can I express my emotions better?', 'What does controlling behavior look like?', 'How do you stay positive in difficult times?', 'i cry A LOT!', 'Is it normal to cry every day?', 'Why do I cry for nothing?', 'How do you stop crying when talking about feelings?', 'Why do I cry when I talk about something?', 'Why do we cry when we feel emotion?', 'What do you call a person who cries easily?', \"Why do I cry when I'm angry?\", 'Is it good to express your emotions?', 'How do u know if u have anger issues?', 'Are emotions a sign of weakness?', 'Why i feel tired all the time?', 'Why do I feel sleepy all day?', 'How do I stop being tired and lazy?', 'Why is my energy so low?', 'Does drinking water help with fatigue?', 'I always wake up at 3am.', 'I think  my pillow be causing my headaches.', '\\n\\n \\nIs the MBTi test accurate and reliable?', 'Is the MBTi test accurate and reliable?', 'What good medications are there out there for ocd?', 'Does being in the zone can help me?', 'Is being in the zone a real thing?', 'Any tips or tricks about weight loss including diet and exercise?', 'Is your mental health worse in the morning?', 'Does CBD help anxiety?', 'Is Depression Worse In The Morning?', 'How To Cope With Morning Depression?', \"I'm never satisfied with who I am because of my tragic life.\", 'Can you genuinely have more than one fear?', 'Can We Ever Be Truly Fearless?', 'What fears more success or failure?', 'How can we avoid failure?', 'How can we avoid failure?', 'How do you handle failure?', 'What is biggest failure in life?', 'Is it OK if I fail?', 'Does failing make you a failure?', 'What causes failure?', 'Why is failure so important?', 'How does failure lead to success?', 'How to be happy alone?', 'How to be happy alone?', 'How to be happy alone?', 'How to be happy alone?', 'How to be happy alone?', 'How to be happy alone?', 'How to be happy alone?', 'I am nervous!', 'How to relieve Stress and Anxiety?', 'How to relieve Stress and Anxiety?', 'How to relieve Stress and Anxiety?', 'How to relieve Stress and Anxiety?', 'How to relieve Stress and Anxiety?', 'Can i be coffee addict?', \"How do you know you're addicted to coffee?\", 'How do I get rid of my coffee addiction?', 'What is the main cause of negative thinking?', 'Is it OK to be negative?', 'Is it OK to feel lonely?', 'Is it better to just be single?', 'How do I stop overthinking and relaxing?', 'How can I lift my mood without medication?', 'What does toxic positivity look like?', 'Can overthinking kill you?', 'How do I worry less?', 'How can I lift my mood naturally?', 'What is unhealthy happiness?', 'Is overanalyzing a sign of intelligence?', 'Is self control attractive?', 'How do you reset your mood?', 'How do you handle happiness?', 'How do you change your thoughts?', 'Is love an illusion?', 'Why do I not want to be in a relationship?', 'What does it mean to be emotionally manipulative?', 'What does it mean when you cant cry?', 'What are examples of emotional manipulation?', 'Why do I have no emotion?', 'How can I relax my brain?', 'What is the best medication for stress?', 'Is there any medication for stress?', 'Can a positive attitude overcome illness?', 'Is anger a mental illness?', 'What are anger triggers?', 'What are the four types of anger?\\n\\nWhat is bipolar rage?', 'What are 3 types of behavior triggers?', 'What helps you to stay focused?', 'How can I sharpen my memory?', 'What causes lack of focus and concentration?', 'What is good for mental clarity?', 'How do I stay motivated all day?', 'What keeps you motivated to keep working?', 'How can I improve self motivation?', 'What are the main causes of laziness?', 'What is self motivation skills?', 'What does it mean work smarter not harder?', 'What is motivation example?', 'Why am I feeling sleepy even after sleeping?', '\\n\\n \\nIs the MBTi test accurate and reliable?', 'Is the MBTi test accurate and reliable?', 'What good medications are there out there for ocd?', 'Does being in the zone can help me?', 'Is being in the zone a real thing?', 'Any tips or tricks about weight loss including diet and exercise?', 'Is your mental health worse in the morning?', 'Does CBD help anxiety?', 'Is Depression Worse In The Morning?', 'How To Cope With Morning Depression?', \"I'm never satisfied with who I am because of my tragic life.\", 'Can you genuinely have more than one fear?', 'Can We Ever Be Truly Fearless?', 'What fears more success or failure?', 'How can we avoid failure?', 'How can we avoid failure?', 'How do you handle failure?', 'What is biggest failure in life?', 'Is it OK if I fail?', 'Does failing make you a failure?', 'What causes failure?', 'Why is failure so important?', 'How does failure lead to success?', 'How to be happy alone?', 'How to be happy alone?', 'How to be happy alone?', 'How to be happy alone?', 'How to be happy alone?', 'How to be happy alone?', 'How to be happy alone?', 'I am nervous!', 'How to relieve Stress and Anxiety?', 'How to relieve Stress and Anxiety?', 'How to relieve Stress and Anxiety?', 'How to relieve Stress and Anxiety?', 'How to relieve Stress and Anxiety?', 'Can i be coffee addict?', \"How do you know you're addicted to coffee?\", 'How do I get rid of my coffee addiction?', 'What is the main cause of negative thinking?', 'Is it OK to be negative?', 'Is it OK to feel lonely?', 'Is it better to just be single?', 'How do I stop overthinking and relaxing?', 'How can I lift my mood without medication?', 'What does toxic positivity look like?', 'Can overthinking kill you?', 'How do I worry less?', 'How can I lift my mood naturally?', 'What is unhealthy happiness?', 'Is overanalyzing a sign of intelligence?', 'Is self control attractive?', 'How do you reset your mood?', 'How do you handle happiness?', 'How do you change your thoughts?', 'Is love an illusion?', 'Why do I not want to be in a relationship?', 'What does it mean to be emotionally manipulative?', 'What does it mean when you cant cry?', 'What are examples of emotional manipulation?', 'Why do I have no emotion?', 'How can I relax my brain?', 'What is the best medication for stress?', 'Is there any medication for stress?', 'Can a positive attitude overcome illness?', 'Is anger a mental illness?', 'What are anger triggers?', 'What are the four types of anger?\\n\\nWhat is bipolar rage?', 'What are 3 types of behavior triggers?', 'What helps you to stay focused?', 'How can I sharpen my memory?', 'What causes lack of focus and concentration?', 'What is good for mental clarity?', 'How do I stay motivated all day?', 'What keeps you motivated to keep working?', 'How can I improve self motivation?', 'What are the main causes of laziness?', 'What is self motivation skills?', 'What does it mean work smarter not harder?', 'What is motivation example?', 'Why am I feeling sleepy even after sleeping?', ' I need help with abusive neighbor', ' I need help with abusive neighbor', ' I need help with abusive neighbor', 'I suffer with emetophobia, the fear of vomiting.', 'I Spider phobia.', 'I Spider phobia.', 'Phobia.. of stupid things. Anxiety driven?', 'Anxiety and Depression: Which one do I have?', 'The Differences Between Anxiety and Depression.', 'Anxiety and Depression often go hand in hand.', 'Obsessive-Compulsive Disorder (OCD)', 'I have Obsessive-Compulsive Disorder.', 'How do you overcome fear of failure at work?', 'How do you overcome fear of failure at work?', 'How do you overcome fear of failure?', 'i have panic attacks.', 'i have panic attacks.', 'i have panic attacks.', 'i have panic attacks.', 'I have Fear of Crowds.', 'I have Fear of Crowds.', 'I have Fear of Crowds.', 'What’s the Difference Between a Panic Attack and an Anxiety Attack?', 'What’s the Difference Between a Panic Attack and an Anxiety Attack?', 'What’s the Difference Between a Panic Attack and an Anxiety Attack?', 'Do I overthink?', 'Can anxiety kill you?', 'Is Worry healthy?', 'Is being happy healthy?', 'Is it realistic to be happy all the time?', 'Can anxiety be cured?', 'Does depression make you less intelligent?', 'Is the goal of life to be happy?', 'How do I get over my phobia of needles?', 'i have fear of needle', 'What is the Trypanophobia?', 'Why are needles scary?', 'i have a fear of blood.', 'How to get over fear of needles?', 'How I Finally Overcame My Fear of Needles?', 'How to beat my fear?', 'What are signs of manipulation?', 'Why do I forget words when speaking?', 'Why do I forget things so quickly?', \"Why can't I remember a name?\", 'Why do I forget things within seconds?', 'What is it called when you Cannot remember names?', 'Is it normal to forget what you read?', 'i have headaches everyday', ' I wake up with a headache every day.', 'Are headaches a sign of diabetes?\\n', \"I can't imagine your future.\", 'I think about the future.', 'Is it good to think about future?', 'Is it normal to think about your future?', 'I  feel scared to fall in love.', ' I need help with abusive neighbor', ' I need help with abusive neighbor', ' I need help with abusive neighbor', 'I suffer with emetophobia, the fear of vomiting.', 'I Spider phobia.', 'I Spider phobia.', 'Phobia.. of stupid things. Anxiety driven?', 'Anxiety and Depression: Which one do I have?', 'The Differences Between Anxiety and Depression.', 'Anxiety and Depression often go hand in hand.', 'Obsessive-Compulsive Disorder (OCD)', 'I have Obsessive-Compulsive Disorder.', 'How do you overcome fear of failure at work?', 'How do you overcome fear of failure at work?', 'How do you overcome fear of failure?', 'i have panic attacks.', 'i have panic attacks.', 'i have panic attacks.', 'i have panic attacks.', 'I have Fear of Crowds.', 'I have Fear of Crowds.', 'I have Fear of Crowds.', 'What’s the Difference Between a Panic Attack and an Anxiety Attack?', 'What’s the Difference Between a Panic Attack and an Anxiety Attack?', 'What’s the Difference Between a Panic Attack and an Anxiety Attack?', 'Do I overthink?', 'Can anxiety kill you?', 'Is Worry healthy?', 'Is being happy healthy?', 'Is it realistic to be happy all the time?', 'Can anxiety be cured?', 'Does depression make you less intelligent?', 'Is the goal of life to be happy?', 'How do I get over my phobia of needles?', 'i have fear of needle', 'What is the Trypanophobia?', 'Why are needles scary?', 'i have a fear of blood.', 'How to get over fear of needles?', 'How I Finally Overcame My Fear of Needles?', 'How to beat my fear?', 'What are signs of manipulation?', 'Why do I forget words when speaking?', 'Why do I forget things so quickly?', \"Why can't I remember a name?\", 'Why do I forget things within seconds?', 'What is it called when you Cannot remember names?', 'Is it normal to forget what you read?', 'i have headaches everyday', ' I wake up with a headache every day.', 'Are headaches a sign of diabetes?\\n', \"I can't imagine your future.\", 'I think about the future.', 'Is it good to think about future?', 'Is it normal to think about your future?', 'I  feel scared to fall in love.']\n"
          ],
          "name": "stdout"
        }
      ]
    },
    {
      "cell_type": "code",
      "metadata": {
        "colab": {
          "base_uri": "https://localhost:8080/"
        },
        "id": "G9dVHu3MrvTd",
        "outputId": "ad5dc8ad-024f-434b-c091-6c19571224d9"
      },
      "source": [
        "print(doc_y)\n"
      ],
      "execution_count": null,
      "outputs": [
        {
          "output_type": "stream",
          "text": [
            "['greeting', 'greeting', 'greeting', 'greeting', 'greeting', 'age', 'age', 'age', 'date', 'date', 'date', 'name', 'name', 'name', 'goodbye', 'goodbye', 'goodbye', 'goodbye', 'goodbye', 'love', 'love', 'love', 'love', 'love', 'love', 'love', 'love', 'love', 'love', 'love', 'love', 'love', 'love', 'love', 'love', 'love', 'love', 'love', 'love', 'love', 'love', 'love', 'love', 'love', 'love', 'love', 'love', 'love', 'love', 'love', 'love', 'love', 'love', 'love', 'love', 'love', 'love', 'love', 'love', 'love', 'love', 'love', 'love', 'love', 'love', 'love', 'love', 'love', 'love', 'love', 'love', 'love', 'love', 'love', 'love', 'love', 'love', 'love', 'love', 'love', 'love', 'love', 'love', 'love', 'love', 'love', 'love', 'love', 'love', 'love', 'love', 'love', 'love', 'love', 'love', 'happy', 'happy', 'happy', 'happy', 'happy', 'happy', 'happy', 'happy', 'happy', 'happy', 'happy', 'happy', 'happy', 'happy', 'happy', 'happy', 'happy', 'happy', 'happy', 'happy', 'happy', 'happy', 'happy', 'happy', 'happy', 'happy', 'happy', 'happy', 'happy', 'happy', 'happy', 'happy', 'happy', 'happy', 'happy', 'happy', 'happy', 'happy', 'happy', 'happy', 'happy', 'happy', 'happy', 'happy', 'happy', 'happy', 'happy', 'happy', 'happy', 'happy', 'happy', 'happy', 'happy', 'happy', 'happy', 'happy', 'happy', 'happy', 'happy', 'happy', 'happy', 'happy', 'happy', 'happy', 'happy', 'happy', 'happy', 'happy', 'happy', 'happy', 'happy', 'happy', 'happy', 'happy', 'happy', 'happy', 'happy', 'happy', 'happy', 'happy', 'happy', 'happy', 'happy', 'happy', 'happy', 'happy', 'grief', 'grief', 'grief', 'grief', 'grief', 'grief', 'grief', 'grief', 'grief', 'grief', 'grief', 'grief', 'grief', 'grief', 'grief', 'grief', 'grief', 'grief', 'grief', 'grief', 'grief', 'grief', 'grief', 'grief', 'grief', 'grief', 'grief', 'grief', 'grief', 'grief', 'grief', 'grief', 'grief', 'grief', 'grief', 'grief', 'grief', 'grief', 'grief', 'grief', 'grief', 'grief', 'grief', 'grief', 'grief', 'grief', 'grief', 'grief', 'grief', 'grief', 'grief', 'grief', 'grief', 'grief', 'grief', 'grief', 'grief', 'grief', 'grief', 'grief', 'grief', 'grief', 'grief', 'grief', 'grief', 'grief', 'grief', 'grief', 'grief', 'grief', 'grief', 'grief', 'grief', 'grief', 'grief', 'grief', 'grief', 'grief', 'grief', 'grief', 'grief', 'grief', 'grief', 'grief', 'grief', 'grief', 'grief', 'grief', 'grief', 'grief', 'grief', 'grief', 'grief', 'grief', 'grief', 'grief', 'grief', 'grief', 'grief', 'grief', 'grief', 'grief', 'grief', 'grief', 'grief', 'grief', 'grief', 'grief', 'grief', 'grief', 'grief', 'grief', 'grief', 'grief', 'grief', 'grief', 'grief', 'grief', 'grief', 'grief', 'grief', 'grief', 'grief', 'grief', 'grief', 'grief', 'grief', 'grief', 'grief', 'grief', 'grief', 'grief', 'grief', 'grief', 'grief', 'grief', 'grief', 'grief', 'grief', 'grief', 'grief', 'grief', 'grief', 'grief', 'grief', 'grief', 'grief', 'grief', 'grief', 'grief', 'grief', 'grief', 'grief', 'grief', 'grief', 'grief', 'grief', 'grief', 'grief', 'grief', 'grief', 'grief', 'curiosity', 'curiosity', 'curiosity', 'curiosity', 'curiosity', 'curiosity', 'curiosity', 'curiosity', 'curiosity', 'curiosity', 'curiosity', 'curiosity', 'curiosity', 'curiosity', 'curiosity', 'curiosity', 'curiosity', 'curiosity', 'curiosity', 'curiosity', 'curiosity', 'curiosity', 'curiosity', 'curiosity', 'curiosity', 'curiosity', 'curiosity', 'curiosity', 'curiosity', 'curiosity', 'curiosity', 'curiosity', 'curiosity', 'curiosity', 'curiosity', 'curiosity', 'curiosity', 'curiosity', 'curiosity', 'curiosity', 'curiosity', 'curiosity', 'curiosity', 'curiosity', 'curiosity', 'curiosity', 'curiosity', 'curiosity', 'curiosity', 'curiosity', 'curiosity', 'curiosity', 'curiosity', 'curiosity', 'curiosity', 'curiosity', 'curiosity', 'curiosity', 'curiosity', 'curiosity', 'curiosity', 'curiosity', 'curiosity', 'curiosity', 'curiosity', 'curiosity', 'curiosity', 'curiosity', 'curiosity', 'curiosity', 'curiosity', 'curiosity', 'curiosity', 'curiosity', 'curiosity', 'curiosity', 'curiosity', 'curiosity', 'curiosity', 'curiosity', 'curiosity', 'curiosity', 'curiosity', 'curiosity', 'curiosity', 'curiosity', 'curiosity', 'curiosity', 'curiosity', 'curiosity', 'curiosity', 'curiosity', 'curiosity', 'curiosity', 'curiosity', 'curiosity', 'curiosity', 'curiosity', 'curiosity', 'curiosity', 'curiosity', 'curiosity', 'curiosity', 'curiosity', 'curiosity', 'curiosity', 'curiosity', 'curiosity', 'curiosity', 'curiosity', 'curiosity', 'curiosity', 'curiosity', 'curiosity', 'curiosity', 'curiosity', 'curiosity', 'curiosity', 'curiosity', 'curiosity', 'curiosity', 'curiosity', 'curiosity', 'curiosity', 'curiosity', 'curiosity', 'curiosity', 'curiosity', 'curiosity', 'curiosity', 'curiosity', 'curiosity', 'curiosity', 'curiosity', 'curiosity', 'curiosity', 'curiosity', 'curiosity', 'curiosity', 'curiosity', 'curiosity', 'curiosity', 'curiosity', 'curiosity', 'curiosity', 'curiosity', 'curiosity', 'curiosity', 'curiosity', 'curiosity', 'curiosity', 'curiosity', 'curiosity', 'curiosity', 'curiosity', 'curiosity', 'curiosity', 'curiosity', 'curiosity', 'curiosity', 'curiosity', 'curiosity', 'fear', 'fear', 'fear', 'fear', 'fear', 'fear', 'fear', 'fear', 'fear', 'fear', 'fear', 'fear', 'fear', 'fear', 'fear', 'fear', 'fear', 'fear', 'fear', 'fear', 'fear', 'fear', 'fear', 'fear', 'fear', 'fear', 'fear', 'fear', 'fear', 'fear', 'fear', 'fear', 'fear', 'fear', 'fear', 'fear', 'fear', 'fear', 'fear', 'fear', 'fear', 'fear', 'fear', 'fear', 'fear', 'fear', 'fear', 'fear', 'fear', 'fear', 'fear', 'fear', 'fear', 'fear', 'fear', 'fear', 'fear', 'fear', 'fear', 'fear', 'fear', 'fear', 'fear', 'fear', 'fear', 'fear', 'fear', 'fear', 'fear', 'fear', 'fear', 'fear', 'fear', 'fear', 'fear', 'fear', 'fear', 'fear', 'fear', 'fear', 'fear', 'fear', 'fear', 'fear', 'fear', 'fear', 'fear', 'fear', 'fear', 'fear', 'fear', 'fear', 'fear', 'fear', 'fear', 'fear', 'fear', 'fear', 'fear', 'fear', 'fear', 'fear', 'fear', 'fear', 'fear', 'fear', 'fear', 'fear', 'fear', 'fear', 'fear', 'fear']\n"
          ],
          "name": "stdout"
        }
      ]
    },
    {
      "cell_type": "markdown",
      "metadata": {
        "id": "kkvSZ0BNr4GB"
      },
      "source": [
        "Neural part preprocessing"
      ]
    },
    {
      "cell_type": "code",
      "metadata": {
        "id": "Y3pb6WCLrxnd"
      },
      "source": [
        "# list for training data\n",
        "training = []\n",
        "out_empty = [0] * len(classes)\n",
        "# creating the bag of words model / креирање на т.н вреќа од зборови\n",
        "for idx, doc in enumerate(doc_X):\n",
        "    bow = []\n",
        "    text = lemmatizer.lemmatize(doc.lower())\n",
        "    for word in words:\n",
        "        bow.append(1) if word in text else bow.append(0)\n",
        "    # mark the index of class that the current pattern is associated\n",
        "    # to\n",
        "    output_row = list(out_empty)\n",
        "    output_row[classes.index(doc_y[idx])] = 1\n",
        "    # add the one hot encoded BoW and associated classes to training \n",
        "    training.append([bow, output_row])\n",
        "# shuffle the data and convert it to an array\n",
        "random.shuffle(training)\n",
        "training = np.array(training, dtype=object)\n",
        "# split the features and target labels\n",
        "train_X = np.array(list(training[:, 0]))\n",
        "train_y = np.array(list(training[:, 1]))"
      ],
      "execution_count": null,
      "outputs": []
    },
    {
      "cell_type": "code",
      "metadata": {
        "id": "39FMwNRp6o76"
      },
      "source": [
        "from sklearn.model_selection import train_test_split\n",
        "X_train, X_test, y_train, y_test = train_test_split(train_X, train_y, test_size = 0.2, random_state = 4)"
      ],
      "execution_count": null,
      "outputs": []
    },
    {
      "cell_type": "markdown",
      "metadata": {
        "id": "UtpZ_NnwsCQW"
      },
      "source": [
        "\n",
        "\n",
        "```\n",
        "# This is formatted as code\n",
        "```\n",
        "\n",
        "Neural network (Chatbot)"
      ]
    },
    {
      "cell_type": "code",
      "metadata": {
        "colab": {
          "base_uri": "https://localhost:8080/"
        },
        "id": "BjUotqkdr-3G",
        "outputId": "41302de5-c764-42da-ae96-b1904ca87183"
      },
      "source": [
        "# defining some parameters\n",
        "input_shape = (len(train_X[0]),)\n",
        "output_shape = len(train_y[0])\n",
        "epochs = 400\n",
        "# the deep learning model\n",
        "model = Sequential()\n",
        "model.add(Dense(128, input_shape=input_shape, activation=\"relu\"))\n",
        "model.add(Dropout(0.5))\n",
        "model.add(Dense(64, activation=\"relu\"))\n",
        "model.add(Dropout(0.3))\n",
        "model.add(Dense(output_shape, activation = \"softmax\"))\n",
        "adam = tf.keras.optimizers.Adam(learning_rate=0.01, decay=1e-6)\n",
        "model.compile(loss='categorical_crossentropy',\n",
        "              optimizer=adam,\n",
        "              metrics=[\"accuracy\"])\n",
        "print(model.summary())\n",
        "model.fit(x=X_train, y=y_train, epochs=200, verbose=1)"
      ],
      "execution_count": null,
      "outputs": [
        {
          "output_type": "stream",
          "text": [
            "Model: \"sequential_9\"\n",
            "_________________________________________________________________\n",
            "Layer (type)                 Output Shape              Param #   \n",
            "=================================================================\n",
            "dense_27 (Dense)             (None, 128)               53632     \n",
            "_________________________________________________________________\n",
            "dropout_18 (Dropout)         (None, 128)               0         \n",
            "_________________________________________________________________\n",
            "dense_28 (Dense)             (None, 64)                8256      \n",
            "_________________________________________________________________\n",
            "dropout_19 (Dropout)         (None, 64)                0         \n",
            "_________________________________________________________________\n",
            "dense_29 (Dense)             (None, 10)                650       \n",
            "=================================================================\n",
            "Total params: 62,538\n",
            "Trainable params: 62,538\n",
            "Non-trainable params: 0\n",
            "_________________________________________________________________\n",
            "None\n",
            "Epoch 1/200\n",
            "16/16 [==============================] - 0s 2ms/step - loss: 1.7322 - accuracy: 0.3266\n",
            "Epoch 2/200\n",
            "16/16 [==============================] - 0s 3ms/step - loss: 1.0912 - accuracy: 0.6065\n",
            "Epoch 3/200\n",
            "16/16 [==============================] - 0s 2ms/step - loss: 0.5921 - accuracy: 0.8134\n",
            "Epoch 4/200\n",
            "16/16 [==============================] - 0s 3ms/step - loss: 0.3605 - accuracy: 0.8783\n",
            "Epoch 5/200\n",
            "16/16 [==============================] - 0s 2ms/step - loss: 0.2641 - accuracy: 0.9209\n",
            "Epoch 6/200\n",
            "16/16 [==============================] - 0s 3ms/step - loss: 0.2500 - accuracy: 0.9290\n",
            "Epoch 7/200\n",
            "16/16 [==============================] - 0s 2ms/step - loss: 0.2350 - accuracy: 0.9290\n",
            "Epoch 8/200\n",
            "16/16 [==============================] - 0s 2ms/step - loss: 0.1523 - accuracy: 0.9473\n",
            "Epoch 9/200\n",
            "16/16 [==============================] - 0s 3ms/step - loss: 0.1351 - accuracy: 0.9533\n",
            "Epoch 10/200\n",
            "16/16 [==============================] - 0s 2ms/step - loss: 0.0994 - accuracy: 0.9696\n",
            "Epoch 11/200\n",
            "16/16 [==============================] - 0s 2ms/step - loss: 0.0955 - accuracy: 0.9716\n",
            "Epoch 12/200\n",
            "16/16 [==============================] - 0s 2ms/step - loss: 0.1150 - accuracy: 0.9635\n",
            "Epoch 13/200\n",
            "16/16 [==============================] - 0s 2ms/step - loss: 0.0908 - accuracy: 0.9797\n",
            "Epoch 14/200\n",
            "16/16 [==============================] - 0s 2ms/step - loss: 0.0710 - accuracy: 0.9736\n",
            "Epoch 15/200\n",
            "16/16 [==============================] - 0s 3ms/step - loss: 0.0912 - accuracy: 0.9777\n",
            "Epoch 16/200\n",
            "16/16 [==============================] - 0s 2ms/step - loss: 0.0881 - accuracy: 0.9655\n",
            "Epoch 17/200\n",
            "16/16 [==============================] - 0s 2ms/step - loss: 0.0591 - accuracy: 0.9878\n",
            "Epoch 18/200\n",
            "16/16 [==============================] - 0s 2ms/step - loss: 0.0786 - accuracy: 0.9777\n",
            "Epoch 19/200\n",
            "16/16 [==============================] - 0s 2ms/step - loss: 0.0856 - accuracy: 0.9736\n",
            "Epoch 20/200\n",
            "16/16 [==============================] - 0s 2ms/step - loss: 0.1020 - accuracy: 0.9716\n",
            "Epoch 21/200\n",
            "16/16 [==============================] - 0s 3ms/step - loss: 0.0727 - accuracy: 0.9838\n",
            "Epoch 22/200\n",
            "16/16 [==============================] - 0s 2ms/step - loss: 0.0673 - accuracy: 0.9757\n",
            "Epoch 23/200\n",
            "16/16 [==============================] - 0s 2ms/step - loss: 0.1030 - accuracy: 0.9716\n",
            "Epoch 24/200\n",
            "16/16 [==============================] - 0s 2ms/step - loss: 0.1135 - accuracy: 0.9736\n",
            "Epoch 25/200\n",
            "16/16 [==============================] - 0s 2ms/step - loss: 0.0962 - accuracy: 0.9736\n",
            "Epoch 26/200\n",
            "16/16 [==============================] - 0s 2ms/step - loss: 0.1153 - accuracy: 0.9655\n",
            "Epoch 27/200\n",
            "16/16 [==============================] - 0s 3ms/step - loss: 0.1144 - accuracy: 0.9675\n",
            "Epoch 28/200\n",
            "16/16 [==============================] - 0s 2ms/step - loss: 0.1206 - accuracy: 0.9675\n",
            "Epoch 29/200\n",
            "16/16 [==============================] - 0s 2ms/step - loss: 0.0919 - accuracy: 0.9736\n",
            "Epoch 30/200\n",
            "16/16 [==============================] - 0s 3ms/step - loss: 0.0675 - accuracy: 0.9838\n",
            "Epoch 31/200\n",
            "16/16 [==============================] - 0s 2ms/step - loss: 0.0591 - accuracy: 0.9736\n",
            "Epoch 32/200\n",
            "16/16 [==============================] - 0s 2ms/step - loss: 0.0820 - accuracy: 0.9716\n",
            "Epoch 33/200\n",
            "16/16 [==============================] - 0s 2ms/step - loss: 0.0517 - accuracy: 0.9838\n",
            "Epoch 34/200\n",
            "16/16 [==============================] - 0s 2ms/step - loss: 0.0584 - accuracy: 0.9858\n",
            "Epoch 35/200\n",
            "16/16 [==============================] - 0s 2ms/step - loss: 0.0761 - accuracy: 0.9817\n",
            "Epoch 36/200\n",
            "16/16 [==============================] - 0s 3ms/step - loss: 0.0930 - accuracy: 0.9838\n",
            "Epoch 37/200\n",
            "16/16 [==============================] - 0s 2ms/step - loss: 0.0701 - accuracy: 0.9797\n",
            "Epoch 38/200\n",
            "16/16 [==============================] - 0s 2ms/step - loss: 0.0524 - accuracy: 0.9858\n",
            "Epoch 39/200\n",
            "16/16 [==============================] - 0s 4ms/step - loss: 0.0574 - accuracy: 0.9797\n",
            "Epoch 40/200\n",
            "16/16 [==============================] - 0s 3ms/step - loss: 0.0654 - accuracy: 0.9797\n",
            "Epoch 41/200\n",
            "16/16 [==============================] - 0s 2ms/step - loss: 0.0505 - accuracy: 0.9858\n",
            "Epoch 42/200\n",
            "16/16 [==============================] - 0s 3ms/step - loss: 0.1193 - accuracy: 0.9736\n",
            "Epoch 43/200\n",
            "16/16 [==============================] - 0s 2ms/step - loss: 0.1459 - accuracy: 0.9635\n",
            "Epoch 44/200\n",
            "16/16 [==============================] - 0s 2ms/step - loss: 0.1075 - accuracy: 0.9757\n",
            "Epoch 45/200\n",
            "16/16 [==============================] - 0s 2ms/step - loss: 0.0918 - accuracy: 0.9777\n",
            "Epoch 46/200\n",
            "16/16 [==============================] - 0s 2ms/step - loss: 0.1256 - accuracy: 0.9736\n",
            "Epoch 47/200\n",
            "16/16 [==============================] - 0s 2ms/step - loss: 0.0807 - accuracy: 0.9777\n",
            "Epoch 48/200\n",
            "16/16 [==============================] - 0s 2ms/step - loss: 0.1169 - accuracy: 0.9635\n",
            "Epoch 49/200\n",
            "16/16 [==============================] - 0s 2ms/step - loss: 0.0738 - accuracy: 0.9797\n",
            "Epoch 50/200\n",
            "16/16 [==============================] - 0s 2ms/step - loss: 0.0622 - accuracy: 0.9838\n",
            "Epoch 51/200\n",
            "16/16 [==============================] - 0s 3ms/step - loss: 0.0580 - accuracy: 0.9919\n",
            "Epoch 52/200\n",
            "16/16 [==============================] - 0s 3ms/step - loss: 0.0424 - accuracy: 0.9899\n",
            "Epoch 53/200\n",
            "16/16 [==============================] - 0s 2ms/step - loss: 0.0243 - accuracy: 0.9939\n",
            "Epoch 54/200\n",
            "16/16 [==============================] - 0s 2ms/step - loss: 0.0622 - accuracy: 0.9899\n",
            "Epoch 55/200\n",
            "16/16 [==============================] - 0s 2ms/step - loss: 0.0341 - accuracy: 0.9919\n",
            "Epoch 56/200\n",
            "16/16 [==============================] - 0s 2ms/step - loss: 0.0568 - accuracy: 0.9817\n",
            "Epoch 57/200\n",
            "16/16 [==============================] - 0s 2ms/step - loss: 0.0968 - accuracy: 0.9736\n",
            "Epoch 58/200\n",
            "16/16 [==============================] - 0s 2ms/step - loss: 0.0702 - accuracy: 0.9817\n",
            "Epoch 59/200\n",
            "16/16 [==============================] - 0s 2ms/step - loss: 0.0420 - accuracy: 0.9878\n",
            "Epoch 60/200\n",
            "16/16 [==============================] - 0s 2ms/step - loss: 0.0959 - accuracy: 0.9757\n",
            "Epoch 61/200\n",
            "16/16 [==============================] - 0s 2ms/step - loss: 0.0518 - accuracy: 0.9838\n",
            "Epoch 62/200\n",
            "16/16 [==============================] - 0s 2ms/step - loss: 0.0589 - accuracy: 0.9777\n",
            "Epoch 63/200\n",
            "16/16 [==============================] - 0s 3ms/step - loss: 0.0294 - accuracy: 0.9919\n",
            "Epoch 64/200\n",
            "16/16 [==============================] - 0s 3ms/step - loss: 0.0593 - accuracy: 0.9858\n",
            "Epoch 65/200\n",
            "16/16 [==============================] - 0s 3ms/step - loss: 0.0527 - accuracy: 0.9797\n",
            "Epoch 66/200\n",
            "16/16 [==============================] - 0s 2ms/step - loss: 0.0261 - accuracy: 0.9959\n",
            "Epoch 67/200\n",
            "16/16 [==============================] - 0s 2ms/step - loss: 0.0575 - accuracy: 0.9919\n",
            "Epoch 68/200\n",
            "16/16 [==============================] - 0s 2ms/step - loss: 0.0367 - accuracy: 0.9878\n",
            "Epoch 69/200\n",
            "16/16 [==============================] - 0s 3ms/step - loss: 0.0588 - accuracy: 0.9797\n",
            "Epoch 70/200\n",
            "16/16 [==============================] - 0s 2ms/step - loss: 0.0472 - accuracy: 0.9878\n",
            "Epoch 71/200\n",
            "16/16 [==============================] - 0s 2ms/step - loss: 0.0459 - accuracy: 0.9838\n",
            "Epoch 72/200\n",
            "16/16 [==============================] - 0s 2ms/step - loss: 0.0875 - accuracy: 0.9797\n",
            "Epoch 73/200\n",
            "16/16 [==============================] - 0s 3ms/step - loss: 0.0878 - accuracy: 0.9797\n",
            "Epoch 74/200\n",
            "16/16 [==============================] - 0s 2ms/step - loss: 0.0767 - accuracy: 0.9797\n",
            "Epoch 75/200\n",
            "16/16 [==============================] - 0s 3ms/step - loss: 0.0738 - accuracy: 0.9858\n",
            "Epoch 76/200\n",
            "16/16 [==============================] - 0s 2ms/step - loss: 0.0254 - accuracy: 0.9838\n",
            "Epoch 77/200\n",
            "16/16 [==============================] - 0s 2ms/step - loss: 0.0536 - accuracy: 0.9838\n",
            "Epoch 78/200\n",
            "16/16 [==============================] - 0s 3ms/step - loss: 0.0704 - accuracy: 0.9899\n",
            "Epoch 79/200\n",
            "16/16 [==============================] - 0s 2ms/step - loss: 0.0513 - accuracy: 0.9838\n",
            "Epoch 80/200\n",
            "16/16 [==============================] - 0s 3ms/step - loss: 0.0643 - accuracy: 0.9777\n",
            "Epoch 81/200\n",
            "16/16 [==============================] - 0s 2ms/step - loss: 0.0318 - accuracy: 0.9878\n",
            "Epoch 82/200\n",
            "16/16 [==============================] - 0s 2ms/step - loss: 0.0528 - accuracy: 0.9858\n",
            "Epoch 83/200\n",
            "16/16 [==============================] - 0s 2ms/step - loss: 0.0335 - accuracy: 0.9899\n",
            "Epoch 84/200\n",
            "16/16 [==============================] - 0s 3ms/step - loss: 0.0581 - accuracy: 0.9899\n",
            "Epoch 85/200\n",
            "16/16 [==============================] - 0s 3ms/step - loss: 0.0512 - accuracy: 0.9838\n",
            "Epoch 86/200\n",
            "16/16 [==============================] - 0s 3ms/step - loss: 0.0556 - accuracy: 0.9838\n",
            "Epoch 87/200\n",
            "16/16 [==============================] - 0s 3ms/step - loss: 0.0526 - accuracy: 0.9899\n",
            "Epoch 88/200\n",
            "16/16 [==============================] - 0s 2ms/step - loss: 0.0422 - accuracy: 0.9878\n",
            "Epoch 89/200\n",
            "16/16 [==============================] - 0s 2ms/step - loss: 0.0317 - accuracy: 0.9899\n",
            "Epoch 90/200\n",
            "16/16 [==============================] - 0s 2ms/step - loss: 0.0806 - accuracy: 0.9858\n",
            "Epoch 91/200\n",
            "16/16 [==============================] - 0s 2ms/step - loss: 0.0244 - accuracy: 0.9919\n",
            "Epoch 92/200\n",
            "16/16 [==============================] - 0s 2ms/step - loss: 0.0209 - accuracy: 0.9919\n",
            "Epoch 93/200\n",
            "16/16 [==============================] - 0s 2ms/step - loss: 0.0218 - accuracy: 0.9919\n",
            "Epoch 94/200\n",
            "16/16 [==============================] - 0s 2ms/step - loss: 0.0189 - accuracy: 0.9959\n",
            "Epoch 95/200\n",
            "16/16 [==============================] - 0s 2ms/step - loss: 0.0481 - accuracy: 0.9858\n",
            "Epoch 96/200\n",
            "16/16 [==============================] - 0s 3ms/step - loss: 0.0339 - accuracy: 0.9899\n",
            "Epoch 97/200\n",
            "16/16 [==============================] - 0s 3ms/step - loss: 0.0586 - accuracy: 0.9878\n",
            "Epoch 98/200\n",
            "16/16 [==============================] - 0s 2ms/step - loss: 0.0472 - accuracy: 0.9878\n",
            "Epoch 99/200\n",
            "16/16 [==============================] - 0s 2ms/step - loss: 0.0557 - accuracy: 0.9858\n",
            "Epoch 100/200\n",
            "16/16 [==============================] - 0s 2ms/step - loss: 0.0782 - accuracy: 0.9858\n",
            "Epoch 101/200\n",
            "16/16 [==============================] - 0s 2ms/step - loss: 0.0800 - accuracy: 0.9817\n",
            "Epoch 102/200\n",
            "16/16 [==============================] - 0s 2ms/step - loss: 0.0857 - accuracy: 0.9797\n",
            "Epoch 103/200\n",
            "16/16 [==============================] - 0s 3ms/step - loss: 0.0363 - accuracy: 0.9899\n",
            "Epoch 104/200\n",
            "16/16 [==============================] - 0s 2ms/step - loss: 0.0380 - accuracy: 0.9858\n",
            "Epoch 105/200\n",
            "16/16 [==============================] - 0s 2ms/step - loss: 0.0606 - accuracy: 0.9858\n",
            "Epoch 106/200\n",
            "16/16 [==============================] - 0s 2ms/step - loss: 0.0392 - accuracy: 0.9858\n",
            "Epoch 107/200\n",
            "16/16 [==============================] - 0s 2ms/step - loss: 0.0540 - accuracy: 0.9858\n",
            "Epoch 108/200\n",
            "16/16 [==============================] - 0s 2ms/step - loss: 0.0293 - accuracy: 0.9919\n",
            "Epoch 109/200\n",
            "16/16 [==============================] - 0s 2ms/step - loss: 0.0468 - accuracy: 0.9838\n",
            "Epoch 110/200\n",
            "16/16 [==============================] - 0s 2ms/step - loss: 0.0652 - accuracy: 0.9878\n",
            "Epoch 111/200\n",
            "16/16 [==============================] - 0s 2ms/step - loss: 0.0474 - accuracy: 0.9899\n",
            "Epoch 112/200\n",
            "16/16 [==============================] - 0s 2ms/step - loss: 0.0279 - accuracy: 0.9899\n",
            "Epoch 113/200\n",
            "16/16 [==============================] - 0s 2ms/step - loss: 0.0631 - accuracy: 0.9899\n",
            "Epoch 114/200\n",
            "16/16 [==============================] - 0s 2ms/step - loss: 0.0564 - accuracy: 0.9939\n",
            "Epoch 115/200\n",
            "16/16 [==============================] - 0s 2ms/step - loss: 0.0274 - accuracy: 0.9939\n",
            "Epoch 116/200\n",
            "16/16 [==============================] - 0s 2ms/step - loss: 0.0539 - accuracy: 0.9878\n",
            "Epoch 117/200\n",
            "16/16 [==============================] - 0s 3ms/step - loss: 0.0923 - accuracy: 0.9858\n",
            "Epoch 118/200\n",
            "16/16 [==============================] - 0s 4ms/step - loss: 0.0475 - accuracy: 0.9838\n",
            "Epoch 119/200\n",
            "16/16 [==============================] - 0s 2ms/step - loss: 0.0999 - accuracy: 0.9797\n",
            "Epoch 120/200\n",
            "16/16 [==============================] - 0s 2ms/step - loss: 0.0832 - accuracy: 0.9838\n",
            "Epoch 121/200\n",
            "16/16 [==============================] - 0s 2ms/step - loss: 0.0564 - accuracy: 0.9919\n",
            "Epoch 122/200\n",
            "16/16 [==============================] - 0s 3ms/step - loss: 0.0390 - accuracy: 0.9899\n",
            "Epoch 123/200\n",
            "16/16 [==============================] - 0s 3ms/step - loss: 0.0643 - accuracy: 0.9838\n",
            "Epoch 124/200\n",
            "16/16 [==============================] - 0s 2ms/step - loss: 0.0543 - accuracy: 0.9817\n",
            "Epoch 125/200\n",
            "16/16 [==============================] - 0s 2ms/step - loss: 0.0479 - accuracy: 0.9899\n",
            "Epoch 126/200\n",
            "16/16 [==============================] - 0s 3ms/step - loss: 0.1178 - accuracy: 0.9757\n",
            "Epoch 127/200\n",
            "16/16 [==============================] - 0s 3ms/step - loss: 0.0459 - accuracy: 0.9899\n",
            "Epoch 128/200\n",
            "16/16 [==============================] - 0s 3ms/step - loss: 0.0326 - accuracy: 0.9858\n",
            "Epoch 129/200\n",
            "16/16 [==============================] - 0s 2ms/step - loss: 0.0765 - accuracy: 0.9858\n",
            "Epoch 130/200\n",
            "16/16 [==============================] - 0s 2ms/step - loss: 0.1036 - accuracy: 0.9858\n",
            "Epoch 131/200\n",
            "16/16 [==============================] - 0s 3ms/step - loss: 0.0545 - accuracy: 0.9838\n",
            "Epoch 132/200\n",
            "16/16 [==============================] - 0s 3ms/step - loss: 0.0493 - accuracy: 0.9919\n",
            "Epoch 133/200\n",
            "16/16 [==============================] - 0s 3ms/step - loss: 0.0937 - accuracy: 0.9817\n",
            "Epoch 134/200\n",
            "16/16 [==============================] - 0s 3ms/step - loss: 0.0617 - accuracy: 0.9858\n",
            "Epoch 135/200\n",
            "16/16 [==============================] - 0s 2ms/step - loss: 0.1005 - accuracy: 0.9757\n",
            "Epoch 136/200\n",
            "16/16 [==============================] - 0s 2ms/step - loss: 0.0633 - accuracy: 0.9878\n",
            "Epoch 137/200\n",
            "16/16 [==============================] - 0s 3ms/step - loss: 0.0311 - accuracy: 0.9899\n",
            "Epoch 138/200\n",
            "16/16 [==============================] - 0s 3ms/step - loss: 0.0660 - accuracy: 0.9838\n",
            "Epoch 139/200\n",
            "16/16 [==============================] - 0s 3ms/step - loss: 0.0391 - accuracy: 0.9838\n",
            "Epoch 140/200\n",
            "16/16 [==============================] - 0s 3ms/step - loss: 0.0700 - accuracy: 0.9838\n",
            "Epoch 141/200\n",
            "16/16 [==============================] - 0s 2ms/step - loss: 0.0705 - accuracy: 0.9858\n",
            "Epoch 142/200\n",
            "16/16 [==============================] - 0s 2ms/step - loss: 0.1256 - accuracy: 0.9878\n",
            "Epoch 143/200\n",
            "16/16 [==============================] - 0s 2ms/step - loss: 0.0524 - accuracy: 0.9878\n",
            "Epoch 144/200\n",
            "16/16 [==============================] - 0s 3ms/step - loss: 0.0295 - accuracy: 0.9919\n",
            "Epoch 145/200\n",
            "16/16 [==============================] - 0s 2ms/step - loss: 0.0292 - accuracy: 0.9899\n",
            "Epoch 146/200\n",
            "16/16 [==============================] - 0s 2ms/step - loss: 0.0522 - accuracy: 0.9939\n",
            "Epoch 147/200\n",
            "16/16 [==============================] - 0s 2ms/step - loss: 0.0742 - accuracy: 0.9858\n",
            "Epoch 148/200\n",
            "16/16 [==============================] - 0s 2ms/step - loss: 0.0669 - accuracy: 0.9838\n",
            "Epoch 149/200\n",
            "16/16 [==============================] - 0s 2ms/step - loss: 0.0453 - accuracy: 0.9899\n",
            "Epoch 150/200\n",
            "16/16 [==============================] - 0s 3ms/step - loss: 0.0267 - accuracy: 0.9919\n",
            "Epoch 151/200\n",
            "16/16 [==============================] - 0s 2ms/step - loss: 0.0394 - accuracy: 0.9878\n",
            "Epoch 152/200\n",
            "16/16 [==============================] - 0s 2ms/step - loss: 0.0491 - accuracy: 0.9899\n",
            "Epoch 153/200\n",
            "16/16 [==============================] - 0s 2ms/step - loss: 0.0936 - accuracy: 0.9858\n",
            "Epoch 154/200\n",
            "16/16 [==============================] - 0s 2ms/step - loss: 0.1724 - accuracy: 0.9757\n",
            "Epoch 155/200\n",
            "16/16 [==============================] - 0s 3ms/step - loss: 0.0941 - accuracy: 0.9817\n",
            "Epoch 156/200\n",
            "16/16 [==============================] - 0s 2ms/step - loss: 0.1166 - accuracy: 0.9777\n",
            "Epoch 157/200\n",
            "16/16 [==============================] - 0s 2ms/step - loss: 0.0481 - accuracy: 0.9919\n",
            "Epoch 158/200\n",
            "16/16 [==============================] - 0s 2ms/step - loss: 0.0332 - accuracy: 0.9899\n",
            "Epoch 159/200\n",
            "16/16 [==============================] - 0s 2ms/step - loss: 0.0345 - accuracy: 0.9838\n",
            "Epoch 160/200\n",
            "16/16 [==============================] - 0s 3ms/step - loss: 0.1032 - accuracy: 0.9777\n",
            "Epoch 161/200\n",
            "16/16 [==============================] - 0s 3ms/step - loss: 0.0540 - accuracy: 0.9878\n",
            "Epoch 162/200\n",
            "16/16 [==============================] - 0s 2ms/step - loss: 0.0534 - accuracy: 0.9838\n",
            "Epoch 163/200\n",
            "16/16 [==============================] - 0s 2ms/step - loss: 0.1252 - accuracy: 0.9858\n",
            "Epoch 164/200\n",
            "16/16 [==============================] - 0s 3ms/step - loss: 0.0449 - accuracy: 0.9899\n",
            "Epoch 165/200\n",
            "16/16 [==============================] - 0s 3ms/step - loss: 0.0425 - accuracy: 0.9838\n",
            "Epoch 166/200\n",
            "16/16 [==============================] - 0s 3ms/step - loss: 0.0309 - accuracy: 0.9899\n",
            "Epoch 167/200\n",
            "16/16 [==============================] - 0s 3ms/step - loss: 0.0873 - accuracy: 0.9797\n",
            "Epoch 168/200\n",
            "16/16 [==============================] - 0s 3ms/step - loss: 0.0870 - accuracy: 0.9878\n",
            "Epoch 169/200\n",
            "16/16 [==============================] - 0s 3ms/step - loss: 0.1655 - accuracy: 0.9615\n",
            "Epoch 170/200\n",
            "16/16 [==============================] - 0s 2ms/step - loss: 0.1188 - accuracy: 0.9817\n",
            "Epoch 171/200\n",
            "16/16 [==============================] - 0s 2ms/step - loss: 0.1858 - accuracy: 0.9797\n",
            "Epoch 172/200\n",
            "16/16 [==============================] - 0s 2ms/step - loss: 0.1180 - accuracy: 0.9736\n",
            "Epoch 173/200\n",
            "16/16 [==============================] - 0s 2ms/step - loss: 0.0306 - accuracy: 0.9899\n",
            "Epoch 174/200\n",
            "16/16 [==============================] - 0s 2ms/step - loss: 0.1547 - accuracy: 0.9878\n",
            "Epoch 175/200\n",
            "16/16 [==============================] - 0s 3ms/step - loss: 0.0156 - accuracy: 0.9939\n",
            "Epoch 176/200\n",
            "16/16 [==============================] - 0s 3ms/step - loss: 0.0474 - accuracy: 0.9878\n",
            "Epoch 177/200\n",
            "16/16 [==============================] - 0s 3ms/step - loss: 0.0502 - accuracy: 0.9878\n",
            "Epoch 178/200\n",
            "16/16 [==============================] - 0s 2ms/step - loss: 0.0787 - accuracy: 0.9838\n",
            "Epoch 179/200\n",
            "16/16 [==============================] - 0s 2ms/step - loss: 0.0815 - accuracy: 0.9899\n",
            "Epoch 180/200\n",
            "16/16 [==============================] - 0s 2ms/step - loss: 0.0389 - accuracy: 0.9899\n",
            "Epoch 181/200\n",
            "16/16 [==============================] - 0s 2ms/step - loss: 0.0242 - accuracy: 0.9899\n",
            "Epoch 182/200\n",
            "16/16 [==============================] - 0s 3ms/step - loss: 0.0541 - accuracy: 0.9878\n",
            "Epoch 183/200\n",
            "16/16 [==============================] - 0s 3ms/step - loss: 0.0405 - accuracy: 0.9838\n",
            "Epoch 184/200\n",
            "16/16 [==============================] - 0s 3ms/step - loss: 0.0455 - accuracy: 0.9899\n",
            "Epoch 185/200\n",
            "16/16 [==============================] - 0s 3ms/step - loss: 0.0842 - accuracy: 0.9838\n",
            "Epoch 186/200\n",
            "16/16 [==============================] - 0s 2ms/step - loss: 0.0561 - accuracy: 0.9878\n",
            "Epoch 187/200\n",
            "16/16 [==============================] - 0s 3ms/step - loss: 0.0412 - accuracy: 0.9858\n",
            "Epoch 188/200\n",
            "16/16 [==============================] - 0s 3ms/step - loss: 0.0858 - accuracy: 0.9878\n",
            "Epoch 189/200\n",
            "16/16 [==============================] - 0s 3ms/step - loss: 0.0261 - accuracy: 0.9939\n",
            "Epoch 190/200\n",
            "16/16 [==============================] - 0s 2ms/step - loss: 0.0562 - accuracy: 0.9878\n",
            "Epoch 191/200\n",
            "16/16 [==============================] - 0s 3ms/step - loss: 0.0216 - accuracy: 0.9959\n",
            "Epoch 192/200\n",
            "16/16 [==============================] - 0s 3ms/step - loss: 0.0698 - accuracy: 0.9838\n",
            "Epoch 193/200\n",
            "16/16 [==============================] - 0s 3ms/step - loss: 0.1058 - accuracy: 0.9797\n",
            "Epoch 194/200\n",
            "16/16 [==============================] - 0s 3ms/step - loss: 0.0722 - accuracy: 0.9858\n",
            "Epoch 195/200\n",
            "16/16 [==============================] - 0s 3ms/step - loss: 0.0935 - accuracy: 0.9817\n",
            "Epoch 196/200\n",
            "16/16 [==============================] - 0s 2ms/step - loss: 0.0304 - accuracy: 0.9899\n",
            "Epoch 197/200\n",
            "16/16 [==============================] - 0s 3ms/step - loss: 0.0625 - accuracy: 0.9858\n",
            "Epoch 198/200\n",
            "16/16 [==============================] - 0s 3ms/step - loss: 0.0504 - accuracy: 0.9899\n",
            "Epoch 199/200\n",
            "16/16 [==============================] - 0s 2ms/step - loss: 0.0723 - accuracy: 0.9777\n",
            "Epoch 200/200\n",
            "16/16 [==============================] - 0s 3ms/step - loss: 0.0458 - accuracy: 0.9858\n"
          ],
          "name": "stdout"
        },
        {
          "output_type": "execute_result",
          "data": {
            "text/plain": [
              "<keras.callbacks.History at 0x7fe174a73510>"
            ]
          },
          "metadata": {},
          "execution_count": 107
        }
      ]
    },
    {
      "cell_type": "markdown",
      "metadata": {
        "id": "BgCAeBFI7b46"
      },
      "source": [
        "Metrics / Метрики"
      ]
    },
    {
      "cell_type": "code",
      "metadata": {
        "colab": {
          "base_uri": "https://localhost:8080/"
        },
        "id": "5_EKhYrP7LK0",
        "outputId": "50834c32-17ee-48c4-e0e1-647d13ecee51"
      },
      "source": [
        "score = model.evaluate(X_test, y_test, verbose = 0 )\n",
        "print(\"Test Score: \", score[0])\n",
        "print(\"Test accuracy: \", score[1])"
      ],
      "execution_count": null,
      "outputs": [
        {
          "output_type": "stream",
          "text": [
            "Test Score:  0.6104627847671509\n",
            "Test accuracy:  0.9032257795333862\n"
          ],
          "name": "stdout"
        }
      ]
    },
    {
      "cell_type": "markdown",
      "metadata": {
        "id": "cKnnPw2G70vT"
      },
      "source": [
        "User interaction / Интеракција со корисници"
      ]
    },
    {
      "cell_type": "code",
      "metadata": {
        "id": "BJrSleI1sKyL"
      },
      "source": [
        "def clean_text(text): \n",
        "  tokens = nltk.word_tokenize(text)\n",
        "  tokens = [lemmatizer.lemmatize(word) for word in tokens]\n",
        "  return tokens\n",
        "\n",
        "def bag_of_words(text, vocab): \n",
        "  tokens = clean_text(text)\n",
        "  bow = [0] * len(vocab)\n",
        "  for w in tokens: \n",
        "    for idx, word in enumerate(vocab):\n",
        "      if word == w: \n",
        "        bow[idx] = 1\n",
        "  return np.array(bow)\n",
        "\n",
        "def pred_class(text, vocab, labels): \n",
        "  bow = bag_of_words(text, vocab)\n",
        "  result = model.predict(np.array([bow]))[0]\n",
        "  thresh = 0.2\n",
        "  y_pred = [[idx, res] for idx, res in enumerate(result) if res > thresh]\n",
        "\n",
        "  y_pred.sort(key=lambda x: x[1], reverse=True)\n",
        "  return_list = []\n",
        "  for r in y_pred:\n",
        "    return_list.append(labels[r[0]])\n",
        "  return return_list\n",
        "\n",
        "def get_response(intents_list, intents_json): \n",
        "  tag = intents_list[0]\n",
        "  list_of_intents = intents_json[\"intents\"]\n",
        "  for i in list_of_intents: \n",
        "    if i[\"tag\"] == tag:\n",
        "      result = random.choice(i[\"responses\"])\n",
        "      break\n",
        "  return result"
      ],
      "execution_count": null,
      "outputs": []
    },
    {
      "cell_type": "code",
      "metadata": {
        "colab": {
          "base_uri": "https://localhost:8080/",
          "height": 710
        },
        "id": "hl_SSSI1sUvl",
        "outputId": "66b49113-214d-4406-c418-7d1626c7a205"
      },
      "source": [
        "# running the chatbot\n",
        "while True:\n",
        "    message = input(\"\")\n",
        "    intents = pred_class(message, words, classes)\n",
        "    result = get_response(intents, data)\n",
        "    print(result)"
      ],
      "execution_count": null,
      "outputs": [
        {
          "output_type": "stream",
          "text": [
            "how to be happy\n",
            "Get physical. …\n",
            "be happy\n",
            "Get A Good Laugh. According to an article on Prevention, a study conducted by Stanford University showed that laughter increases dopamine in our brains, which is a chemical that elevates mood.\n",
            "can anxiety kill you\n",
            "The inability to find words can indicate brain injury or infection, strokes, and degenerative diseases like Alzheimer's. However, in those cases, word-forgetting will be only one of many other symptoms. On its own, occasionally forgetting a word is a completely normal part of life.\n",
            "Can anxiety kill you?\n",
            "The inability to find words can indicate brain injury or infection, strokes, and degenerative diseases like Alzheimer's. However, in those cases, word-forgetting will be only one of many other symptoms. On its own, occasionally forgetting a word is a completely normal part of life.\n"
          ],
          "name": "stdout"
        },
        {
          "output_type": "error",
          "ename": "KeyboardInterrupt",
          "evalue": "ignored",
          "traceback": [
            "\u001b[0;31m---------------------------------------------------------------------------\u001b[0m",
            "\u001b[0;31mKeyboardInterrupt\u001b[0m                         Traceback (most recent call last)",
            "\u001b[0;32m/usr/local/lib/python3.7/dist-packages/ipykernel/kernelbase.py\u001b[0m in \u001b[0;36m_input_request\u001b[0;34m(self, prompt, ident, parent, password)\u001b[0m\n\u001b[1;32m    728\u001b[0m             \u001b[0;32mtry\u001b[0m\u001b[0;34m:\u001b[0m\u001b[0;34m\u001b[0m\u001b[0;34m\u001b[0m\u001b[0m\n\u001b[0;32m--> 729\u001b[0;31m                 \u001b[0mident\u001b[0m\u001b[0;34m,\u001b[0m \u001b[0mreply\u001b[0m \u001b[0;34m=\u001b[0m \u001b[0mself\u001b[0m\u001b[0;34m.\u001b[0m\u001b[0msession\u001b[0m\u001b[0;34m.\u001b[0m\u001b[0mrecv\u001b[0m\u001b[0;34m(\u001b[0m\u001b[0mself\u001b[0m\u001b[0;34m.\u001b[0m\u001b[0mstdin_socket\u001b[0m\u001b[0;34m,\u001b[0m \u001b[0;36m0\u001b[0m\u001b[0;34m)\u001b[0m\u001b[0;34m\u001b[0m\u001b[0;34m\u001b[0m\u001b[0m\n\u001b[0m\u001b[1;32m    730\u001b[0m             \u001b[0;32mexcept\u001b[0m \u001b[0mException\u001b[0m\u001b[0;34m:\u001b[0m\u001b[0;34m\u001b[0m\u001b[0;34m\u001b[0m\u001b[0m\n",
            "\u001b[0;32m/usr/local/lib/python3.7/dist-packages/jupyter_client/session.py\u001b[0m in \u001b[0;36mrecv\u001b[0;34m(self, socket, mode, content, copy)\u001b[0m\n\u001b[1;32m    802\u001b[0m         \u001b[0;32mtry\u001b[0m\u001b[0;34m:\u001b[0m\u001b[0;34m\u001b[0m\u001b[0;34m\u001b[0m\u001b[0m\n\u001b[0;32m--> 803\u001b[0;31m             \u001b[0mmsg_list\u001b[0m \u001b[0;34m=\u001b[0m \u001b[0msocket\u001b[0m\u001b[0;34m.\u001b[0m\u001b[0mrecv_multipart\u001b[0m\u001b[0;34m(\u001b[0m\u001b[0mmode\u001b[0m\u001b[0;34m,\u001b[0m \u001b[0mcopy\u001b[0m\u001b[0;34m=\u001b[0m\u001b[0mcopy\u001b[0m\u001b[0;34m)\u001b[0m\u001b[0;34m\u001b[0m\u001b[0;34m\u001b[0m\u001b[0m\n\u001b[0m\u001b[1;32m    804\u001b[0m         \u001b[0;32mexcept\u001b[0m \u001b[0mzmq\u001b[0m\u001b[0;34m.\u001b[0m\u001b[0mZMQError\u001b[0m \u001b[0;32mas\u001b[0m \u001b[0me\u001b[0m\u001b[0;34m:\u001b[0m\u001b[0;34m\u001b[0m\u001b[0;34m\u001b[0m\u001b[0m\n",
            "\u001b[0;32m/usr/local/lib/python3.7/dist-packages/zmq/sugar/socket.py\u001b[0m in \u001b[0;36mrecv_multipart\u001b[0;34m(self, flags, copy, track)\u001b[0m\n\u001b[1;32m    618\u001b[0m         \"\"\"\n\u001b[0;32m--> 619\u001b[0;31m         \u001b[0mparts\u001b[0m \u001b[0;34m=\u001b[0m \u001b[0;34m[\u001b[0m\u001b[0mself\u001b[0m\u001b[0;34m.\u001b[0m\u001b[0mrecv\u001b[0m\u001b[0;34m(\u001b[0m\u001b[0mflags\u001b[0m\u001b[0;34m,\u001b[0m \u001b[0mcopy\u001b[0m\u001b[0;34m=\u001b[0m\u001b[0mcopy\u001b[0m\u001b[0;34m,\u001b[0m \u001b[0mtrack\u001b[0m\u001b[0;34m=\u001b[0m\u001b[0mtrack\u001b[0m\u001b[0;34m)\u001b[0m\u001b[0;34m]\u001b[0m\u001b[0;34m\u001b[0m\u001b[0;34m\u001b[0m\u001b[0m\n\u001b[0m\u001b[1;32m    620\u001b[0m         \u001b[0;31m# have first part already, only loop while more to receive\u001b[0m\u001b[0;34m\u001b[0m\u001b[0;34m\u001b[0m\u001b[0;34m\u001b[0m\u001b[0m\n",
            "\u001b[0;32mzmq/backend/cython/socket.pyx\u001b[0m in \u001b[0;36mzmq.backend.cython.socket.Socket.recv\u001b[0;34m()\u001b[0m\n",
            "\u001b[0;32mzmq/backend/cython/socket.pyx\u001b[0m in \u001b[0;36mzmq.backend.cython.socket.Socket.recv\u001b[0;34m()\u001b[0m\n",
            "\u001b[0;32mzmq/backend/cython/socket.pyx\u001b[0m in \u001b[0;36mzmq.backend.cython.socket._recv_copy\u001b[0;34m()\u001b[0m\n",
            "\u001b[0;32m/usr/local/lib/python3.7/dist-packages/zmq/backend/cython/checkrc.pxd\u001b[0m in \u001b[0;36mzmq.backend.cython.checkrc._check_rc\u001b[0;34m()\u001b[0m\n",
            "\u001b[0;31mKeyboardInterrupt\u001b[0m: ",
            "\nDuring handling of the above exception, another exception occurred:\n",
            "\u001b[0;31mKeyboardInterrupt\u001b[0m                         Traceback (most recent call last)",
            "\u001b[0;32m<ipython-input-27-19466bcd30c0>\u001b[0m in \u001b[0;36m<module>\u001b[0;34m()\u001b[0m\n\u001b[1;32m      1\u001b[0m \u001b[0;31m# running the chatbot\u001b[0m\u001b[0;34m\u001b[0m\u001b[0;34m\u001b[0m\u001b[0;34m\u001b[0m\u001b[0m\n\u001b[1;32m      2\u001b[0m \u001b[0;32mwhile\u001b[0m \u001b[0;32mTrue\u001b[0m\u001b[0;34m:\u001b[0m\u001b[0;34m\u001b[0m\u001b[0;34m\u001b[0m\u001b[0m\n\u001b[0;32m----> 3\u001b[0;31m     \u001b[0mmessage\u001b[0m \u001b[0;34m=\u001b[0m \u001b[0minput\u001b[0m\u001b[0;34m(\u001b[0m\u001b[0;34m\"\"\u001b[0m\u001b[0;34m)\u001b[0m\u001b[0;34m\u001b[0m\u001b[0;34m\u001b[0m\u001b[0m\n\u001b[0m\u001b[1;32m      4\u001b[0m     \u001b[0mintents\u001b[0m \u001b[0;34m=\u001b[0m \u001b[0mpred_class\u001b[0m\u001b[0;34m(\u001b[0m\u001b[0mmessage\u001b[0m\u001b[0;34m,\u001b[0m \u001b[0mwords\u001b[0m\u001b[0;34m,\u001b[0m \u001b[0mclasses\u001b[0m\u001b[0;34m)\u001b[0m\u001b[0;34m\u001b[0m\u001b[0;34m\u001b[0m\u001b[0m\n\u001b[1;32m      5\u001b[0m     \u001b[0mresult\u001b[0m \u001b[0;34m=\u001b[0m \u001b[0mget_response\u001b[0m\u001b[0;34m(\u001b[0m\u001b[0mintents\u001b[0m\u001b[0;34m,\u001b[0m \u001b[0mdata\u001b[0m\u001b[0;34m)\u001b[0m\u001b[0;34m\u001b[0m\u001b[0;34m\u001b[0m\u001b[0m\n",
            "\u001b[0;32m/usr/local/lib/python3.7/dist-packages/ipykernel/kernelbase.py\u001b[0m in \u001b[0;36mraw_input\u001b[0;34m(self, prompt)\u001b[0m\n\u001b[1;32m    702\u001b[0m             \u001b[0mself\u001b[0m\u001b[0;34m.\u001b[0m\u001b[0m_parent_ident\u001b[0m\u001b[0;34m,\u001b[0m\u001b[0;34m\u001b[0m\u001b[0;34m\u001b[0m\u001b[0m\n\u001b[1;32m    703\u001b[0m             \u001b[0mself\u001b[0m\u001b[0;34m.\u001b[0m\u001b[0m_parent_header\u001b[0m\u001b[0;34m,\u001b[0m\u001b[0;34m\u001b[0m\u001b[0;34m\u001b[0m\u001b[0m\n\u001b[0;32m--> 704\u001b[0;31m             \u001b[0mpassword\u001b[0m\u001b[0;34m=\u001b[0m\u001b[0;32mFalse\u001b[0m\u001b[0;34m,\u001b[0m\u001b[0;34m\u001b[0m\u001b[0;34m\u001b[0m\u001b[0m\n\u001b[0m\u001b[1;32m    705\u001b[0m         )\n\u001b[1;32m    706\u001b[0m \u001b[0;34m\u001b[0m\u001b[0m\n",
            "\u001b[0;32m/usr/local/lib/python3.7/dist-packages/ipykernel/kernelbase.py\u001b[0m in \u001b[0;36m_input_request\u001b[0;34m(self, prompt, ident, parent, password)\u001b[0m\n\u001b[1;32m    732\u001b[0m             \u001b[0;32mexcept\u001b[0m \u001b[0mKeyboardInterrupt\u001b[0m\u001b[0;34m:\u001b[0m\u001b[0;34m\u001b[0m\u001b[0;34m\u001b[0m\u001b[0m\n\u001b[1;32m    733\u001b[0m                 \u001b[0;31m# re-raise KeyboardInterrupt, to truncate traceback\u001b[0m\u001b[0;34m\u001b[0m\u001b[0;34m\u001b[0m\u001b[0;34m\u001b[0m\u001b[0m\n\u001b[0;32m--> 734\u001b[0;31m                 \u001b[0;32mraise\u001b[0m \u001b[0mKeyboardInterrupt\u001b[0m\u001b[0;34m\u001b[0m\u001b[0;34m\u001b[0m\u001b[0m\n\u001b[0m\u001b[1;32m    735\u001b[0m             \u001b[0;32melse\u001b[0m\u001b[0;34m:\u001b[0m\u001b[0;34m\u001b[0m\u001b[0;34m\u001b[0m\u001b[0m\n\u001b[1;32m    736\u001b[0m                 \u001b[0;32mbreak\u001b[0m\u001b[0;34m\u001b[0m\u001b[0;34m\u001b[0m\u001b[0m\n",
            "\u001b[0;31mKeyboardInterrupt\u001b[0m: "
          ]
        }
      ]
    },
    {
      "cell_type": "markdown",
      "metadata": {
        "id": "ATHybfLP371H"
      },
      "source": [
        "Поради while True: е KeyboardInterrupt:"
      ]
    }
  ]
}