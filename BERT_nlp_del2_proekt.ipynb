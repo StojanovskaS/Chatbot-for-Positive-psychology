{
  "nbformat": 4,
  "nbformat_minor": 0,
  "metadata": {
    "colab": {
      "name": "BERT_nlp_del2_proekt.ipynb",
      "provenance": [],
      "collapsed_sections": []
    },
    "kernelspec": {
      "name": "python3",
      "display_name": "Python 3"
    },
    "accelerator": "GPU"
  },
  "cells": [
    {
      "cell_type": "code",
      "metadata": {
        "colab": {
          "base_uri": "https://localhost:8080/"
        },
        "id": "OMvtu7lU2tv8",
        "outputId": "3d7432cc-196e-4abd-fc41-8362c9212d1a"
      },
      "source": [
        "import tensorflow as tf\n",
        "#ime na gpu uredot\n",
        "device_name = tf.test.gpu_device_name()\n",
        "\n",
        "if device_name == '/device:GPU:0':\n",
        "    print('Najdeno GPU vo: {}'.format(device_name))\n",
        "else:\n",
        "    raise SystemError('GPU ured ne e najden')"
      ],
      "execution_count": null,
      "outputs": [
        {
          "output_type": "stream",
          "text": [
            "Najdeno GPU vo: /device:GPU:0\n"
          ],
          "name": "stdout"
        }
      ]
    },
    {
      "cell_type": "code",
      "metadata": {
        "colab": {
          "base_uri": "https://localhost:8080/"
        },
        "id": "wKNxbI463Ajp",
        "outputId": "315eca64-fafb-4333-a4d4-a90e8450739e"
      },
      "source": [
        "import torch\n",
        "# ako ima GPU\n",
        "if torch.cuda.is_available():    \n",
        "    #  PyTorch koristi go GPU.    \n",
        "    device = torch.device(\"cuda\")\n",
        "    print('Ima %d GPU(s) dostapni.' % torch.cuda.device_count())\n",
        "    # vajda 1 sekogas\n",
        "    print('Pytorch ke go koristi GPU:', torch.cuda.get_device_name(0))\n",
        "# If not...\n",
        "else:\n",
        "    print('Nema GPU dostapno, korsistime cpu.')\n",
        "    device = torch.device(\"cpu\")"
      ],
      "execution_count": null,
      "outputs": [
        {
          "output_type": "stream",
          "text": [
            "Ima 1 GPU(s) dostapni.\n",
            "Pytorch ke go koristi GPU: Tesla T4\n"
          ],
          "name": "stdout"
        }
      ]
    },
    {
      "cell_type": "code",
      "metadata": {
        "colab": {
          "base_uri": "https://localhost:8080/"
        },
        "id": "4Ylhr6EV_K1T",
        "outputId": "55da8092-9ea8-4fa0-fc69-5dbfa402764e"
      },
      "source": [
        "!pip install transformers"
      ],
      "execution_count": null,
      "outputs": [
        {
          "output_type": "stream",
          "text": [
            "Requirement already satisfied: transformers in /usr/local/lib/python3.7/dist-packages (4.6.1)\n",
            "Requirement already satisfied: packaging in /usr/local/lib/python3.7/dist-packages (from transformers) (20.9)\n",
            "Requirement already satisfied: huggingface-hub==0.0.8 in /usr/local/lib/python3.7/dist-packages (from transformers) (0.0.8)\n",
            "Requirement already satisfied: numpy>=1.17 in /usr/local/lib/python3.7/dist-packages (from transformers) (1.19.5)\n",
            "Requirement already satisfied: regex!=2019.12.17 in /usr/local/lib/python3.7/dist-packages (from transformers) (2019.12.20)\n",
            "Requirement already satisfied: sacremoses in /usr/local/lib/python3.7/dist-packages (from transformers) (0.0.45)\n",
            "Requirement already satisfied: importlib-metadata; python_version < \"3.8\" in /usr/local/lib/python3.7/dist-packages (from transformers) (4.0.1)\n",
            "Requirement already satisfied: requests in /usr/local/lib/python3.7/dist-packages (from transformers) (2.23.0)\n",
            "Requirement already satisfied: filelock in /usr/local/lib/python3.7/dist-packages (from transformers) (3.0.12)\n",
            "Requirement already satisfied: tqdm>=4.27 in /usr/local/lib/python3.7/dist-packages (from transformers) (4.41.1)\n",
            "Requirement already satisfied: tokenizers<0.11,>=0.10.1 in /usr/local/lib/python3.7/dist-packages (from transformers) (0.10.3)\n",
            "Requirement already satisfied: pyparsing>=2.0.2 in /usr/local/lib/python3.7/dist-packages (from packaging->transformers) (2.4.7)\n",
            "Requirement already satisfied: six in /usr/local/lib/python3.7/dist-packages (from sacremoses->transformers) (1.15.0)\n",
            "Requirement already satisfied: click in /usr/local/lib/python3.7/dist-packages (from sacremoses->transformers) (7.1.2)\n",
            "Requirement already satisfied: joblib in /usr/local/lib/python3.7/dist-packages (from sacremoses->transformers) (1.0.1)\n",
            "Requirement already satisfied: typing-extensions>=3.6.4; python_version < \"3.8\" in /usr/local/lib/python3.7/dist-packages (from importlib-metadata; python_version < \"3.8\"->transformers) (3.7.4.3)\n",
            "Requirement already satisfied: zipp>=0.5 in /usr/local/lib/python3.7/dist-packages (from importlib-metadata; python_version < \"3.8\"->transformers) (3.4.1)\n",
            "Requirement already satisfied: urllib3!=1.25.0,!=1.25.1,<1.26,>=1.21.1 in /usr/local/lib/python3.7/dist-packages (from requests->transformers) (1.24.3)\n",
            "Requirement already satisfied: certifi>=2017.4.17 in /usr/local/lib/python3.7/dist-packages (from requests->transformers) (2020.12.5)\n",
            "Requirement already satisfied: idna<3,>=2.5 in /usr/local/lib/python3.7/dist-packages (from requests->transformers) (2.10)\n",
            "Requirement already satisfied: chardet<4,>=3.0.2 in /usr/local/lib/python3.7/dist-packages (from requests->transformers) (3.0.4)\n"
          ],
          "name": "stdout"
        }
      ]
    },
    {
      "cell_type": "markdown",
      "metadata": {
        "id": "ge2K-2w6GwR0"
      },
      "source": [
        "\n",
        "\n",
        "\n",
        "\n",
        "1.   1 mnozestvo 400 primeroci  \n",
        "2.   2 test mnozestvo 257 primeroci\n",
        "\n"
      ]
    },
    {
      "cell_type": "code",
      "metadata": {
        "id": "mIAZWABrG9Mz"
      },
      "source": [
        "import pandas as pd\n",
        "import numpy as np\n",
        "# treining_1=pd.read_csv(\"/content/drive/MyDrive/Dataset_NLP_emocii.csv\")\n",
        "treining_1=pd.read_csv(\"/content/drive/MyDrive/Dataset_NLP_elena_300.csv\")\n",
        "trening_2=pd.read_csv(\"/content/drive/MyDrive/dataset_sandra_new_300_emocii.csv\")\n",
        "trening_3=pd.read_csv(\"/content/drive/MyDrive/golemo-mnozestvo.csv\")\n",
        "test=pd.read_csv(\"/content/drive/MyDrive/prashanja-60-dodatok.csv\")"
      ],
      "execution_count": null,
      "outputs": []
    },
    {
      "cell_type": "code",
      "metadata": {
        "colab": {
          "base_uri": "https://localhost:8080/",
          "height": 385
        },
        "id": "fJCzF-_OIFXe",
        "outputId": "fc6b2936-f8fd-4576-879f-c9b79c44e667"
      },
      "source": [
        "treining_1.head()"
      ],
      "execution_count": null,
      "outputs": [
        {
          "output_type": "execute_result",
          "data": {
            "text/html": [
              "<div>\n",
              "<style scoped>\n",
              "    .dataframe tbody tr th:only-of-type {\n",
              "        vertical-align: middle;\n",
              "    }\n",
              "\n",
              "    .dataframe tbody tr th {\n",
              "        vertical-align: top;\n",
              "    }\n",
              "\n",
              "    .dataframe thead th {\n",
              "        text-align: right;\n",
              "    }\n",
              "</style>\n",
              "<table border=\"1\" class=\"dataframe\">\n",
              "  <thead>\n",
              "    <tr style=\"text-align: right;\">\n",
              "      <th></th>\n",
              "      <th>Questions</th>\n",
              "      <th>Whilst death anxiety itself isn't a disorder, existential fears lie at the core of many anxiety and depressive disorders. This means that it is often linked to these kinds of mental health issues – Generalised Anxiety Disorder (GAD) in particular, which is characterised by frequent and uncontrollable worrying.</th>\n",
              "      <th>Sentiment</th>\n",
              "    </tr>\n",
              "  </thead>\n",
              "  <tbody>\n",
              "    <tr>\n",
              "      <th>0</th>\n",
              "      <td>Unexpected loss of my dad, my best friend. Fee...</td>\n",
              "      <td>As horrible and negative as you are feeling ri...</td>\n",
              "      <td>Grief</td>\n",
              "    </tr>\n",
              "    <tr>\n",
              "      <th>1</th>\n",
              "      <td>Unexpected loss of my dad, the person who offe...</td>\n",
              "      <td>I feel for you mate, so strongly.</td>\n",
              "      <td>Grief</td>\n",
              "    </tr>\n",
              "    <tr>\n",
              "      <th>2</th>\n",
              "      <td>I have lost my dad - my favorite person in the...</td>\n",
              "      <td>This grief period will take as long as it take...</td>\n",
              "      <td>Grief</td>\n",
              "    </tr>\n",
              "    <tr>\n",
              "      <th>3</th>\n",
              "      <td>Unexpected loss of my dad, a person who was tr...</td>\n",
              "      <td>I am so sorry to hear what you are going throu...</td>\n",
              "      <td>Grief</td>\n",
              "    </tr>\n",
              "    <tr>\n",
              "      <th>4</th>\n",
              "      <td>I lost my dog to sudden illness, the grief is...</td>\n",
              "      <td>Isn't that the hardest part when it does just ...</td>\n",
              "      <td>Grief</td>\n",
              "    </tr>\n",
              "  </tbody>\n",
              "</table>\n",
              "</div>"
            ],
            "text/plain": [
              "                                           Questions  ... Sentiment\n",
              "0  Unexpected loss of my dad, my best friend. Fee...  ...     Grief\n",
              "1  Unexpected loss of my dad, the person who offe...  ...     Grief\n",
              "2  I have lost my dad - my favorite person in the...  ...     Grief\n",
              "3  Unexpected loss of my dad, a person who was tr...  ...     Grief\n",
              "4   I lost my dog to sudden illness, the grief is...  ...     Grief\n",
              "\n",
              "[5 rows x 3 columns]"
            ]
          },
          "metadata": {
            "tags": []
          },
          "execution_count": 5
        }
      ]
    },
    {
      "cell_type": "code",
      "metadata": {
        "colab": {
          "base_uri": "https://localhost:8080/",
          "height": 202
        },
        "id": "QPfVLhN9II2Q",
        "outputId": "3cb9fff5-736e-4836-d0fd-a40e1e3b418a"
      },
      "source": [
        "trening_2.rename(columns={'Emocia': 'Sentiment'}, inplace=True)\n",
        "trening_2.rename(columns={\"Question\":\"Questions\"},inplace=True)\n",
        "trening_2.rename(columns={\"Answer\":\"Answers\"},inplace=True)\n",
        "trening_2.head()"
      ],
      "execution_count": null,
      "outputs": [
        {
          "output_type": "execute_result",
          "data": {
            "text/html": [
              "<div>\n",
              "<style scoped>\n",
              "    .dataframe tbody tr th:only-of-type {\n",
              "        vertical-align: middle;\n",
              "    }\n",
              "\n",
              "    .dataframe tbody tr th {\n",
              "        vertical-align: top;\n",
              "    }\n",
              "\n",
              "    .dataframe thead th {\n",
              "        text-align: right;\n",
              "    }\n",
              "</style>\n",
              "<table border=\"1\" class=\"dataframe\">\n",
              "  <thead>\n",
              "    <tr style=\"text-align: right;\">\n",
              "      <th></th>\n",
              "      <th>Questions</th>\n",
              "      <th>Answers</th>\n",
              "      <th>Sentiment</th>\n",
              "    </tr>\n",
              "  </thead>\n",
              "  <tbody>\n",
              "    <tr>\n",
              "      <th>0</th>\n",
              "      <td>I need help with abusive neighbor</td>\n",
              "      <td>I know it's not a great help but have you ever...</td>\n",
              "      <td>fear</td>\n",
              "    </tr>\n",
              "    <tr>\n",
              "      <th>1</th>\n",
              "      <td>I need help with abusive neighbor</td>\n",
              "      <td>I suppose you could try ignoring it. I mean- i...</td>\n",
              "      <td>faer</td>\n",
              "    </tr>\n",
              "    <tr>\n",
              "      <th>2</th>\n",
              "      <td>I need help with abusive neighbor</td>\n",
              "      <td>I understand about not wanting to move- short ...</td>\n",
              "      <td>fear</td>\n",
              "    </tr>\n",
              "    <tr>\n",
              "      <th>3</th>\n",
              "      <td>\\n\\n \\nIs the MBTi test accurate and reliable?</td>\n",
              "      <td>Just a thought, although we know the tests, wh...</td>\n",
              "      <td>curiosity</td>\n",
              "    </tr>\n",
              "    <tr>\n",
              "      <th>4</th>\n",
              "      <td>Is the MBTi test accurate and reliable?</td>\n",
              "      <td>So first off I am not a professional so this i...</td>\n",
              "      <td>curiosity</td>\n",
              "    </tr>\n",
              "  </tbody>\n",
              "</table>\n",
              "</div>"
            ],
            "text/plain": [
              "                                        Questions  ...  Sentiment\n",
              "0               I need help with abusive neighbor  ...       fear\n",
              "1               I need help with abusive neighbor  ...       faer\n",
              "2               I need help with abusive neighbor  ...       fear\n",
              "3  \\n\\n \\nIs the MBTi test accurate and reliable?  ...  curiosity\n",
              "4         Is the MBTi test accurate and reliable?  ...  curiosity\n",
              "\n",
              "[5 rows x 3 columns]"
            ]
          },
          "metadata": {
            "tags": []
          },
          "execution_count": 6
        }
      ]
    },
    {
      "cell_type": "code",
      "metadata": {
        "colab": {
          "base_uri": "https://localhost:8080/"
        },
        "id": "uKybdAF1i8n0",
        "outputId": "f72bfda1-fd5e-417d-f7df-bec797571485"
      },
      "source": [
        "len(trening_3)"
      ],
      "execution_count": null,
      "outputs": [
        {
          "output_type": "execute_result",
          "data": {
            "text/plain": [
              "2129"
            ]
          },
          "metadata": {
            "tags": []
          },
          "execution_count": 7
        }
      ]
    },
    {
      "cell_type": "code",
      "metadata": {
        "colab": {
          "base_uri": "https://localhost:8080/",
          "height": 202
        },
        "id": "kfHBSdihi_c_",
        "outputId": "61ae698a-4090-412b-8840-94e978eb90f1"
      },
      "source": [
        "trening_3.head()"
      ],
      "execution_count": null,
      "outputs": [
        {
          "output_type": "execute_result",
          "data": {
            "text/html": [
              "<div>\n",
              "<style scoped>\n",
              "    .dataframe tbody tr th:only-of-type {\n",
              "        vertical-align: middle;\n",
              "    }\n",
              "\n",
              "    .dataframe tbody tr th {\n",
              "        vertical-align: top;\n",
              "    }\n",
              "\n",
              "    .dataframe thead th {\n",
              "        text-align: right;\n",
              "    }\n",
              "</style>\n",
              "<table border=\"1\" class=\"dataframe\">\n",
              "  <thead>\n",
              "    <tr style=\"text-align: right;\">\n",
              "      <th></th>\n",
              "      <th>Questions</th>\n",
              "      <th>Sentiment</th>\n",
              "      <th>Answers</th>\n",
              "    </tr>\n",
              "  </thead>\n",
              "  <tbody>\n",
              "    <tr>\n",
              "      <th>0</th>\n",
              "      <td>I'm going through some things with my feelings...</td>\n",
              "      <td>depression</td>\n",
              "      <td>If everyone thinks you're worthless, then mayb...</td>\n",
              "    </tr>\n",
              "    <tr>\n",
              "      <th>1</th>\n",
              "      <td>I'm going through some things with my feelings...</td>\n",
              "      <td>depression</td>\n",
              "      <td>Hello, and thank you for your question and see...</td>\n",
              "    </tr>\n",
              "    <tr>\n",
              "      <th>2</th>\n",
              "      <td>I'm going through some things with my feelings...</td>\n",
              "      <td>depression</td>\n",
              "      <td>First thing I'd suggest is getting the sleep y...</td>\n",
              "    </tr>\n",
              "    <tr>\n",
              "      <th>3</th>\n",
              "      <td>I'm going through some things with my feelings...</td>\n",
              "      <td>depression</td>\n",
              "      <td>Therapy is essential for those that are feelin...</td>\n",
              "    </tr>\n",
              "    <tr>\n",
              "      <th>4</th>\n",
              "      <td>I'm going through some things with my feelings...</td>\n",
              "      <td>depression</td>\n",
              "      <td>I first want to let you know that you are not ...</td>\n",
              "    </tr>\n",
              "  </tbody>\n",
              "</table>\n",
              "</div>"
            ],
            "text/plain": [
              "                                           Questions  ...                                            Answers\n",
              "0  I'm going through some things with my feelings...  ...  If everyone thinks you're worthless, then mayb...\n",
              "1  I'm going through some things with my feelings...  ...  Hello, and thank you for your question and see...\n",
              "2  I'm going through some things with my feelings...  ...  First thing I'd suggest is getting the sleep y...\n",
              "3  I'm going through some things with my feelings...  ...  Therapy is essential for those that are feelin...\n",
              "4  I'm going through some things with my feelings...  ...  I first want to let you know that you are not ...\n",
              "\n",
              "[5 rows x 3 columns]"
            ]
          },
          "metadata": {
            "tags": []
          },
          "execution_count": 8
        }
      ]
    },
    {
      "cell_type": "code",
      "metadata": {
        "colab": {
          "base_uri": "https://localhost:8080/"
        },
        "id": "RT2yc7deuR6D",
        "outputId": "23374793-5899-420b-8d9b-006beedf38d3"
      },
      "source": [
        "trening_3.Sentiment.unique()"
      ],
      "execution_count": null,
      "outputs": [
        {
          "output_type": "execute_result",
          "data": {
            "text/plain": [
              "array(['depression', 'anxiety', 'parenting', 'self-esteem',\n",
              "       'relationship-dissolution', 'workplace-relationships',\n",
              "       'spirituality', 'trauma', 'domestic-violence', 'anger-management',\n",
              "       'sleep-improvement', 'intimacy', 'grief-and-loss',\n",
              "       'substance-abuse', 'family-conflict', 'marriage',\n",
              "       'eating-disorders', 'relationships', 'lgbtq', 'behavioral-change',\n",
              "       'addiction', 'legal-regulatory', 'professional-ethics', 'stress',\n",
              "       'human-sexuality', 'social-relationships', 'children-adolescents',\n",
              "       'military-issues', 'self-harm', 'diagnosis',\n",
              "       'counseling-fundamentals'], dtype=object)"
            ]
          },
          "metadata": {
            "tags": []
          },
          "execution_count": 9
        }
      ]
    },
    {
      "cell_type": "code",
      "metadata": {
        "id": "9RhUfGjQJeqU"
      },
      "source": [
        "trening = pd.concat([treining_1, trening_2], ignore_index=True, sort=False)\n"
      ],
      "execution_count": null,
      "outputs": []
    },
    {
      "cell_type": "code",
      "metadata": {
        "id": "3hSJf7I5in-t"
      },
      "source": [
        "trening = pd.concat([trening, trening_3], ignore_index=True, sort=False)"
      ],
      "execution_count": null,
      "outputs": []
    },
    {
      "cell_type": "code",
      "metadata": {
        "id": "xB35tng0kIUV"
      },
      "source": [
        "from sklearn.model_selection import train_test_split\n",
        "\n",
        "trening, test_2 = train_test_split(trening, test_size=0.2)\n"
      ],
      "execution_count": null,
      "outputs": []
    },
    {
      "cell_type": "code",
      "metadata": {
        "colab": {
          "base_uri": "https://localhost:8080/"
        },
        "id": "msM35XkBngkO",
        "outputId": "a5bcd0f6-cc1a-4389-e783-84038fc9fd11"
      },
      "source": [
        "len(test_2)"
      ],
      "execution_count": null,
      "outputs": [
        {
          "output_type": "execute_result",
          "data": {
            "text/plain": [
              "546"
            ]
          },
          "metadata": {
            "tags": []
          },
          "execution_count": 13
        }
      ]
    },
    {
      "cell_type": "code",
      "metadata": {
        "colab": {
          "base_uri": "https://localhost:8080/",
          "height": 781
        },
        "id": "d8zI7-sEku6W",
        "outputId": "0b0e0ef5-2871-42a8-c80a-a9fe69976e59"
      },
      "source": [
        "test_2"
      ],
      "execution_count": null,
      "outputs": [
        {
          "output_type": "execute_result",
          "data": {
            "text/html": [
              "<div>\n",
              "<style scoped>\n",
              "    .dataframe tbody tr th:only-of-type {\n",
              "        vertical-align: middle;\n",
              "    }\n",
              "\n",
              "    .dataframe tbody tr th {\n",
              "        vertical-align: top;\n",
              "    }\n",
              "\n",
              "    .dataframe thead th {\n",
              "        text-align: right;\n",
              "    }\n",
              "</style>\n",
              "<table border=\"1\" class=\"dataframe\">\n",
              "  <thead>\n",
              "    <tr style=\"text-align: right;\">\n",
              "      <th></th>\n",
              "      <th>Questions</th>\n",
              "      <th>Whilst death anxiety itself isn't a disorder, existential fears lie at the core of many anxiety and depressive disorders. This means that it is often linked to these kinds of mental health issues – Generalised Anxiety Disorder (GAD) in particular, which is characterised by frequent and uncontrollable worrying.</th>\n",
              "      <th>Sentiment</th>\n",
              "      <th>Answers</th>\n",
              "    </tr>\n",
              "  </thead>\n",
              "  <tbody>\n",
              "    <tr>\n",
              "      <th>2429</th>\n",
              "      <td>I was “mentored” by this guy for a few years s...</td>\n",
              "      <td>NaN</td>\n",
              "      <td>social-relationships</td>\n",
              "      <td>It doesn't really matter what the actual diagn...</td>\n",
              "    </tr>\n",
              "    <tr>\n",
              "      <th>857</th>\n",
              "      <td>I'm starting to think that I might have depres...</td>\n",
              "      <td>NaN</td>\n",
              "      <td>depression</td>\n",
              "      <td>It is possible that you have depression, but y...</td>\n",
              "    </tr>\n",
              "    <tr>\n",
              "      <th>1274</th>\n",
              "      <td>I am in my early 20s and I still live with my ...</td>\n",
              "      <td>NaN</td>\n",
              "      <td>parenting</td>\n",
              "      <td>Unfortunately you seem to have yourself in a d...</td>\n",
              "    </tr>\n",
              "    <tr>\n",
              "      <th>437</th>\n",
              "      <td>How do you keep a positive mindset?</td>\n",
              "      <td>NaN</td>\n",
              "      <td>happy</td>\n",
              "      <td>Try not to expect results.</td>\n",
              "    </tr>\n",
              "    <tr>\n",
              "      <th>1321</th>\n",
              "      <td>What makes my step child, an 8 year old boy, c...</td>\n",
              "      <td>NaN</td>\n",
              "      <td>parenting</td>\n",
              "      <td>I can see why you are alarmed. That is a scary...</td>\n",
              "    </tr>\n",
              "    <tr>\n",
              "      <th>...</th>\n",
              "      <td>...</td>\n",
              "      <td>...</td>\n",
              "      <td>...</td>\n",
              "      <td>...</td>\n",
              "    </tr>\n",
              "    <tr>\n",
              "      <th>290</th>\n",
              "      <td>Should I tell the guy I like that I like him?</td>\n",
              "      <td>Friendly advice: If you are scientifically sur...</td>\n",
              "      <td>Love</td>\n",
              "      <td>NaN</td>\n",
              "    </tr>\n",
              "    <tr>\n",
              "      <th>1071</th>\n",
              "      <td>I'm just an extremely paranoid person. I const...</td>\n",
              "      <td>NaN</td>\n",
              "      <td>anxiety</td>\n",
              "      <td>One approach is to be more accepting of yourse...</td>\n",
              "    </tr>\n",
              "    <tr>\n",
              "      <th>2331</th>\n",
              "      <td>For the past four weeks, I've been having nigh...</td>\n",
              "      <td>NaN</td>\n",
              "      <td>behavioral-change</td>\n",
              "      <td>I would recommend that you talk with a mental ...</td>\n",
              "    </tr>\n",
              "    <tr>\n",
              "      <th>311</th>\n",
              "      <td>I feel so lost.</td>\n",
              "      <td>NaN</td>\n",
              "      <td>grief</td>\n",
              "      <td>Use Your Lost and Loneliness as a Self-Directi...</td>\n",
              "    </tr>\n",
              "    <tr>\n",
              "      <th>503</th>\n",
              "      <td>i have a fear of blood.</td>\n",
              "      <td>NaN</td>\n",
              "      <td>fear</td>\n",
              "      <td>Vasovagal syncope (vay-zoh-VAY-gul SING-kuh-pe...</td>\n",
              "    </tr>\n",
              "  </tbody>\n",
              "</table>\n",
              "<p>546 rows × 4 columns</p>\n",
              "</div>"
            ],
            "text/plain": [
              "                                              Questions  ...                                            Answers\n",
              "2429  I was “mentored” by this guy for a few years s...  ...  It doesn't really matter what the actual diagn...\n",
              "857   I'm starting to think that I might have depres...  ...  It is possible that you have depression, but y...\n",
              "1274  I am in my early 20s and I still live with my ...  ...  Unfortunately you seem to have yourself in a d...\n",
              "437                 How do you keep a positive mindset?  ...                         Try not to expect results.\n",
              "1321  What makes my step child, an 8 year old boy, c...  ...  I can see why you are alarmed. That is a scary...\n",
              "...                                                 ...  ...                                                ...\n",
              "290       Should I tell the guy I like that I like him?  ...                                                NaN\n",
              "1071  I'm just an extremely paranoid person. I const...  ...  One approach is to be more accepting of yourse...\n",
              "2331  For the past four weeks, I've been having nigh...  ...  I would recommend that you talk with a mental ...\n",
              "311                                     I feel so lost.  ...  Use Your Lost and Loneliness as a Self-Directi...\n",
              "503                             i have a fear of blood.  ...  Vasovagal syncope (vay-zoh-VAY-gul SING-kuh-pe...\n",
              "\n",
              "[546 rows x 4 columns]"
            ]
          },
          "metadata": {
            "tags": []
          },
          "execution_count": 14
        }
      ]
    },
    {
      "cell_type": "code",
      "metadata": {
        "colab": {
          "base_uri": "https://localhost:8080/"
        },
        "id": "PuxBE7QhJx9_",
        "outputId": "1a714436-040b-4e70-8b0d-0214e5b6b288"
      },
      "source": [
        "trening.Sentiment=trening['Sentiment'].str.lower()\n",
        "trening.Sentiment.unique()"
      ],
      "execution_count": null,
      "outputs": [
        {
          "output_type": "execute_result",
          "data": {
            "text/plain": [
              "array(['anxiety', 'diagnosis', 'domestic-violence',\n",
              "       'counseling-fundamentals', 'depression', 'workplace-relationships',\n",
              "       'behavioral-change', 'relationships', 'love', 'grief', 'happiness',\n",
              "       'marriage', 'parenting', 'self-esteem', 'intimacy',\n",
              "       'relationship-dissolution', 'family-conflict', 'curiosity',\n",
              "       'anger-management', 'substance-abuse', 'lgbtq', 'fear',\n",
              "       'grief-and-loss', 'professional-ethics', 'trauma', 'happy',\n",
              "       'social-relationships', nan, 'spirituality',\n",
              "       'children-adolescents', 'military-issues', 'sleep-improvement',\n",
              "       'self-harm', 'addiction', 'eating-disorders', 'human-sexuality',\n",
              "       'stress', 'legal-regulatory', 'faer'], dtype=object)"
            ]
          },
          "metadata": {
            "tags": []
          },
          "execution_count": 15
        }
      ]
    },
    {
      "cell_type": "code",
      "metadata": {
        "id": "00YdYrzYLta5"
      },
      "source": [
        "trening.Sentiment.replace(\"happiness\",\"happy\",inplace=True)"
      ],
      "execution_count": null,
      "outputs": []
    },
    {
      "cell_type": "code",
      "metadata": {
        "colab": {
          "base_uri": "https://localhost:8080/"
        },
        "id": "DN0WTwg8L3QQ",
        "outputId": "a3febb4d-1f5f-40bb-caad-32af68724615"
      },
      "source": [
        "trening.Sentiment.replace(\"faer\",\"fear\",inplace=True)\n",
        "trening.Sentiment.unique()"
      ],
      "execution_count": null,
      "outputs": [
        {
          "output_type": "execute_result",
          "data": {
            "text/plain": [
              "array(['anxiety', 'diagnosis', 'domestic-violence',\n",
              "       'counseling-fundamentals', 'depression', 'workplace-relationships',\n",
              "       'behavioral-change', 'relationships', 'love', 'grief', 'happy',\n",
              "       'marriage', 'parenting', 'self-esteem', 'intimacy',\n",
              "       'relationship-dissolution', 'family-conflict', 'curiosity',\n",
              "       'anger-management', 'substance-abuse', 'lgbtq', 'fear',\n",
              "       'grief-and-loss', 'professional-ethics', 'trauma',\n",
              "       'social-relationships', nan, 'spirituality',\n",
              "       'children-adolescents', 'military-issues', 'sleep-improvement',\n",
              "       'self-harm', 'addiction', 'eating-disorders', 'human-sexuality',\n",
              "       'stress', 'legal-regulatory'], dtype=object)"
            ]
          },
          "metadata": {
            "tags": []
          },
          "execution_count": 17
        }
      ]
    },
    {
      "cell_type": "code",
      "metadata": {
        "colab": {
          "base_uri": "https://localhost:8080/"
        },
        "id": "xLwYvB2yMM9E",
        "outputId": "3bfc9bb2-8b06-44ee-c478-93ee545f2ed1"
      },
      "source": [
        "trening['Sentiment'].isnull().values.sum()\n",
        "# poso imase 1 \n",
        "trening.Sentiment.replace(np.nan,\"love\",inplace=True)\n",
        "# ovoj red cisto da ja sredam rabotata\n",
        "trening.Sentiment.unique()\n"
      ],
      "execution_count": null,
      "outputs": [
        {
          "output_type": "execute_result",
          "data": {
            "text/plain": [
              "array(['anxiety', 'diagnosis', 'domestic-violence',\n",
              "       'counseling-fundamentals', 'depression', 'workplace-relationships',\n",
              "       'behavioral-change', 'relationships', 'love', 'grief', 'happy',\n",
              "       'marriage', 'parenting', 'self-esteem', 'intimacy',\n",
              "       'relationship-dissolution', 'family-conflict', 'curiosity',\n",
              "       'anger-management', 'substance-abuse', 'lgbtq', 'fear',\n",
              "       'grief-and-loss', 'professional-ethics', 'trauma',\n",
              "       'social-relationships', 'spirituality', 'children-adolescents',\n",
              "       'military-issues', 'sleep-improvement', 'self-harm', 'addiction',\n",
              "       'eating-disorders', 'human-sexuality', 'stress',\n",
              "       'legal-regulatory'], dtype=object)"
            ]
          },
          "metadata": {
            "tags": []
          },
          "execution_count": 18
        }
      ]
    },
    {
      "cell_type": "code",
      "metadata": {
        "id": "JSzn8INaINJ1"
      },
      "source": [
        "test.rename(columns={'Emotiton': 'Sentiment',\"Question\":\"Questions\"}, inplace=True)\n",
        "test.head()\n",
        "test.Sentiment[2]='fear'\n",
        "test = pd.concat([test, test_2], ignore_index=True, sort=False)\n",
        "# test = pd.concat([test, test_3], ignore_index=True, sort=False)\n",
        "# test = pd.concat([test, test_4], ignore_index=True, sort=False)"
      ],
      "execution_count": null,
      "outputs": []
    },
    {
      "cell_type": "code",
      "metadata": {
        "id": "WCUAz3REin3o"
      },
      "source": [
        "test.Sentiment=test['Sentiment'].str.lower()\n"
      ],
      "execution_count": null,
      "outputs": []
    },
    {
      "cell_type": "code",
      "metadata": {
        "colab": {
          "base_uri": "https://localhost:8080/"
        },
        "id": "HUCt3nzWlFe8",
        "outputId": "4a579cbe-71ce-4439-af99-3626bf91652f"
      },
      "source": [
        "test.Sentiment.unique()"
      ],
      "execution_count": null,
      "outputs": [
        {
          "output_type": "execute_result",
          "data": {
            "text/plain": [
              "array(['fear', 'grief', 'love', 'curiosity', 'social-relationships',\n",
              "       'depression', 'parenting', 'happy', 'relationship-dissolution',\n",
              "       'intimacy', 'family-conflict', 'lgbtq', 'self-harm', 'trauma',\n",
              "       'behavioral-change', 'counseling-fundamentals', 'relationships',\n",
              "       'domestic-violence', 'substance-abuse', 'self-esteem', 'happiness',\n",
              "       'anxiety', 'marriage', 'grief-and-loss', 'workplace-relationships',\n",
              "       'professional-ethics', 'spirituality', 'anger-management',\n",
              "       'diagnosis', 'sleep-improvement', nan, 'eating-disorders',\n",
              "       'legal-regulatory', 'stress', 'addiction', 'children-adolescents'],\n",
              "      dtype=object)"
            ]
          },
          "metadata": {
            "tags": []
          },
          "execution_count": 21
        }
      ]
    },
    {
      "cell_type": "code",
      "metadata": {
        "colab": {
          "base_uri": "https://localhost:8080/"
        },
        "id": "USpBCvbGN0BU",
        "outputId": "8ea1fe97-b5a3-4431-efaa-858ce3753222"
      },
      "source": [
        "trening.Sentiment.unique()"
      ],
      "execution_count": null,
      "outputs": [
        {
          "output_type": "execute_result",
          "data": {
            "text/plain": [
              "array(['anxiety', 'diagnosis', 'domestic-violence',\n",
              "       'counseling-fundamentals', 'depression', 'workplace-relationships',\n",
              "       'behavioral-change', 'relationships', 'love', 'grief', 'happy',\n",
              "       'marriage', 'parenting', 'self-esteem', 'intimacy',\n",
              "       'relationship-dissolution', 'family-conflict', 'curiosity',\n",
              "       'anger-management', 'substance-abuse', 'lgbtq', 'fear',\n",
              "       'grief-and-loss', 'professional-ethics', 'trauma',\n",
              "       'social-relationships', 'spirituality', 'children-adolescents',\n",
              "       'military-issues', 'sleep-improvement', 'self-harm', 'addiction',\n",
              "       'eating-disorders', 'human-sexuality', 'stress',\n",
              "       'legal-regulatory'], dtype=object)"
            ]
          },
          "metadata": {
            "tags": []
          },
          "execution_count": 22
        }
      ]
    },
    {
      "cell_type": "code",
      "metadata": {
        "id": "a-ZHk7cfjDWb"
      },
      "source": [
        "test.Sentiment.replace(\"happiness\",\"happy\",inplace=True)\n",
        "test.Sentiment.replace(np.nan,\"love\",inplace=True)\n"
      ],
      "execution_count": null,
      "outputs": []
    },
    {
      "cell_type": "markdown",
      "metadata": {
        "id": "rasvbKLaObfa"
      },
      "source": [
        "Ovde mestam sentaces=Questions delot\n",
        "labels=Sentiment delot"
      ]
    },
    {
      "cell_type": "code",
      "metadata": {
        "id": "v3H-oyomPLpZ"
      },
      "source": [
        "# # ['grief'=0,\n",
        "#  'curiosity'=1, \n",
        "#  'love'=2, \n",
        "#  'fear'=3\n",
        "#  , 'happy'=4\n",
        "#  ]\n",
        "# zakodirani vrednosti\n",
        "# 'depression'=5,\n",
        "#  'anxiety' =6, 'parenting'=7, 'self-esteem'=8, 'relationship-dissolution'=9,\n",
        "#  'workplace-relationships' = 10, 'spirituality' = 11, 'trauma' = 12, \n",
        "#  'domestic-violence' =13, 'anger-management' = 14, 'sleep-improvement' = 15,\n",
        "#  'intimacy'=16, 'grief-and-loss'=17, 'substance-abuse'=18, 'family-conflict'=19\n",
        "#  'marriage'=20,\n",
        "      #  'eating-disorders' =21, 'relationships' 22, 'lgbtq' 23, 'behavioral-change' 24,\n",
        "      #  'addiction'25, 'legal-regulatory'26, 'professional-ethics' 27, 'stress' 28,\n",
        "      #  'human-sexuality' 29, 'social-relationships' 30, 'children-adolescents' 31,\n",
        "      #  'military-issues' 32, 'self-harm' =33, 'diagnosis' =34,\n",
        "      #  'counseling-fundamentals =35'\n",
        "\n",
        "trening.Sentiment.replace('grief',0,inplace=True)\n",
        "trening.Sentiment.replace('curiosity',1,inplace=True)\n",
        "trening.Sentiment.replace('love',2,inplace=True)\n",
        "trening.Sentiment.replace('fear',3,inplace=True)\n",
        "trening.Sentiment.replace('happy',4,inplace=True)\n",
        "trening.Sentiment.replace('depression',5,inplace=True)\n",
        "trening.Sentiment.replace('anxiety',6,inplace=True)\n",
        "trening.Sentiment.replace('parenting',7,inplace=True)\n",
        "trening.Sentiment.replace('self-esteem',8,inplace=True)\n",
        "trening.Sentiment.replace('relationship-dissolution',9,inplace=True)\n",
        "trening.Sentiment.replace('workplace-relationships',10,inplace=True)\n",
        "trening.Sentiment.replace('spirituality',11,inplace=True)\n",
        "trening.Sentiment.replace('trauma',12,inplace=True)\n",
        "trening.Sentiment.replace('domestic-violence',13,inplace=True)\n",
        "trening.Sentiment.replace('anger-management',14,inplace=True)\n",
        "trening.Sentiment.replace('sleep-improvement',15,inplace=True)\n",
        "trening.Sentiment.replace('intimacy',16,inplace=True)\n",
        "trening.Sentiment.replace('grief-and-loss',17,inplace=True)\n",
        "trening.Sentiment.replace('substance-abuse',18,inplace=True)\n",
        "trening.Sentiment.replace('family-conflict',19,inplace=True)\n",
        "trening.Sentiment.replace('marriage',20,inplace=True)\n",
        "trening.Sentiment.replace('eating-disorders',21,inplace=True)\n",
        "trening.Sentiment.replace('relationships',22,inplace=True)\n",
        "trening.Sentiment.replace('lgbtq',23,inplace=True)\n",
        "trening.Sentiment.replace('behavioral-change',24,inplace=True)\n",
        "trening.Sentiment.replace('addiction',25,inplace=True)\n",
        "trening.Sentiment.replace('legal-regulatory',26,inplace=True)\n",
        "trening.Sentiment.replace('professional-ethics',27,inplace=True)\n",
        "trening.Sentiment.replace('stress',28,inplace=True)\n",
        "trening.Sentiment.replace('human-sexuality',29,inplace=True)\n",
        "trening.Sentiment.replace('social-relationships',30,inplace=True)\n",
        "trening.Sentiment.replace('children-adolescents',31,inplace=True)\n",
        "trening.Sentiment.replace('military-issues',32,inplace=True)\n",
        "trening.Sentiment.replace('self-harm',33,inplace=True)\n",
        "trening.Sentiment.replace('diagnosis',34,inplace=True)\n",
        "trening.Sentiment.replace('counseling-fundamentals',35,inplace=True)\n"
      ],
      "execution_count": null,
      "outputs": []
    },
    {
      "cell_type": "code",
      "metadata": {
        "colab": {
          "base_uri": "https://localhost:8080/"
        },
        "id": "JIMxctYoP6mh",
        "outputId": "3780c96b-21c2-4707-a40f-ed396748a930"
      },
      "source": [
        "trening.Sentiment.unique()"
      ],
      "execution_count": null,
      "outputs": [
        {
          "output_type": "execute_result",
          "data": {
            "text/plain": [
              "array([ 6, 34, 13, 35,  5, 10, 24, 22,  2,  0,  4, 20,  7,  8, 16,  9, 19,\n",
              "        1, 14, 18, 23,  3, 17, 27, 12, 30, 11, 31, 32, 15, 33, 25, 21, 29,\n",
              "       28, 26])"
            ]
          },
          "metadata": {
            "tags": []
          },
          "execution_count": 25
        }
      ]
    },
    {
      "cell_type": "code",
      "metadata": {
        "id": "0PnszvXMQAjT"
      },
      "source": [
        "\n",
        "test.Sentiment.replace('grief',0,inplace=True)\n",
        "test.Sentiment.replace('curiosity',1,inplace=True)\n",
        "test.Sentiment.replace('love',2,inplace=True)\n",
        "test.Sentiment.replace('fear',3,inplace=True)\n",
        "test.Sentiment.replace('happy',4,inplace=True)\n",
        "test.Sentiment.replace('depression',5,inplace=True)\n",
        "test.Sentiment.replace('anxiety',6,inplace=True)\n",
        "test.Sentiment.replace('parenting',7,inplace=True)\n",
        "test.Sentiment.replace('self-esteem',8,inplace=True)\n",
        "test.Sentiment.replace('relationship-dissolution',9,inplace=True)\n",
        "test.Sentiment.replace('workplace-relationships',10,inplace=True)\n",
        "test.Sentiment.replace('spirituality',11,inplace=True)\n",
        "test.Sentiment.replace('trauma',12,inplace=True)\n",
        "test.Sentiment.replace('domestic-violence',13,inplace=True)\n",
        "test.Sentiment.replace('anger-management',14,inplace=True)\n",
        "test.Sentiment.replace('sleep-improvement',15,inplace=True)\n",
        "test.Sentiment.replace('intimacy',16,inplace=True)\n",
        "test.Sentiment.replace('grief-and-loss',17,inplace=True)\n",
        "test.Sentiment.replace('substance-abuse',18,inplace=True)\n",
        "test.Sentiment.replace('family-conflict',19,inplace=True)\n",
        "test.Sentiment.replace('marriage',20,inplace=True)\n",
        "test.Sentiment.replace('eating-disorders',21,inplace=True)\n",
        "test.Sentiment.replace('relationships',22,inplace=True)\n",
        "test.Sentiment.replace('lgbtq',23,inplace=True)\n",
        "test.Sentiment.replace('behavioral-change',24,inplace=True)\n",
        "test.Sentiment.replace('addiction',25,inplace=True)\n",
        "test.Sentiment.replace('legal-regulatory',26,inplace=True)\n",
        "test.Sentiment.replace('professional-ethics',27,inplace=True)\n",
        "test.Sentiment.replace('stress',28,inplace=True)\n",
        "test.Sentiment.replace('human-sexuality',29,inplace=True)\n",
        "test.Sentiment.replace('social-relationships',30,inplace=True)\n",
        "test.Sentiment.replace('children-adolescents',31,inplace=True)\n",
        "test.Sentiment.replace('military-issues',32,inplace=True)\n",
        "test.Sentiment.replace('self-harm',33,inplace=True)\n",
        "test.Sentiment.replace('diagnosis',34,inplace=True)\n",
        "test.Sentiment.replace('counseling-fundamentals',35,inplace=True)"
      ],
      "execution_count": null,
      "outputs": []
    },
    {
      "cell_type": "code",
      "metadata": {
        "colab": {
          "base_uri": "https://localhost:8080/"
        },
        "id": "S2v3M8_enAHh",
        "outputId": "244a0e52-cb6b-4302-a684-2b955360692e"
      },
      "source": [
        "trening.Sentiment.unique()"
      ],
      "execution_count": null,
      "outputs": [
        {
          "output_type": "execute_result",
          "data": {
            "text/plain": [
              "array([ 6, 34, 13, 35,  5, 10, 24, 22,  2,  0,  4, 20,  7,  8, 16,  9, 19,\n",
              "        1, 14, 18, 23,  3, 17, 27, 12, 30, 11, 31, 32, 15, 33, 25, 21, 29,\n",
              "       28, 26])"
            ]
          },
          "metadata": {
            "tags": []
          },
          "execution_count": 27
        }
      ]
    },
    {
      "cell_type": "code",
      "metadata": {
        "id": "DLvFVyl6Aeml"
      },
      "source": [
        "# Get the lists of sentences and their labels.\n",
        "sentences = trening.Questions.values\n",
        "labels = trening.Sentiment.values"
      ],
      "execution_count": null,
      "outputs": []
    },
    {
      "cell_type": "markdown",
      "metadata": {
        "id": "7wueMGWaAwhU"
      },
      "source": [
        "Bert delot veke\n"
      ]
    },
    {
      "cell_type": "code",
      "metadata": {
        "colab": {
          "base_uri": "https://localhost:8080/"
        },
        "id": "XfOTk7JEAvhq",
        "outputId": "28066c1d-16ff-4835-e44a-71620d03626f"
      },
      "source": [
        "from transformers import BertTokenizer\n",
        "# Loadiranje na bert tokenizer\n",
        "print('BERT tokenizer se loadira...')\n",
        "tokenizer = BertTokenizer.from_pretrained('bert-base-uncased', do_lower_case=True)"
      ],
      "execution_count": null,
      "outputs": [
        {
          "output_type": "stream",
          "text": [
            "BERT tokenizer se loadira...\n"
          ],
          "name": "stdout"
        }
      ]
    },
    {
      "cell_type": "code",
      "metadata": {
        "id": "N3VcwD-ABKbl"
      },
      "source": [
        "# CLS poceten token ,SEP kraen.\n",
        "# 512 max tokens"
      ],
      "execution_count": null,
      "outputs": []
    },
    {
      "cell_type": "code",
      "metadata": {
        "id": "UxRtFT4QBolJ"
      },
      "source": [
        "# Tokeniziraqj gi site recenici i mapiraj gi tokenite so id na zborovi\n",
        "input_ids = []\n",
        "# Za sekoja recenica...\n",
        "for sent in sentences:\n",
        "    # `encode` ke:\n",
        "    #   (1) Tokenizira recenica.\n",
        "    #   (2) prilepi`[CLS]` na start.\n",
        "    #   (3) prilepi `[SEP]`na kraj.\n",
        "    #   (4) mapiraj token vo zbor id.\n",
        "    encoded_sent = tokenizer.encode(\n",
        "                        sent,                      # recenici za enkodiranje.\n",
        "                        add_special_tokens = True, # dodaj '[CLS]' i '[SEP]'\n",
        "                   \n",
        "                   )\n",
        "    \n",
        "    # dodaj enkodirani recenici vo listata.\n",
        "    input_ids.append(encoded_sent)\n",
        "# isprintaj samo prva recenica(proverka pravime).\n",
        "print('Originalna recenica: ', sentences[0])\n",
        "print('Tokenizirani ID:', input_ids[0])"
      ],
      "execution_count": null,
      "outputs": []
    },
    {
      "cell_type": "code",
      "metadata": {
        "colab": {
          "base_uri": "https://localhost:8080/"
        },
        "id": "5L05ZN-gBzFg",
        "outputId": "f164bdd2-2d65-4b8a-96d1-1528e3597ba2"
      },
      "source": [
        "print('Max golemina na recenica: ', max([len(sen) for sen in input_ids]))"
      ],
      "execution_count": null,
      "outputs": [
        {
          "output_type": "stream",
          "text": [
            "Max golemina na recenica:  657\n"
          ],
          "name": "stdout"
        }
      ]
    },
    {
      "cell_type": "code",
      "metadata": {
        "colab": {
          "base_uri": "https://localhost:8080/"
        },
        "id": "ij2as28UB4Jw",
        "outputId": "62e29ebb-b4da-4b96-b8e7-3433e5e42499"
      },
      "source": [
        "from keras.preprocessing.sequence import pad_sequences\n",
        "# postavuvame max golemina na recenica.\n",
        "MAX_LEN = 220\n",
        "print('\\ndodavanje/namaluvanje na sire recenici na golemina  %d ...' % MAX_LEN)\n",
        "print('\\nPadding token: \"{:}\", ID: {:}'.format(tokenizer.pad_token, tokenizer.pad_token_id))\n",
        "# Pad our input tokens with value 0.\n",
        "# \"post\" znaci deka sakame da dovame i kratime od kraj na recenica ne od pocetok\n",
        "input_ids = pad_sequences(input_ids, maxlen=MAX_LEN, dtype=\"long\", \n",
        "                          value=0, truncating=\"post\", padding=\"post\")\n",
        "print('\\Gotovo.')"
      ],
      "execution_count": null,
      "outputs": [
        {
          "output_type": "stream",
          "text": [
            "\n",
            "dodavanje/namaluvanje na sire recenici na golemina  220 ...\n",
            "\n",
            "Padding token: \"[PAD]\", ID: 0\n",
            "\\Gotovo.\n"
          ],
          "name": "stdout"
        }
      ]
    },
    {
      "cell_type": "code",
      "metadata": {
        "id": "4AtN2QzVB-Ih"
      },
      "source": [
        "# kreirame attention masks\n",
        "attention_masks = []\n",
        "# Za sekoja recenica...\n",
        "for sent in input_ids:\n",
        "    \n",
        "    # Kreiraj  attention mask.\n",
        "    #   - Ako  token ID e 0, togas e samo pocetniot token \"pad\", stavi ja  maskata na 0.\n",
        "    #   - Ako  token ID > 0, togas e vistinski token t.e biten zbor , stavi ja  maskata na  1.\n",
        "    att_mask = [int(token_id > 0) for token_id in sent]\n",
        "    \n",
        "    # Soberi gi attention mask za ovaa recenica.\n",
        "    attention_masks.append(att_mask)"
      ],
      "execution_count": null,
      "outputs": []
    },
    {
      "cell_type": "code",
      "metadata": {
        "id": "sSSt_DFrCUxV"
      },
      "source": [
        "# Koristime train_test_split za da ja podelime nasata lista vo  train i validation m-va za treniranje\n",
        "from sklearn.model_selection import train_test_split\n",
        "# koristime 90% za training i 10% za validation.\n",
        "train_inputs, validation_inputs, train_labels, validation_labels = train_test_split(input_ids, labels, \n",
        "                                                            random_state=2018, test_size=0.1)\n",
        "#isto i za maskite.\n",
        "train_masks, validation_masks, _, _ = train_test_split(attention_masks, labels,\n",
        "                                             random_state=2018, test_size=0.1)"
      ],
      "execution_count": null,
      "outputs": []
    },
    {
      "cell_type": "code",
      "metadata": {
        "id": "xko_ulaCCYaU"
      },
      "source": [
        "# konveritrame nympay.arrays vo puthorch \n",
        "# konveritrame site  inputs i labels vo t.e torch tensors, baraniot tip na podatoci \n",
        "# za nasiot model.\n",
        "train_inputs = torch.tensor(train_inputs)\n",
        "validation_inputs = torch.tensor(validation_inputs)\n",
        "train_labels = torch.tensor(train_labels)\n",
        "validation_labels = torch.tensor(validation_labels)\n",
        "train_masks = torch.tensor(train_masks)\n",
        "validation_masks = torch.tensor(validation_masks)"
      ],
      "execution_count": null,
      "outputs": []
    },
    {
      "cell_type": "code",
      "metadata": {
        "id": "RUIiAw1xCfye"
      },
      "source": [
        "# nie isto taka kreiravme iterator za  m-vo koristejki torch DataLoader class. \n",
        "# ova stedi memorija za vreme na trainingot zatoa sto za razlika od for loop,  iteratortorot ne mora da go lodira celoto m-vo vo memorija \n",
        "\n",
        "from torch.utils.data import TensorDataset, DataLoader, RandomSampler, SequentialSampler\n",
        "# The DataLoader treba da ja znae  batch size za training, pa ja specificirame\n",
        "\n",
        "batch_size = 32\n",
        "# Kreirame DataLoader za  training m-vo.\n",
        "train_data = TensorDataset(train_inputs, train_masks, train_labels)\n",
        "train_sampler = RandomSampler(train_data)\n",
        "train_dataloader = DataLoader(train_data, sampler=train_sampler, batch_size=batch_size)\n",
        "#  Kreirame DataLoader za validation m-vo.\n",
        "validation_data = TensorDataset(validation_inputs, validation_masks, validation_labels)\n",
        "validation_sampler = SequentialSampler(validation_data)\n",
        "validation_dataloader = DataLoader(validation_data, sampler=validation_sampler, batch_size=batch_size)"
      ],
      "execution_count": null,
      "outputs": []
    },
    {
      "cell_type": "code",
      "metadata": {
        "id": "kM0uKEJVC9WP"
      },
      "source": [
        "from transformers import BertForSequenceClassification, AdamW, BertConfig\n",
        "# Loadirame BertForSequenceClassification, pretrained BERT model so eden linear classification layer on top. \n",
        "\n",
        "model = BertForSequenceClassification.from_pretrained(\n",
        "    \"bert-base-uncased\", # koristime 12-layer BERT model, so  uncased vocab.\n",
        "    num_labels = 36, # Tbr izlezni koloni =5 za muliti klasna klasifikacija.\n",
        "    output_attentions = False, # dali da vrakja  attentions golemini\n",
        "    output_hidden_states = False, # dali da vrakja  hidden-states.\n",
        ")\n",
        "# kazi na  pytorch da go ranuva model na GPU.\n",
        "model.cuda()"
      ],
      "execution_count": null,
      "outputs": []
    },
    {
      "cell_type": "code",
      "metadata": {
        "colab": {
          "base_uri": "https://localhost:8080/"
        },
        "id": "rgv8uAfRDMrm",
        "outputId": "32c71dfc-5abd-48c2-d657-da86c7e4484d"
      },
      "source": [
        "# site parametri na modelot kako lista od torki.\n",
        "params = list(model.named_parameters())\n",
        "print('BERT model ima {:} razlicno imenuvani parametri.\\n'.format(len(params)))\n",
        "print('==== Embedding Layer ====\\n')\n",
        "for p in params[0:5]:\n",
        "    print(\"{:<55} {:>12}\".format(p[0], str(tuple(p[1].size()))))\n",
        "print('\\n==== First Transformer ====\\n')\n",
        "for p in params[5:21]:\n",
        "    print(\"{:<55} {:>12}\".format(p[0], str(tuple(p[1].size()))))\n",
        "print('\\n==== Output Layer ====\\n')\n",
        "for p in params[-4:]:\n",
        "    print(\"{:<55} {:>12}\".format(p[0], str(tuple(p[1].size()))))"
      ],
      "execution_count": null,
      "outputs": [
        {
          "output_type": "stream",
          "text": [
            "BERT model ima 201 razlicno imenuvani parametri.\n",
            "\n",
            "==== Embedding Layer ====\n",
            "\n",
            "bert.embeddings.word_embeddings.weight                  (30522, 768)\n",
            "bert.embeddings.position_embeddings.weight                (512, 768)\n",
            "bert.embeddings.token_type_embeddings.weight                (2, 768)\n",
            "bert.embeddings.LayerNorm.weight                              (768,)\n",
            "bert.embeddings.LayerNorm.bias                                (768,)\n",
            "\n",
            "==== First Transformer ====\n",
            "\n",
            "bert.encoder.layer.0.attention.self.query.weight          (768, 768)\n",
            "bert.encoder.layer.0.attention.self.query.bias                (768,)\n",
            "bert.encoder.layer.0.attention.self.key.weight            (768, 768)\n",
            "bert.encoder.layer.0.attention.self.key.bias                  (768,)\n",
            "bert.encoder.layer.0.attention.self.value.weight          (768, 768)\n",
            "bert.encoder.layer.0.attention.self.value.bias                (768,)\n",
            "bert.encoder.layer.0.attention.output.dense.weight        (768, 768)\n",
            "bert.encoder.layer.0.attention.output.dense.bias              (768,)\n",
            "bert.encoder.layer.0.attention.output.LayerNorm.weight        (768,)\n",
            "bert.encoder.layer.0.attention.output.LayerNorm.bias          (768,)\n",
            "bert.encoder.layer.0.intermediate.dense.weight           (3072, 768)\n",
            "bert.encoder.layer.0.intermediate.dense.bias                 (3072,)\n",
            "bert.encoder.layer.0.output.dense.weight                 (768, 3072)\n",
            "bert.encoder.layer.0.output.dense.bias                        (768,)\n",
            "bert.encoder.layer.0.output.LayerNorm.weight                  (768,)\n",
            "bert.encoder.layer.0.output.LayerNorm.bias                    (768,)\n",
            "\n",
            "==== Output Layer ====\n",
            "\n",
            "bert.pooler.dense.weight                                  (768, 768)\n",
            "bert.pooler.dense.bias                                        (768,)\n",
            "classifier.weight                                          (36, 768)\n",
            "classifier.bias                                                (36,)\n"
          ],
          "name": "stdout"
        }
      ]
    },
    {
      "cell_type": "code",
      "metadata": {
        "id": "qpo-HI7QDX1w"
      },
      "source": [
        "# Note: AdamW e klasa za uggingface library (sprotivno na  pytorch) \n",
        "\n",
        "optimizer = AdamW(model.parameters(),\n",
        "                  lr = 2e-5, # args.learning_rate - defoltni se  5e-5,nie korsitime 2e-5\n",
        "                  eps = 1e-8 # args.adam_epsilon  - defoltni se 1e-8.\n",
        "                )\n",
        "from transformers import get_linear_schedule_with_warmup\n",
        "# broj training epohi \n",
        "epochs = 15\n",
        "# Totalen broj na training cekori e broj  dobien kako batches * number of epochs.\n",
        "total_steps = len(train_dataloader) * epochs\n",
        "# kreiraj  skedzuler za rate na ucenje.\n",
        "scheduler = get_linear_schedule_with_warmup(optimizer, \n",
        "                                            num_warmup_steps = 0,\n",
        "                                            num_training_steps = total_steps)"
      ],
      "execution_count": null,
      "outputs": []
    },
    {
      "cell_type": "code",
      "metadata": {
        "id": "4CxTnl3zDoJ0"
      },
      "source": [
        "import numpy as np\n",
        "# funkcija za presmetka na accuracy/tocnost na  predictions vs labels /predviduvanja vs tocni labeli\n",
        "def flat_accuracy(preds, labels):\n",
        "    pred_flat = np.argmax(preds, axis=1).flatten()\n",
        "    labels_flat = labels.flatten()\n",
        "    return np.sum(pred_flat == labels_flat) / len(labels_flat)"
      ],
      "execution_count": null,
      "outputs": []
    },
    {
      "cell_type": "code",
      "metadata": {
        "id": "p9gTlpawDxKj"
      },
      "source": [
        "import time\n",
        "import datetime\n",
        "def format_time(elapsed):\n",
        "    '''\n",
        "    zema vreme vo sekundi i vrakaja string hh:mm:ss\n",
        "    '''\n",
        "    # Round na najbliska sec.\n",
        "    elapsed_rounded = int(round((elapsed)))\n",
        "    \n",
        "    # Format  hh:mm:ss\n",
        "    return str(datetime.timedelta(seconds=elapsed_rounded))"
      ],
      "execution_count": null,
      "outputs": []
    },
    {
      "cell_type": "code",
      "metadata": {
        "colab": {
          "base_uri": "https://localhost:8080/"
        },
        "id": "59-wT26ND1B8",
        "outputId": "da10781b-8ceb-462e-cdbf-5aba9388d6e5"
      },
      "source": [
        "import random\n",
        "\n",
        "seed_val = 42\n",
        "random.seed(seed_val)\n",
        "np.random.seed(seed_val)\n",
        "torch.manual_seed(seed_val)\n",
        "torch.cuda.manual_seed_all(seed_val)\n",
        "# cuvaj/skladiraj average loss posle sekoja epoha za da mozeme da gi prikazeme (plot them)\n",
        "loss_values = []\n",
        "# za sekoja epoha...\n",
        "for epoch_i in range(0, epochs):\n",
        "    \n",
        "    # ========================================\n",
        "    #               Training\n",
        "    # ========================================\n",
        "    \n",
        "    # izvedi eden full pass preku training set.\n",
        "    print(\"\")\n",
        "    print('======== Epoch {:} / {:} ========'.format(epoch_i + 1, epochs))\n",
        "    print('Training...')\n",
        "    # meri kolu vreme zema trening epohata \n",
        "    t0 = time.time()\n",
        "    # Resetiraj total loss za ovaa epoha.\n",
        "    total_loss = 0\n",
        "    # stavi go modelot vo training mode t.e treniraj\n",
        "    model.train()\n",
        "    # za sekoj batch na training data...\n",
        "    for step, batch in enumerate(train_dataloader):\n",
        "        # Progresot se abdejtira na sekoi  40 batches.\n",
        "        if step % 40 == 0 and not step == 0:\n",
        "            # Presmetuvanje na vremeto vo minuti \n",
        "            elapsed = format_time(time.time() - t0)\n",
        "            \n",
        "            # PRikaz na progresot.\n",
        "            print('  Batch {:>5,}  of  {:>5,}.    Elapsed: {:}.'.format(step, len(train_dataloader), elapsed))\n",
        "        # Otpakuvanje na trening batch od dataloader iteratorot. \n",
        "        #\n",
        "        # So to metodot se zema sekoj tensor.\n",
        "        #\n",
        "        # `batch` sodrzi 3 pytorch tensors:\n",
        "        #   [0]: input ids \n",
        "        #   [1]: attention masks\n",
        "        #   [2]: labels \n",
        "        b_input_ids = batch[0].to(device)\n",
        "        b_input_mask = batch[1].to(device)\n",
        "        b_labels = batch[2].to(device)\n",
        "        # sekogas izbrisi prethodni merenja/kalkulacii na gradiet pred da pravis backward pass. \n",
        "        model.zero_grad()        \n",
        "        # Ivedi forward pass (evaluiraj model na trening batch).\n",
        "        # ova go vrakja  loss (rather than the model output) zatoa so gi davame `labels`.\n",
        "        outputs = model(b_input_ids, \n",
        "                    token_type_ids=None, \n",
        "                    attention_mask=b_input_mask, \n",
        "                    labels=b_labels)\n",
        "        \n",
        "        # Povikot do  `model` sekogas vrakja tuple, pa nie mora da ja izavidime\n",
        "        # zagubata od torkata.\n",
        "        loss = outputs[0]\n",
        "        # sobiraj training loss niz site batches za da mozeme\n",
        "        # da presmetame average loss na kraj. \n",
        "\n",
        "        total_loss += loss.item()\n",
        "        #Izvedi backward pass za presmetuvanje na  gradienti.\n",
        "        loss.backward()\n",
        "        # namauvanje na normata na gradients na 1.0.\n",
        "        # pomaga za da izbegneme  \"exploding gradients\" problemot\n",
        "        torch.nn.utils.clip_grad_norm_(model.parameters(), 1.0)\n",
        "        # Update na  parametrite i koristi go cekorot sto go koristi presmetaniot gradient.\n",
        "        # optimizerot go diktira \"update rule\"-kako parametrite se modificirani\n",
        "        # soglasno nivniot gradients, learning rate, itn.\n",
        "        optimizer.step()\n",
        "        # Update learning rate.\n",
        "        scheduler.step()\n",
        "    # kalkuliraj average loss nad training data.\n",
        "    avg_train_loss = total_loss / len(train_dataloader)            \n",
        "    \n",
        "    # zacuvaj loss value za \"plotting the learning curve\"\n",
        "    loss_values.append(avg_train_loss)\n",
        "    print(\"\")\n",
        "    print(\"  Average training loss: {0:.2f}\".format(avg_train_loss))\n",
        "    print(\"  Training epcoh took: {:}\".format(format_time(time.time() - t0)))\n",
        "        \n",
        "    # ========================================\n",
        "    #               Validation\n",
        "    # ========================================\n",
        "    # po kompletiranje nad sekoja training epoch, go smetame nasiot performans nad \n",
        "    # validation m-vo.\n",
        "    print(\"\")\n",
        "    print(\"Running Validation...\")\n",
        "    t0 = time.time()\n",
        "    model.eval()\n",
        "    # sledenje na promenlivite/ variablite \n",
        "    eval_loss, eval_accuracy = 0, 0\n",
        "    nb_eval_steps, nb_eval_examples = 0, 0\n",
        "    # Evaluiranje data za edna epoha\n",
        "    for batch in validation_dataloader:\n",
        "        \n",
        "        # dodadi batch na GPU\n",
        "        batch = tuple(t.to(device) for t in batch)\n",
        "        \n",
        "        # Otpakuvaj inputi od dataloader\n",
        "        b_input_ids, b_input_mask, b_labels = batch\n",
        "        \n",
        "        # ne cuvanje na  gradientite\n",
        "        with torch.no_grad():        \n",
        "            # Forward pass, calculira logit predictions.\n",
        "            # ova vrakja logits mesto loss zatoa  so ne mu davame ovoj pat 'labels'.\n",
        "            # token_type_ids e isto so i  \"segment ids\", koe sto\n",
        "            # gi razlikuva  1 and 2 vo  2-recenici t.e zadaci.\n",
        "    \n",
        "            outputs = model(b_input_ids, \n",
        "                            token_type_ids=None, \n",
        "                            attention_mask=b_input_mask)\n",
        "        \n",
        "        # zemi \"logits\" output od modelot.  \"logits\" se vsusnost output\n",
        "        #vrednosti pred da se primeni funkcija za aktiviranje kakosoftmax.\n",
        "        logits = outputs[0]\n",
        "        # premesti logits i  labels na CPU\n",
        "        logits = logits.detach().cpu().numpy()\n",
        "        label_ids = b_labels.to('cpu').numpy()\n",
        "        \n",
        "        # presmetaj accuracy za batch na test recenici.\n",
        "        tmp_eval_accuracy = flat_accuracy(logits, label_ids)\n",
        "        \n",
        "        # akumuliraj t.e soberi  totalna tocnost/accuracy.\n",
        "        eval_accuracy += tmp_eval_accuracy\n",
        "        # vodi smetka za br na batches\n",
        "        nb_eval_steps += 1\n",
        "    # prikazi finalna tocnost za validacija.\n",
        "    print(\"  Accuracy: {0:.2f}\".format(eval_accuracy/nb_eval_steps))\n",
        "    print(\"  Validation took: {:}\".format(format_time(time.time() - t0)))\n",
        "print(\"\")\n",
        "print(\"Training complete!\")"
      ],
      "execution_count": null,
      "outputs": [
        {
          "output_type": "stream",
          "text": [
            "\n",
            "======== Epoch 1 / 15 ========\n",
            "Training...\n",
            "  Batch    40  of     62.    Elapsed: 0:00:49.\n",
            "\n",
            "  Average training loss: 3.10\n",
            "  Training epcoh took: 0:01:15\n",
            "\n",
            "Running Validation...\n",
            "  Accuracy: 0.35\n",
            "  Validation took: 0:00:03\n",
            "\n",
            "======== Epoch 2 / 15 ========\n",
            "Training...\n",
            "  Batch    40  of     62.    Elapsed: 0:00:48.\n",
            "\n",
            "  Average training loss: 2.44\n",
            "  Training epcoh took: 0:01:14\n",
            "\n",
            "Running Validation...\n",
            "  Accuracy: 0.52\n",
            "  Validation took: 0:00:03\n",
            "\n",
            "======== Epoch 3 / 15 ========\n",
            "Training...\n",
            "  Batch    40  of     62.    Elapsed: 0:00:48.\n",
            "\n",
            "  Average training loss: 1.98\n",
            "  Training epcoh took: 0:01:14\n",
            "\n",
            "Running Validation...\n",
            "  Accuracy: 0.54\n",
            "  Validation took: 0:00:03\n",
            "\n",
            "======== Epoch 4 / 15 ========\n",
            "Training...\n",
            "  Batch    40  of     62.    Elapsed: 0:00:48.\n",
            "\n",
            "  Average training loss: 1.61\n",
            "  Training epcoh took: 0:01:14\n",
            "\n",
            "Running Validation...\n",
            "  Accuracy: 0.60\n",
            "  Validation took: 0:00:03\n",
            "\n",
            "======== Epoch 5 / 15 ========\n",
            "Training...\n",
            "  Batch    40  of     62.    Elapsed: 0:00:48.\n",
            "\n",
            "  Average training loss: 1.33\n",
            "  Training epcoh took: 0:01:14\n",
            "\n",
            "Running Validation...\n",
            "  Accuracy: 0.66\n",
            "  Validation took: 0:00:03\n",
            "\n",
            "======== Epoch 6 / 15 ========\n",
            "Training...\n",
            "  Batch    40  of     62.    Elapsed: 0:00:48.\n",
            "\n",
            "  Average training loss: 1.13\n",
            "  Training epcoh took: 0:01:14\n",
            "\n",
            "Running Validation...\n",
            "  Accuracy: 0.68\n",
            "  Validation took: 0:00:03\n",
            "\n",
            "======== Epoch 7 / 15 ========\n",
            "Training...\n",
            "  Batch    40  of     62.    Elapsed: 0:00:48.\n",
            "\n",
            "  Average training loss: 0.95\n",
            "  Training epcoh took: 0:01:14\n",
            "\n",
            "Running Validation...\n",
            "  Accuracy: 0.72\n",
            "  Validation took: 0:00:03\n",
            "\n",
            "======== Epoch 8 / 15 ========\n",
            "Training...\n",
            "  Batch    40  of     62.    Elapsed: 0:00:48.\n",
            "\n",
            "  Average training loss: 0.80\n",
            "  Training epcoh took: 0:01:14\n",
            "\n",
            "Running Validation...\n",
            "  Accuracy: 0.73\n",
            "  Validation took: 0:00:03\n",
            "\n",
            "======== Epoch 9 / 15 ========\n",
            "Training...\n",
            "  Batch    40  of     62.    Elapsed: 0:00:48.\n",
            "\n",
            "  Average training loss: 0.70\n",
            "  Training epcoh took: 0:01:14\n",
            "\n",
            "Running Validation...\n",
            "  Accuracy: 0.77\n",
            "  Validation took: 0:00:03\n",
            "\n",
            "======== Epoch 10 / 15 ========\n",
            "Training...\n",
            "  Batch    40  of     62.    Elapsed: 0:00:48.\n",
            "\n",
            "  Average training loss: 0.62\n",
            "  Training epcoh took: 0:01:14\n",
            "\n",
            "Running Validation...\n",
            "  Accuracy: 0.79\n",
            "  Validation took: 0:00:03\n",
            "\n",
            "======== Epoch 11 / 15 ========\n",
            "Training...\n",
            "  Batch    40  of     62.    Elapsed: 0:00:48.\n",
            "\n",
            "  Average training loss: 0.55\n",
            "  Training epcoh took: 0:01:14\n",
            "\n",
            "Running Validation...\n",
            "  Accuracy: 0.79\n",
            "  Validation took: 0:00:03\n",
            "\n",
            "======== Epoch 12 / 15 ========\n",
            "Training...\n",
            "  Batch    40  of     62.    Elapsed: 0:00:48.\n",
            "\n",
            "  Average training loss: 0.50\n",
            "  Training epcoh took: 0:01:14\n",
            "\n",
            "Running Validation...\n",
            "  Accuracy: 0.79\n",
            "  Validation took: 0:00:03\n",
            "\n",
            "======== Epoch 13 / 15 ========\n",
            "Training...\n",
            "  Batch    40  of     62.    Elapsed: 0:00:48.\n",
            "\n",
            "  Average training loss: 0.46\n",
            "  Training epcoh took: 0:01:14\n",
            "\n",
            "Running Validation...\n",
            "  Accuracy: 0.79\n",
            "  Validation took: 0:00:03\n",
            "\n",
            "======== Epoch 14 / 15 ========\n",
            "Training...\n",
            "  Batch    40  of     62.    Elapsed: 0:00:48.\n",
            "\n",
            "  Average training loss: 0.44\n",
            "  Training epcoh took: 0:01:14\n",
            "\n",
            "Running Validation...\n",
            "  Accuracy: 0.80\n",
            "  Validation took: 0:00:03\n",
            "\n",
            "======== Epoch 15 / 15 ========\n",
            "Training...\n",
            "  Batch    40  of     62.    Elapsed: 0:00:48.\n",
            "\n",
            "  Average training loss: 0.43\n",
            "  Training epcoh took: 0:01:14\n",
            "\n",
            "Running Validation...\n",
            "  Accuracy: 0.77\n",
            "  Validation took: 0:00:03\n",
            "\n",
            "Training complete!\n"
          ],
          "name": "stdout"
        }
      ]
    },
    {
      "cell_type": "code",
      "metadata": {
        "id": "P7-oj4_YFtvE"
      },
      "source": [
        "import plotly.express as px\n",
        "f = pd.DataFrame(loss_values)\n",
        "f.columns=['Loss']\n",
        "fig = px.line(f, x=f.index, y=f.Loss)\n",
        "fig.update_layout(title='Training loss of the Model',\n",
        "                   xaxis_title='Epoch',\n",
        "                   yaxis_title='Loss')\n",
        "fig.show()"
      ],
      "execution_count": null,
      "outputs": []
    },
    {
      "cell_type": "markdown",
      "metadata": {
        "id": "tzzpTeaGF3K_"
      },
      "source": [
        "Test del\n"
      ]
    },
    {
      "cell_type": "code",
      "metadata": {
        "colab": {
          "base_uri": "https://localhost:8080/"
        },
        "id": "7bPQ1UHAt7KJ",
        "outputId": "00c10a9e-885a-44cb-acee-701a78be406d"
      },
      "source": [
        "labels"
      ],
      "execution_count": null,
      "outputs": [
        {
          "output_type": "execute_result",
          "data": {
            "text/plain": [
              "array([ 6, 34, 13, ..., 12, 12, 22])"
            ]
          },
          "metadata": {
            "tags": []
          },
          "execution_count": 45
        }
      ]
    },
    {
      "cell_type": "code",
      "metadata": {
        "id": "brrxoilsF5WN"
      },
      "source": [
        "import pandas as pd\n",
        "\n",
        "# kreiraj recenici i label listi\n",
        "sentences = test.Questions.values\n",
        "labels = test.Sentiment.values\n",
        "# isto ko za train ista postapka samo za test\n",
        "input_ids = []\n",
        "#sekoja recenica....\n",
        "for sent in sentences:\n",
        "    # `encode` + cls ,pred,sep\n",
        "  \n",
        "    encoded_sent = tokenizer.encode(\n",
        "                        sent,                      \n",
        "                        add_special_tokens = True, \n",
        "                   )\n",
        "    \n",
        "    input_ids.append(encoded_sent)\n",
        "# Pad  input tokens\n",
        "input_ids = pad_sequences(input_ids, maxlen=MAX_LEN, \n",
        "                          dtype=\"long\", truncating=\"post\", padding=\"post\")\n",
        "# kreiraj attention  masks\n",
        "attention_masks = []\n",
        "# kreiraj mask za 1s sekoj token koj e sleden od  0s za padding\n",
        "for seq in input_ids:\n",
        "  seq_mask = [float(i>0) for i in seq]\n",
        "  attention_masks.append(seq_mask) \n",
        "# Convertiraj vo  tensors.\n",
        "prediction_inputs = torch.tensor(input_ids)\n",
        "prediction_masks = torch.tensor(attention_masks)\n",
        "prediction_labels = torch.tensor(labels)\n",
        "# postavi batch size.  \n",
        "batch_size = 32  \n",
        "# kreiraj DataLoader.\n",
        "prediction_data = TensorDataset(prediction_inputs, prediction_masks, prediction_labels)\n",
        "prediction_sampler = SequentialSampler(prediction_data)\n",
        "prediction_dataloader = DataLoader(prediction_data, sampler=prediction_sampler, batch_size=batch_size)"
      ],
      "execution_count": null,
      "outputs": []
    },
    {
      "cell_type": "code",
      "metadata": {
        "colab": {
          "base_uri": "https://localhost:8080/"
        },
        "id": "i99NbHmAGHTp",
        "outputId": "811972da-b015-492f-dd4a-eeccd3c3b0ba"
      },
      "source": [
        "# predviduvanja na  test set\n",
        "print('Predicting labels for {:,} test sentences...'.format(len(prediction_inputs)))\n",
        "# evauliraj model \n",
        "model.eval()\n",
        "# sledi promenlivi\n",
        "predictions , true_labels = [], []\n",
        "# predvidi\n",
        "for batch in prediction_dataloader:\n",
        "  # dodadi batch na GPU\n",
        "  batch = tuple(t.to(device) for t in batch)\n",
        "  \n",
        "  # Unpack the inputs from our dataloader\n",
        "  b_input_ids, b_input_mask, b_labels = batch\n",
        "  \n",
        "  # da ne cuva gradienti    \n",
        "  with torch.no_grad():\n",
        "      # Forward pass, calculate logit predictions\n",
        "      outputs = model(b_input_ids, token_type_ids=None, \n",
        "                      attention_mask=b_input_mask)\n",
        "  logits = outputs[0]\n",
        "  # premesti logits i labels vo CPU\n",
        "  logits = logits.detach().cpu().numpy()\n",
        "  label_ids = b_labels.to('cpu').numpy()\n",
        "  \n",
        "  # zacuvaj predvideni i vistinski labeli predictions and true labels\n",
        "  predictions.append(logits)\n",
        "  true_labels.append(label_ids)\n",
        "print('DONE.')"
      ],
      "execution_count": null,
      "outputs": [
        {
          "output_type": "stream",
          "text": [
            "Predicting labels for 605 test sentences...\n",
            "DONE.\n"
          ],
          "name": "stdout"
        }
      ]
    },
    {
      "cell_type": "code",
      "metadata": {
        "colab": {
          "base_uri": "https://localhost:8080/"
        },
        "id": "qTitfaVqOy_K",
        "outputId": "83afd24a-fce9-46d8-a33e-5447edfa12a6"
      },
      "source": [
        "true_labels"
      ],
      "execution_count": null,
      "outputs": [
        {
          "output_type": "execute_result",
          "data": {
            "text/plain": [
              "[array([3, 3, 3, 0, 0, 2, 0, 0, 0, 2, 2, 2, 2, 1, 1, 1, 3, 1, 1, 0, 0, 0,\n",
              "        1, 1, 3, 3, 2, 2, 0, 0, 0, 3]),\n",
              " array([ 1,  1,  1,  3,  3,  3,  2,  2,  3,  3,  3,  3,  3,  3,  3,  0,  0,\n",
              "         0,  3,  3,  3,  2,  2,  2,  2,  2,  2, 30,  5,  7,  4,  7]),\n",
              " array([ 9, 16,  4, 19, 23,  7, 33, 16,  3, 19, 12, 24,  0, 35,  3, 12, 22,\n",
              "        13,  7, 18,  0,  8, 22, 22,  4,  3,  6, 20,  6, 35, 35, 22]),\n",
              " array([22,  6, 16,  7, 35, 17, 16,  1, 35,  5, 19, 35,  6, 23, 19,  6, 16,\n",
              "         5,  2,  6,  7,  9,  5, 24, 22,  0,  6,  3, 19, 19,  2,  5]),\n",
              " array([18, 16,  0,  2,  4, 35,  2,  3, 35,  5, 22,  8,  3,  1, 10,  2, 35,\n",
              "        35, 18, 22,  0, 16,  0, 35,  5,  2, 16,  5,  7, 23, 27, 11]),\n",
              " array([ 0,  4,  0, 22, 14,  7, 27, 18, 10,  5,  1,  1, 34,  3, 22,  7, 19,\n",
              "        35,  5, 15,  0,  6, 19, 35, 16, 35,  1,  4, 20, 35,  5,  5]),\n",
              " array([16, 15,  2, 35,  5, 35,  2,  3, 16,  1,  0, 33, 19,  7, 16, 35,  1,\n",
              "         8,  6,  7,  5,  5, 20,  6, 16,  5,  7,  5,  5, 24,  5,  8]),\n",
              " array([19,  1,  8, 22,  4, 12, 19,  6, 19,  3, 12, 11, 22,  8,  5, 18,  2,\n",
              "        16,  5, 27, 14,  8, 27, 24, 16, 20,  2, 16,  0,  4, 35, 10]),\n",
              " array([16,  3, 33, 13,  6, 16,  0, 16, 35, 35, 22,  0,  1, 10, 16, 16,  5,\n",
              "        24,  5,  6,  6, 24,  9,  9, 22, 24,  6,  3,  6, 16,  6, 12]),\n",
              " array([ 6, 16,  5, 16, 10, 16,  1, 35,  7, 22, 18,  5,  0,  5,  6, 16,  5,\n",
              "         5, 20, 19, 23,  4,  5, 12,  5,  6, 18, 17,  5, 35,  7,  0]),\n",
              " array([17,  7, 24,  5, 16,  8, 11, 23, 16,  5,  0, 20,  2, 24,  7,  8,  7,\n",
              "        16, 19,  6, 35, 16,  2,  1, 12, 35,  1, 35,  5,  7,  5, 35]),\n",
              " array([ 2,  6, 22,  6, 22, 16,  1, 19, 24,  9,  0,  0,  3, 22, 19,  3,  9,\n",
              "         8,  1, 16, 12,  1, 11,  5, 16, 27, 22, 10,  6, 35, 12, 19]),\n",
              " array([35,  5, 19,  1, 16, 23, 22, 35, 35, 20,  9, 22, 12,  0, 30, 23,  6,\n",
              "         0,  3,  5,  2,  2,  6,  5,  2,  6, 30,  5,  1,  5,  0, 13]),\n",
              " array([10,  1, 24,  6, 20,  5,  4, 35,  5,  6,  5,  7, 35, 35, 35,  2,  3,\n",
              "         0, 19, 17, 22,  7,  8, 30,  6,  5,  0,  5,  9,  9, 22,  5]),\n",
              " array([ 0,  5,  0,  2,  2,  3,  7,  6,  6, 35,  2, 21,  6,  5, 35,  9, 12,\n",
              "         1,  1, 16, 22, 35,  4,  5, 19,  1, 22, 16,  6, 35, 16, 19]),\n",
              " array([ 8,  7, 23, 26, 23, 35,  2, 35,  2,  7, 16,  1,  3,  3,  5,  0, 24,\n",
              "         2,  1, 16,  5,  0, 22,  1,  7, 35,  1,  3, 17,  5,  5,  0]),\n",
              " array([ 8, 17,  5,  9,  0, 16, 16, 16,  0,  5, 20, 14, 16,  0, 12,  6,  3,\n",
              "        14, 35,  6,  6,  6,  3,  7, 23, 22, 22, 27,  1, 16,  3,  2]),\n",
              " array([ 7,  0,  3,  9, 22, 11, 35, 22,  1,  5,  2, 12, 22,  4, 16, 28,  5,\n",
              "        16,  6, 35,  0,  6, 18,  5,  0,  0,  9, 35, 35, 19, 11,  1]),\n",
              " array([ 6,  5, 25, 24,  0, 11, 35, 31, 18, 15, 30, 12, 10,  7, 19,  0,  7,\n",
              "        35,  6,  5,  2, 14, 35, 19,  2,  6, 24,  0,  3])]"
            ]
          },
          "metadata": {
            "tags": []
          },
          "execution_count": 48
        }
      ]
    },
    {
      "cell_type": "code",
      "metadata": {
        "colab": {
          "base_uri": "https://localhost:8080/"
        },
        "id": "5709w7ryO689",
        "outputId": "7577e137-2108-4a91-e762-09fc508bd94c"
      },
      "source": [
        "predictions"
      ],
      "execution_count": null,
      "outputs": [
        {
          "output_type": "execute_result",
          "data": {
            "text/plain": [
              "[array([[ 2.6283312 ,  0.7276557 ,  1.020252  , ..., -1.4433935 ,\n",
              "         -0.653481  ,  0.958957  ],\n",
              "        [ 2.7361376 ,  2.439749  ,  0.33003902, ..., -1.1545782 ,\n",
              "         -0.5607693 ,  0.8774007 ],\n",
              "        [ 4.7432942 ,  2.1375947 ,  1.8637413 , ..., -0.6735747 ,\n",
              "         -1.1040454 , -0.00869938],\n",
              "        ...,\n",
              "        [ 3.7167907 ,  2.608725  ,  3.345028  , ..., -0.28523582,\n",
              "         -0.9417792 , -1.068047  ],\n",
              "        [ 3.955473  ,  3.736404  ,  1.7469157 , ..., -0.27325457,\n",
              "         -0.8131046 , -0.6093335 ],\n",
              "        [ 2.1475942 ,  4.675297  ,  0.06354111, ..., -0.13121615,\n",
              "         -0.2660778 , -0.53477436]], dtype=float32),\n",
              " array([[ 2.2411082 ,  5.5579357 ,  0.8422232 , ..., -0.08015819,\n",
              "         -0.13314405, -0.27474728],\n",
              "        [ 2.2411082 ,  5.5579357 ,  0.8422232 , ..., -0.08015819,\n",
              "         -0.13314405, -0.27474728],\n",
              "        [ 2.2411082 ,  5.5579357 ,  0.8422232 , ..., -0.08015819,\n",
              "         -0.13314405, -0.27474728],\n",
              "        ...,\n",
              "        [ 0.05573349, -0.4461377 , -0.5540952 , ..., -0.2814181 ,\n",
              "         -0.17933424, -1.5580077 ],\n",
              "        [ 1.8490894 ,  3.1977584 ,  1.4495412 , ..., -0.09936753,\n",
              "         -0.5468856 , -1.1951863 ],\n",
              "        [ 0.04369121, -0.57943904, -0.7679369 , ..., -0.41295484,\n",
              "         -0.33492666, -1.6127852 ]], dtype=float32),\n",
              " array([[-0.79318917, -0.01651479,  0.9288097 , ...,  0.43923277,\n",
              "          0.38426006, -1.9567345 ],\n",
              "        [-1.3738047 , -0.40327132, -0.00685434, ...,  0.24255271,\n",
              "         -0.8692409 , -0.03559377],\n",
              "        [ 1.8490894 ,  3.1977584 ,  1.4495412 , ..., -0.09936753,\n",
              "         -0.5468856 , -1.1951863 ],\n",
              "        ...,\n",
              "        [-0.10259511, -0.10687794, -1.1902664 , ..., -1.1235261 ,\n",
              "          0.03867693,  5.442436  ],\n",
              "        [-0.15240204,  0.18650486, -1.0236251 , ..., -0.56198   ,\n",
              "          0.30248213,  6.7987757 ],\n",
              "        [-1.2456485 , -2.1066875 ,  1.9263833 , ...,  0.06051112,\n",
              "         -0.17539075, -0.75063205]], dtype=float32),\n",
              " array([[-1.4513131 , -2.5331688 ,  0.3007254 , ..., -0.05538038,\n",
              "         -0.16064689, -0.3309364 ],\n",
              "        [-0.12201269,  0.20498064, -1.1061356 , ..., -1.5048974 ,\n",
              "         -0.04552196,  2.1679268 ],\n",
              "        [-1.241594  , -1.1129596 ,  0.7087528 , ..., -0.254353  ,\n",
              "         -0.46539363, -0.2279752 ],\n",
              "        ...,\n",
              "        [-0.42158332, -1.3736033 , -1.3627944 , ..., -0.23925006,\n",
              "          0.3012442 , -0.5693599 ],\n",
              "        [ 2.5397327 ,  0.18743725,  5.697605  , ..., -0.3562459 ,\n",
              "         -0.7738066 , -1.3127997 ],\n",
              "        [-0.02674006, -0.42227706, -1.4760909 , ...,  0.00883516,\n",
              "          0.10920773,  1.4310684 ]], dtype=float32),\n",
              " array([[-2.0967145 , -0.9077071 , -2.3195884 , ..., -0.5411849 ,\n",
              "          0.85955113,  0.24742381],\n",
              "        [-0.18922834, -0.3360126 ,  0.82001144, ...,  0.07629343,\n",
              "         -0.26251394, -2.037445  ],\n",
              "        [ 3.5263102 ,  5.4353456 ,  1.022516  , ..., -0.3036703 ,\n",
              "         -0.4202977 ,  0.1556238 ],\n",
              "        ...,\n",
              "        [-0.34713134, -1.51627   ,  0.5916955 , ..., -0.8331384 ,\n",
              "         -0.39811653,  0.6057183 ],\n",
              "        [-0.07777737, -0.9074554 , -0.199825  , ...,  0.07907638,\n",
              "         -0.97628945,  0.61595815],\n",
              "        [-0.14446951, -2.444963  ,  1.2819607 , ..., -0.34849232,\n",
              "         -0.28729925, -1.2171769 ]], dtype=float32),\n",
              " array([[ 3.3371189e+00,  4.9911304e+00,  2.2338714e-01, ...,\n",
              "         -2.7820241e-01, -5.1449943e-01,  4.2732736e-01],\n",
              "        [ 1.5561365e+00,  3.4030633e+00,  1.0239050e+00, ...,\n",
              "         -1.6281253e-01, -4.9818459e-01, -1.1892715e+00],\n",
              "        [ 5.4477839e+00,  2.0791349e+00,  2.0292816e+00, ...,\n",
              "         -5.5092168e-01, -8.9505398e-01,  1.8715510e-01],\n",
              "        ...,\n",
              "        [-1.2425044e-01,  2.1301825e-01, -1.2775228e+00, ...,\n",
              "          3.9822883e-03,  5.9964681e-01,  4.8892155e+00],\n",
              "        [-9.3070388e-01, -6.3047677e-01, -1.8202612e+00, ...,\n",
              "         -4.6787881e-03,  1.0597658e+00,  2.8756690e+00],\n",
              "        [-2.4350874e-01, -6.3354927e-01, -1.3814538e+00, ...,\n",
              "         -4.2292589e-01,  3.8585371e-01,  1.8704894e+00]], dtype=float32),\n",
              " array([[-1.2912973 , -0.24688275, -0.41029587, ..., -0.31456828,\n",
              "         -0.58030045, -0.34977716],\n",
              "        [-0.857055  , -0.27788705, -1.3482423 , ..., -1.5524721 ,\n",
              "          0.75329065,  1.6924673 ],\n",
              "        [ 1.5277814 ,  0.28754622,  5.7681    , ..., -0.5758505 ,\n",
              "         -0.7316017 , -0.90776956],\n",
              "        ...,\n",
              "        [ 0.9252455 ,  1.4313493 , -1.0885357 , ..., -1.1341372 ,\n",
              "         -0.04371247,  0.7475737 ],\n",
              "        [-0.03101511,  0.29068753, -1.316416  , ...,  0.4868023 ,\n",
              "          0.48309445,  1.1575185 ],\n",
              "        [-0.27757213, -1.6124085 ,  0.0948227 , ...,  0.2164356 ,\n",
              "         -0.58646715,  0.48347715]], dtype=float32),\n",
              " array([[-0.35470474, -1.4652996 , -0.9210744 , ..., -0.2484989 ,\n",
              "          0.45553035, -1.1100638 ],\n",
              "        [ 4.0714025 ,  4.0845494 ,  1.591459  , ..., -0.37812653,\n",
              "         -0.6228136 , -0.4872025 ],\n",
              "        [-1.385991  , -2.06854   , -0.24853057, ...,  0.44655126,\n",
              "         -0.33497703,  0.18547408],\n",
              "        ...,\n",
              "        [ 1.7559582 ,  2.5684428 ,  2.274052  , ..., -0.19419062,\n",
              "         -0.5238549 , -1.2697244 ],\n",
              "        [-0.10259511, -0.10687794, -1.1902664 , ..., -1.1235261 ,\n",
              "          0.03867693,  5.442436  ],\n",
              "        [-1.6863462 , -1.2267554 , -1.9090688 , ..., -0.6434504 ,\n",
              "          0.39431053, -0.16037644]], dtype=float32),\n",
              " array([[-1.4498827e+00, -4.0902293e-01,  3.2622600e-01, ...,\n",
              "         -2.6226105e-02, -4.8921639e-01, -4.1608700e-01],\n",
              "        [ 2.3442864e+00,  5.5434666e+00,  2.1443750e-01, ...,\n",
              "         -3.6067206e-01, -3.7194419e-01,  9.4563431e-01],\n",
              "        [ 1.8329617e-01,  3.9072983e-02, -1.1587296e+00, ...,\n",
              "          3.3664972e-01,  5.4576576e-01,  8.5989320e-01],\n",
              "        ...,\n",
              "        [-1.2872301e+00, -9.4895691e-01,  1.2019070e+00, ...,\n",
              "         -3.3994171e-01, -6.3571519e-01, -2.0740795e-01],\n",
              "        [-7.0828611e-01, -3.1783929e-01, -1.2943408e+00, ...,\n",
              "         -1.5582952e+00,  1.0023631e-01,  1.5554994e+00],\n",
              "        [-1.3189641e-01, -1.8418734e+00,  3.9094952e-01, ...,\n",
              "         -6.4240968e-01,  1.9675198e-01,  1.6293768e-03]], dtype=float32),\n",
              " array([[-0.12201269,  0.20498064, -1.1061356 , ..., -1.5048974 ,\n",
              "         -0.04552196,  2.1679268 ],\n",
              "        [-1.3604056 , -0.63658667,  0.6360944 , ..., -0.28212625,\n",
              "         -0.6871476 , -0.26396486],\n",
              "        [-0.31504807, -0.041572  , -1.6034055 , ...,  0.26672864,\n",
              "          0.58172065,  0.8642031 ],\n",
              "        ...,\n",
              "        [-0.15240204,  0.18650486, -1.0236251 , ..., -0.56198   ,\n",
              "          0.30248213,  6.7987757 ],\n",
              "        [-0.05739791, -0.52025974, -0.5779181 , ..., -0.14398009,\n",
              "         -0.2904908 , -1.275632  ],\n",
              "        [ 5.4008493 ,  1.4194841 ,  1.7207367 , ..., -0.20099455,\n",
              "         -0.7994994 ,  0.38345268]], dtype=float32),\n",
              " array([[ 1.1616704 , -0.28326318,  0.7257487 , ...,  0.9036186 ,\n",
              "         -0.30665338, -0.8559589 ],\n",
              "        [-0.10480042, -0.28933832, -0.6456813 , ...,  0.02440888,\n",
              "         -0.25858974, -1.5486398 ],\n",
              "        [-2.2612393 , -2.291981  ,  0.16448162, ...,  0.2987401 ,\n",
              "          0.03129987, -0.58123416],\n",
              "        ...,\n",
              "        [-0.05739791, -0.52025974, -0.5779181 , ..., -0.14398009,\n",
              "         -0.2904908 , -1.275632  ],\n",
              "        [-0.4254518 , -0.3269284 , -1.5063539 , ...,  0.49318567,\n",
              "          0.63099664,  1.4005992 ],\n",
              "        [-0.19531246, -0.07360213, -1.2304587 , ..., -1.1012934 ,\n",
              "          0.03167619,  5.4677286 ]], dtype=float32),\n",
              " array([[ 1.2343408e+00, -3.6260352e-01,  5.7153435e+00, ...,\n",
              "         -3.0181384e-01, -8.9433050e-01, -9.6895820e-01],\n",
              "        [-3.2867852e-01,  1.2978673e-02, -1.0197840e+00, ...,\n",
              "         -1.5072734e+00,  9.5230013e-02,  1.8652539e+00],\n",
              "        [-1.6607300e+00, -2.2604480e+00,  9.9131346e-01, ...,\n",
              "          3.4173599e-01,  1.8850060e-02, -5.1507086e-01],\n",
              "        ...,\n",
              "        [-1.2425044e-01,  2.1301825e-01, -1.2775228e+00, ...,\n",
              "          3.9822883e-03,  5.9964681e-01,  4.8892155e+00],\n",
              "        [-9.7510144e-02, -1.9702780e+00,  4.5930326e-01, ...,\n",
              "         -6.6396201e-01,  9.6114121e-02, -5.8974400e-02],\n",
              "        [-8.6684251e-01, -1.7679863e+00, -1.0374082e+00, ...,\n",
              "         -2.1211493e-01,  2.4453972e-01, -1.3430579e+00]], dtype=float32),\n",
              " array([[-1.2425044e-01,  2.1301825e-01, -1.2775228e+00, ...,\n",
              "          3.9822883e-03,  5.9964681e-01,  4.8892155e+00],\n",
              "        [ 1.5364186e-01,  2.7761033e-01, -1.3759539e+00, ...,\n",
              "          5.0093186e-01,  4.5218664e-01,  1.1204605e+00],\n",
              "        [-4.2014983e-01, -1.4582633e+00, -9.1345739e-01, ...,\n",
              "         -4.2260769e-01,  5.0891936e-01, -1.5649290e+00],\n",
              "        ...,\n",
              "        [ 9.0425536e-02, -1.4648898e-01, -1.1536282e+00, ...,\n",
              "          3.1349307e-01,  3.9398527e-01,  6.2706023e-01],\n",
              "        [-1.0176355e+00, -1.3537338e+00, -1.6272445e+00, ...,\n",
              "         -5.7271842e-02,  5.4724264e-01,  4.4944258e+00],\n",
              "        [-2.5962813e+00, -2.6973848e+00, -1.3902669e+00, ...,\n",
              "          1.5468273e-01,  4.9469572e-01, -7.0435441e-01]], dtype=float32),\n",
              " array([[-1.4520407e+00, -1.7714212e+00, -1.5534338e+00, ...,\n",
              "         -9.2527992e-01,  2.8394738e-01, -5.7306319e-01],\n",
              "        [ 3.1299751e+00,  3.5491283e+00,  1.9916333e+00, ...,\n",
              "         -3.0931196e-01, -2.1862167e-01, -1.1459134e+00],\n",
              "        [-1.1416471e+00, -1.3537049e+00, -9.6049351e-01, ...,\n",
              "         -1.6091280e+00,  9.5875579e-01,  3.7593055e-01],\n",
              "        ...,\n",
              "        [-2.0357072e+00, -1.3662980e+00, -7.4920756e-01, ...,\n",
              "          5.3253930e-02, -4.3210712e-01, -8.2727718e-01],\n",
              "        [-1.4298085e+00, -2.1928327e+00,  1.2299500e+00, ...,\n",
              "          2.3217374e-01,  2.1770317e-03, -5.9082192e-01],\n",
              "        [-9.3070388e-01, -6.3047677e-01, -1.8202612e+00, ...,\n",
              "         -4.6787881e-03,  1.0597658e+00,  2.8756690e+00]], dtype=float32),\n",
              " array([[ 4.3957057 ,  4.0150647 ,  0.3825745 , ..., -0.49495855,\n",
              "         -0.6067732 ,  1.3359091 ],\n",
              "        [-0.2267436 ,  0.13760518, -1.515327  , ..., -1.2291838 ,\n",
              "          0.12787673,  1.9018317 ],\n",
              "        [ 2.267337  ,  4.806699  , -0.01307736, ..., -0.06946004,\n",
              "         -0.33983654,  0.6932083 ],\n",
              "        ...,\n",
              "        [-0.15240204,  0.18650486, -1.0236251 , ..., -0.56198   ,\n",
              "          0.30248213,  6.7987757 ],\n",
              "        [-1.9526297 , -1.5433913 , -0.9411982 , ..., -0.32982856,\n",
              "         -0.20983595, -0.61486834],\n",
              "        [-0.35470474, -1.4652996 , -0.9210744 , ..., -0.2484989 ,\n",
              "          0.45553035, -1.1100638 ]], dtype=float32),\n",
              " array([[-0.5160448 , -0.5764189 , -0.59236085, ...,  0.549239  ,\n",
              "          0.11551377, -0.6008699 ],\n",
              "        [ 0.19435573, -0.38697162, -0.49329755, ..., -0.2078411 ,\n",
              "         -0.21839324, -1.4489975 ],\n",
              "        [-0.6686461 , -1.2238717 ,  0.0815811 , ..., -0.37914488,\n",
              "         -0.46891564,  0.40028244],\n",
              "        ...,\n",
              "        [ 0.09321676, -0.10885811, -0.77194506, ...,  0.4480667 ,\n",
              "          0.397151  , -0.73433447],\n",
              "        [ 0.15364186,  0.27761033, -1.3759539 , ...,  0.50093186,\n",
              "          0.45218664,  1.1204605 ],\n",
              "        [ 4.236476  ,  0.29471502,  0.5823064 , ..., -0.08581021,\n",
              "         -0.9668795 ,  0.09306822]], dtype=float32),\n",
              " array([[-3.8251016e-02, -8.4247786e-01, -7.5609404e-01, ...,\n",
              "          3.5834428e-02, -6.1354548e-01, -1.4777092e-02],\n",
              "        [ 1.5914124e+00, -1.4014965e-01, -7.0330089e-01, ...,\n",
              "          6.6066217e-01, -5.7196856e-02,  6.7396885e-01],\n",
              "        [-6.8373948e-01, -3.5393572e-01, -1.7162153e+00, ...,\n",
              "         -3.8875256e-02,  8.2599699e-01,  1.2300994e+00],\n",
              "        ...,\n",
              "        [-1.3861629e+00, -4.3694222e-01,  1.2526102e-01, ...,\n",
              "         -1.5234102e-01, -6.8012834e-01, -1.5620285e-01],\n",
              "        [-2.4243870e-01,  3.2943234e-01, -1.0618491e+00, ...,\n",
              "         -1.3375961e+00,  1.2016613e-03,  1.0474267e+00],\n",
              "        [ 2.3028669e+00, -5.6987852e-03,  5.6972294e+00, ...,\n",
              "         -3.3444664e-01, -8.4918565e-01, -1.3616984e+00]], dtype=float32),\n",
              " array([[-0.02222229, -0.41557232, -0.51306754, ..., -0.22056708,\n",
              "         -0.18278351, -1.3421873 ],\n",
              "        [ 4.1118464 ,  1.6761947 ,  0.43565112, ..., -0.5736939 ,\n",
              "         -0.28586522, -0.04720091],\n",
              "        [ 1.4868976 ,  2.98252   , -0.3821809 , ..., -0.31203216,\n",
              "          0.0713118 ,  0.47058448],\n",
              "        ...,\n",
              "        [-0.38430265, -1.5297058 , -0.9485273 , ..., -0.2242066 ,\n",
              "          0.45732582, -1.0218556 ],\n",
              "        [-0.24294981, -2.7166104 ,  1.1686704 , ..., -0.30710793,\n",
              "         -0.5038481 , -0.94340754],\n",
              "        [ 3.177159  ,  3.5652757 ,  2.8271558 , ..., -0.38167018,\n",
              "         -0.48243427, -0.87709105]], dtype=float32),\n",
              " array([[ 2.72997588e-01,  6.07427299e-01, -8.20024908e-01, ...,\n",
              "         -1.41192210e+00, -1.22290954e-01,  2.03927827e+00],\n",
              "        [-1.24250442e-01,  2.13018253e-01, -1.27752280e+00, ...,\n",
              "          3.98228830e-03,  5.99646807e-01,  4.88921547e+00],\n",
              "        [-2.38209271e+00, -1.24459100e+00, -1.80579162e+00, ...,\n",
              "          1.95686936e-01,  8.18438888e-01,  1.01572871e+00],\n",
              "        ...,\n",
              "        [-1.69087493e+00, -1.56372511e+00, -9.60803330e-01, ...,\n",
              "         -1.34369493e+00,  1.19154036e+00,  5.01230121e-01],\n",
              "        [ 5.40084934e+00,  1.41948414e+00,  1.72073674e+00, ...,\n",
              "         -2.00994551e-01, -7.99499393e-01,  3.83452684e-01],\n",
              "        [ 1.48832810e+00,  1.73845100e+00, -5.14662206e-01, ...,\n",
              "         -5.43683410e-01, -1.40311345e-01,  6.51135862e-01]], dtype=float32)]"
            ]
          },
          "metadata": {
            "tags": []
          },
          "execution_count": 49
        }
      ]
    },
    {
      "cell_type": "markdown",
      "metadata": {
        "id": "XHZw6IRst1tJ"
      },
      "source": [
        "Merenja"
      ]
    },
    {
      "cell_type": "code",
      "metadata": {
        "colab": {
          "base_uri": "https://localhost:8080/"
        },
        "id": "xOQTE4ECGWpb",
        "outputId": "afe2fc7d-715c-4f85-d2d2-a52d3d29ea0a"
      },
      "source": [
        "from sklearn.metrics import matthews_corrcoef\n",
        "matthews_set = []\n",
        "# Evaluate  na sekoj test batch so koristenje na  Matthew's correlation coefficient\n",
        "print('Calculating Matthews Corr. Coef. for each batch...')\n",
        "# za sekoj input batch...\n",
        "for i in range(len(true_labels)):\n",
        "  \n",
        "  # predviduvanjata za sekoj batchs e  2-column ndarray (edna kolona za \"0\" \n",
        "  # i edna kolna za \"1\"). izberi recenica so najvisoka vrednosrt za labela i \n",
        "  # napravi ja kako lista od  0s i  1s.\n",
        "  pred_labels_i = np.argmax(predictions[i], axis=1).flatten()\n",
        "  # print(pred_labels_i)\n",
        "  # Presmetaj i zacuvaj go  coef za dadeniot batch.  \n",
        "  matthews = matthews_corrcoef(true_labels[i], pred_labels_i)                \n",
        "  matthews_set.append(matthews)"
      ],
      "execution_count": null,
      "outputs": [
        {
          "output_type": "stream",
          "text": [
            "Calculating Matthews Corr. Coef. for each batch...\n"
          ],
          "name": "stdout"
        }
      ]
    },
    {
      "cell_type": "code",
      "metadata": {
        "colab": {
          "base_uri": "https://localhost:8080/"
        },
        "id": "GOPCO1oBGgvq",
        "outputId": "3bf8b717-ef9a-4e11-a9d0-9720c3659325"
      },
      "source": [
        "matthews_set"
      ],
      "execution_count": null,
      "outputs": [
        {
          "output_type": "execute_result",
          "data": {
            "text/plain": [
              "[0.3876561992308816,\n",
              " 0.6007708676150975,\n",
              " 0.774397068514671,\n",
              " 0.934338539153302,\n",
              " 0.8344017094017094,\n",
              " 0.8328391075618589,\n",
              " 0.7268570809498248,\n",
              " 0.8052100807529393,\n",
              " 0.7299710272164798,\n",
              " 0.8259748375310426,\n",
              " 0.8023504273504274,\n",
              " 0.70096425423561,\n",
              " 0.6978898086473796,\n",
              " 0.7005900799982019,\n",
              " 0.6982942430703625,\n",
              " 0.6985112662398038,\n",
              " 0.6671017804495861,\n",
              " 0.9364427796516592,\n",
              " 0.7835467939002064]"
            ]
          },
          "metadata": {
            "tags": []
          },
          "execution_count": 51
        }
      ]
    },
    {
      "cell_type": "code",
      "metadata": {
        "colab": {
          "base_uri": "https://localhost:8080/"
        },
        "id": "vmxeiqrJGiFH",
        "outputId": "7761aae4-4044-418f-df99-dbf2e8113a21"
      },
      "source": [
        "# Combine the predictions for each batch into a single list of 0s and 1s.\n",
        "flat_predictions = [item for sublist in predictions for item in sublist]\n",
        "flat_predictions = np.argmax(flat_predictions, axis=1).flatten()\n",
        "# Combine the correct labels for each batch into a single list.\n",
        "flat_true_labels = [item for sublist in true_labels for item in sublist]\n",
        "# Calculate the MCC\n",
        "mcc = matthews_corrcoef(flat_true_labels, flat_predictions)\n",
        "print('MCC: %.3f' % mcc)"
      ],
      "execution_count": null,
      "outputs": [
        {
          "output_type": "stream",
          "text": [
            "MCC: 0.750\n"
          ],
          "name": "stdout"
        }
      ]
    },
    {
      "cell_type": "code",
      "metadata": {
        "colab": {
          "base_uri": "https://localhost:8080/"
        },
        "id": "-ll_djBhPkfe",
        "outputId": "97f59bd1-f6a8-449d-b172-b9befca5c24d"
      },
      "source": [
        "flat_predictions"
      ],
      "execution_count": null,
      "outputs": [
        {
          "output_type": "execute_result",
          "data": {
            "text/plain": [
              "array([ 6,  6,  0,  0,  0,  2,  1,  0,  1,  2,  2,  2,  2,  1,  1,  1,  0,\n",
              "        4,  4,  8,  1,  1,  1,  2,  2,  2,  2,  2,  1,  0,  0,  1,  1,  1,\n",
              "        1,  3,  3,  3,  2,  2,  0,  6,  3,  5,  5, 12, 12,  5,  5,  5,  0,\n",
              "        0,  0,  2,  2,  2,  2,  2,  2, 30,  5,  7,  4,  7,  9, 16,  4, 19,\n",
              "       23,  7,  5, 16,  3, 19, 12,  5,  0, 35,  1, 12,  9, 16,  7, 18,  0,\n",
              "        8, 22, 19,  4,  3,  6, 20, 35, 35, 35, 22, 22,  6, 16,  7, 35, 17,\n",
              "       16,  1, 35, 24, 19, 35,  6, 23, 19,  6, 16,  6,  2,  6,  7,  9,  5,\n",
              "       24, 22,  0,  6,  3, 19, 19,  2,  5, 18,  9,  1,  2,  1,  5,  2,  3,\n",
              "       35,  5, 22,  8,  3,  1, 16,  2, 35, 35, 18, 22,  0, 16,  0, 35,  5,\n",
              "        2, 16,  5,  7, 23, 27, 11,  1,  4,  0, 22, 14,  7, 35, 18, 10,  5,\n",
              "        1,  1, 34,  3, 22,  7, 19, 35,  5,  6,  0, 35, 19, 35, 16, 35,  1,\n",
              "        4, 20,  5,  5,  5, 16,  6,  2, 35,  5,  5, 16,  1, 16,  1,  0,  5,\n",
              "       19,  7, 16, 35,  1,  8,  6,  7,  6,  5, 20,  6, 16,  8,  7,  5,  5,\n",
              "        6,  5,  8, 19,  1,  8, 22,  4, 12, 24, 35, 19,  6, 22, 11, 22,  8,\n",
              "        5,  7,  2, 16,  5, 27, 14, 16, 27, 24, 16, 20,  2, 16,  0,  4, 35,\n",
              "       10, 16,  1,  5, 13,  6, 16,  0, 16, 35, 35, 22,  0,  1, 19, 16, 16,\n",
              "        5, 24,  5,  6, 35,  5, 22,  9, 22,  6, 35,  3,  6, 16,  6, 12,  6,\n",
              "       16,  5, 16, 14, 16,  1, 35,  7, 22, 18,  5,  0,  6,  6, 16,  5,  5,\n",
              "       20, 19, 23,  2,  5, 12,  5,  5, 18,  5,  5, 35,  7,  0, 17,  7, 22,\n",
              "        5, 19, 22, 11, 23, 16,  5,  0, 20,  1,  7,  7,  8,  7, 16, 19,  6,\n",
              "       35, 16,  2,  4, 12, 35,  1, 35,  5,  7,  5, 35,  2,  6, 22,  6, 22,\n",
              "       16,  1, 19, 24,  9,  1,  0,  1, 23, 22,  5, 22,  8,  3, 16, 12,  1,\n",
              "       11,  5, 16, 35, 22, 10,  6,  5, 12, 19,  5,  5, 19,  2, 16, 23,  5,\n",
              "       35, 35, 20,  9, 16, 12,  0, 19, 23,  6,  1,  3,  5,  1,  2,  6,  5,\n",
              "        2,  6, 30,  5,  1,  5, 35, 22, 19,  1, 24, 35, 20,  5,  1, 35,  5,\n",
              "        6,  5,  7,  5, 35, 35,  1,  5,  0, 19, 17, 22,  7,  8, 30,  6, 19,\n",
              "        1,  5,  9, 16, 22,  5,  0,  6,  1,  0,  2,  4,  7,  6,  6, 35,  2,\n",
              "       21, 35,  5,  5,  9, 12,  1,  1, 16, 22, 35,  4,  5,  7,  4, 22, 16,\n",
              "       22, 35, 16, 19,  5,  7, 23, 27, 23, 35,  2,  5,  2,  7, 16,  1,  3,\n",
              "        1,  5,  0,  5,  2,  1, 22,  5,  1, 22,  0,  7, 35,  1,  1, 17,  5,\n",
              "        5,  0,  8,  5,  5, 16,  0, 22, 16, 16,  1,  5, 20, 16, 16,  1,  6,\n",
              "        6,  3, 14, 35, 22,  6,  6,  3,  7, 23, 22, 22, 35,  1, 16,  6,  2,\n",
              "        7,  0,  3,  9, 22, 11, 35, 22,  1,  5,  2, 12, 22,  4, 16, 28,  5,\n",
              "       16,  6,  5,  0,  6, 18,  5,  0,  0,  9,  5, 35, 19, 11,  1,  6,  5,\n",
              "       18,  7,  0, 11, 35, 19, 18,  6, 30, 12, 14,  7, 19,  0,  7,  5,  6,\n",
              "        5,  2, 14, 35, 19,  2,  6, 24,  0,  3])"
            ]
          },
          "metadata": {
            "tags": []
          },
          "execution_count": 53
        }
      ]
    },
    {
      "cell_type": "code",
      "metadata": {
        "id": "TgVKAd12Ninb"
      },
      "source": [
        "import numpy as np\n",
        "from sklearn.metrics import f1_score\n",
        "def f1_score_func(preds, labels):\n",
        "    # preds_flat = np.argmax(preds, axis=1).flatten()\n",
        "    # labels_flat = labels.flatten()\n",
        "    return f1_score(preds, labels, average = 'weighted')"
      ],
      "execution_count": null,
      "outputs": []
    },
    {
      "cell_type": "code",
      "metadata": {
        "colab": {
          "base_uri": "https://localhost:8080/"
        },
        "id": "oBnmWkh3PyRX",
        "outputId": "7eee0ece-aa57-4719-bbe8-b8270725610a"
      },
      "source": [
        "f1=f1_score_func(flat_predictions,flat_true_labels)\n",
        "f1"
      ],
      "execution_count": null,
      "outputs": [
        {
          "output_type": "execute_result",
          "data": {
            "text/plain": [
              "0.775767716721545"
            ]
          },
          "metadata": {
            "tags": []
          },
          "execution_count": 55
        }
      ]
    },
    {
      "cell_type": "code",
      "metadata": {
        "id": "GYyH4NJdNn3b"
      },
      "source": [
        "def accuracy_per_class(preds, labels):\n",
        "    label_dict_inverse = {v: k for k, v in label_dict.items()}\n",
        "    \n",
        "    # preds_flat = np.argmax(preds, axis=1).flatten()\n",
        "    # labels_flat = labels.flatten()\n",
        "    \n",
        "    for label in np.unique(labels):\n",
        "        y_preds = preds[preds==label]\n",
        "        y_true = labels[labels==label]\n",
        "        print(f'Class: {label_dict_inverse[label]}')\n",
        "        print(f'Accuracy:{len(y_preds[y_preds==label])}/{len(y_true)}\\n')"
      ],
      "execution_count": null,
      "outputs": []
    },
    {
      "cell_type": "code",
      "metadata": {
        "colab": {
          "base_uri": "https://localhost:8080/"
        },
        "id": "ShPR98Oe2YIo",
        "outputId": "05e14cf2-c940-4f9b-de5a-46d1274b83e4"
      },
      "source": [
        "novo=pd.concat([trening, test], ignore_index=True, sort=False)\n",
        "novo.Sentiment.unique()\n"
      ],
      "execution_count": null,
      "outputs": [
        {
          "output_type": "execute_result",
          "data": {
            "text/plain": [
              "array([ 6, 34, 13, 35,  5, 10, 24, 22,  2,  0,  4, 20,  7,  8, 16,  9, 19,\n",
              "        1, 14, 18, 23,  3, 17, 27, 12, 30, 11, 31, 32, 15, 33, 25, 21, 29,\n",
              "       28, 26])"
            ]
          },
          "metadata": {
            "tags": []
          },
          "execution_count": 57
        }
      ]
    },
    {
      "cell_type": "code",
      "metadata": {
        "id": "iluJNoZaRs2d"
      },
      "source": [
        "label_dict = {}\n",
        "possible_labels = novo.Sentiment.unique()\n",
        "\n",
        "for index, possible_label in enumerate(possible_labels):\n",
        "    label_dict[possible_label] = index"
      ],
      "execution_count": null,
      "outputs": []
    },
    {
      "cell_type": "code",
      "metadata": {
        "colab": {
          "base_uri": "https://localhost:8080/"
        },
        "id": "eIFwrls2ST16",
        "outputId": "4d11c87b-3849-4229-a43a-5792ca352348"
      },
      "source": [
        "np.array(flat_true_labels)"
      ],
      "execution_count": null,
      "outputs": [
        {
          "output_type": "execute_result",
          "data": {
            "text/plain": [
              "array([ 3,  3,  3,  0,  0,  2,  0,  0,  0,  2,  2,  2,  2,  1,  1,  1,  3,\n",
              "        1,  1,  0,  0,  0,  1,  1,  3,  3,  2,  2,  0,  0,  0,  3,  1,  1,\n",
              "        1,  3,  3,  3,  2,  2,  3,  3,  3,  3,  3,  3,  3,  0,  0,  0,  3,\n",
              "        3,  3,  2,  2,  2,  2,  2,  2, 30,  5,  7,  4,  7,  9, 16,  4, 19,\n",
              "       23,  7, 33, 16,  3, 19, 12, 24,  0, 35,  3, 12, 22, 13,  7, 18,  0,\n",
              "        8, 22, 22,  4,  3,  6, 20,  6, 35, 35, 22, 22,  6, 16,  7, 35, 17,\n",
              "       16,  1, 35,  5, 19, 35,  6, 23, 19,  6, 16,  5,  2,  6,  7,  9,  5,\n",
              "       24, 22,  0,  6,  3, 19, 19,  2,  5, 18, 16,  0,  2,  4, 35,  2,  3,\n",
              "       35,  5, 22,  8,  3,  1, 10,  2, 35, 35, 18, 22,  0, 16,  0, 35,  5,\n",
              "        2, 16,  5,  7, 23, 27, 11,  0,  4,  0, 22, 14,  7, 27, 18, 10,  5,\n",
              "        1,  1, 34,  3, 22,  7, 19, 35,  5, 15,  0,  6, 19, 35, 16, 35,  1,\n",
              "        4, 20, 35,  5,  5, 16, 15,  2, 35,  5, 35,  2,  3, 16,  1,  0, 33,\n",
              "       19,  7, 16, 35,  1,  8,  6,  7,  5,  5, 20,  6, 16,  5,  7,  5,  5,\n",
              "       24,  5,  8, 19,  1,  8, 22,  4, 12, 19,  6, 19,  3, 12, 11, 22,  8,\n",
              "        5, 18,  2, 16,  5, 27, 14,  8, 27, 24, 16, 20,  2, 16,  0,  4, 35,\n",
              "       10, 16,  3, 33, 13,  6, 16,  0, 16, 35, 35, 22,  0,  1, 10, 16, 16,\n",
              "        5, 24,  5,  6,  6, 24,  9,  9, 22, 24,  6,  3,  6, 16,  6, 12,  6,\n",
              "       16,  5, 16, 10, 16,  1, 35,  7, 22, 18,  5,  0,  5,  6, 16,  5,  5,\n",
              "       20, 19, 23,  4,  5, 12,  5,  6, 18, 17,  5, 35,  7,  0, 17,  7, 24,\n",
              "        5, 16,  8, 11, 23, 16,  5,  0, 20,  2, 24,  7,  8,  7, 16, 19,  6,\n",
              "       35, 16,  2,  1, 12, 35,  1, 35,  5,  7,  5, 35,  2,  6, 22,  6, 22,\n",
              "       16,  1, 19, 24,  9,  0,  0,  3, 22, 19,  3,  9,  8,  1, 16, 12,  1,\n",
              "       11,  5, 16, 27, 22, 10,  6, 35, 12, 19, 35,  5, 19,  1, 16, 23, 22,\n",
              "       35, 35, 20,  9, 22, 12,  0, 30, 23,  6,  0,  3,  5,  2,  2,  6,  5,\n",
              "        2,  6, 30,  5,  1,  5,  0, 13, 10,  1, 24,  6, 20,  5,  4, 35,  5,\n",
              "        6,  5,  7, 35, 35, 35,  2,  3,  0, 19, 17, 22,  7,  8, 30,  6,  5,\n",
              "        0,  5,  9,  9, 22,  5,  0,  5,  0,  2,  2,  3,  7,  6,  6, 35,  2,\n",
              "       21,  6,  5, 35,  9, 12,  1,  1, 16, 22, 35,  4,  5, 19,  1, 22, 16,\n",
              "        6, 35, 16, 19,  8,  7, 23, 26, 23, 35,  2, 35,  2,  7, 16,  1,  3,\n",
              "        3,  5,  0, 24,  2,  1, 16,  5,  0, 22,  1,  7, 35,  1,  3, 17,  5,\n",
              "        5,  0,  8, 17,  5,  9,  0, 16, 16, 16,  0,  5, 20, 14, 16,  0, 12,\n",
              "        6,  3, 14, 35,  6,  6,  6,  3,  7, 23, 22, 22, 27,  1, 16,  3,  2,\n",
              "        7,  0,  3,  9, 22, 11, 35, 22,  1,  5,  2, 12, 22,  4, 16, 28,  5,\n",
              "       16,  6, 35,  0,  6, 18,  5,  0,  0,  9, 35, 35, 19, 11,  1,  6,  5,\n",
              "       25, 24,  0, 11, 35, 31, 18, 15, 30, 12, 10,  7, 19,  0,  7, 35,  6,\n",
              "        5,  2, 14, 35, 19,  2,  6, 24,  0,  3])"
            ]
          },
          "metadata": {
            "tags": []
          },
          "execution_count": 59
        }
      ]
    },
    {
      "cell_type": "code",
      "metadata": {
        "colab": {
          "base_uri": "https://localhost:8080/"
        },
        "id": "nHOXeOtbQjqQ",
        "outputId": "c8efbb14-18ec-4eb8-ec76-30da481ea83e"
      },
      "source": [
        "acc_klasi=accuracy_per_class(flat_predictions,np.array(flat_true_labels))"
      ],
      "execution_count": null,
      "outputs": [
        {
          "output_type": "stream",
          "text": [
            "Class: 6\n",
            "Accuracy:41/52\n",
            "\n",
            "Class: 34\n",
            "Accuracy:56/38\n",
            "\n",
            "Class: 13\n",
            "Accuracy:42/42\n",
            "\n",
            "Class: 35\n",
            "Accuracy:18/44\n",
            "\n",
            "Class: 5\n",
            "Accuracy:14/12\n",
            "\n",
            "Class: 10\n",
            "Accuracy:83/61\n",
            "\n",
            "Class: 24\n",
            "Accuracy:48/43\n",
            "\n",
            "Class: 22\n",
            "Accuracy:32/28\n",
            "\n",
            "Class: 2\n",
            "Accuracy:12/13\n",
            "\n",
            "Class: 0\n",
            "Accuracy:11/13\n",
            "\n",
            "Class: 4\n",
            "Accuracy:3/8\n",
            "\n",
            "Class: 20\n",
            "Accuracy:7/7\n",
            "\n",
            "Class: 7\n",
            "Accuracy:14/14\n",
            "\n",
            "Class: 8\n",
            "Accuracy:1/3\n",
            "\n",
            "Class: 16\n",
            "Accuracy:6/5\n",
            "\n",
            "Class: 9\n",
            "Accuracy:0/3\n",
            "\n",
            "Class: 19\n",
            "Accuracy:50/46\n",
            "\n",
            "Class: 1\n",
            "Accuracy:4/6\n",
            "\n",
            "Class: 14\n",
            "Accuracy:9/9\n",
            "\n",
            "Class: 18\n",
            "Accuracy:28/24\n",
            "\n",
            "Class: 23\n",
            "Accuracy:9/9\n",
            "\n",
            "Class: 3\n",
            "Accuracy:1/1\n",
            "\n",
            "Class: 17\n",
            "Accuracy:37/31\n",
            "\n",
            "Class: 27\n",
            "Accuracy:11/10\n",
            "\n",
            "Class: 12\n",
            "Accuracy:8/14\n",
            "\n",
            "Class: 30\n",
            "Accuracy:0/1\n",
            "\n",
            "Class: 11\n",
            "Accuracy:0/1\n",
            "\n",
            "Class: 31\n",
            "Accuracy:4/6\n",
            "\n",
            "Class: 32\n",
            "Accuracy:1/1\n",
            "\n",
            "Class: 33\n",
            "Accuracy:4/5\n",
            "\n",
            "Class: 25\n",
            "Accuracy:0/1\n",
            "\n",
            "Class: 29\n",
            "Accuracy:0/3\n",
            "\n",
            "Class: 28\n",
            "Accuracy:1/1\n",
            "\n",
            "Class: 26\n",
            "Accuracy:50/50\n",
            "\n"
          ],
          "name": "stdout"
        }
      ]
    }
  ]
}